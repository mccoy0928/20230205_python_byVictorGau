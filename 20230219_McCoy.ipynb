{
  "nbformat": 4,
  "nbformat_minor": 0,
  "metadata": {
    "colab": {
      "provenance": [],
      "authorship_tag": "ABX9TyOkp92pOQgDSr4mXDOdDfzM",
      "include_colab_link": true
    },
    "kernelspec": {
      "name": "python3",
      "display_name": "Python 3"
    },
    "language_info": {
      "name": "python"
    }
  },
  "cells": [
    {
      "cell_type": "markdown",
      "metadata": {
        "id": "view-in-github",
        "colab_type": "text"
      },
      "source": [
        "<a href=\"https://colab.research.google.com/github/mccoy0928/20230205_python_byVictorGau/blob/main/20230219_McCoy.ipynb\" target=\"_parent\"><img src=\"https://colab.research.google.com/assets/colab-badge.svg\" alt=\"Open In Colab\"/></a>"
      ]
    },
    {
      "cell_type": "markdown",
      "source": [
        "# 2023-02-19 Python 上課筆記\n",
        "\n"
      ],
      "metadata": {
        "id": "egYKtp6tLZps"
      }
    },
    {
      "cell_type": "markdown",
      "source": [
        "## Microbit python\n",
        "* [Microbit Python](https://python.microbit.org/v/3)\n",
        "\n",
        "```python\n",
        "# Imports go at the top\n",
        "from microbit import *\n",
        "\n",
        "display.clear()\n",
        "x = 0\n",
        "y = 0\n",
        "display.set_pixel(x,y,9)\n",
        "\n",
        "while True:\n",
        "    if button_a.was_pressed():\n",
        "        x = x + 1\n",
        "        display.clear()\n",
        "        display.set_pixel(x%5,y,9)\n",
        "\n",
        "```\n"
      ],
      "metadata": {
        "id": "XY83iFtzUbSa"
      }
    },
    {
      "cell_type": "markdown",
      "source": [
        "## 複習requests的使用\n",
        "從政府資料開放平台"
      ],
      "metadata": {
        "id": "bz3p3iW7VF-w"
      }
    },
    {
      "cell_type": "code",
      "execution_count": null,
      "metadata": {
        "id": "TvGyy5aoLTou"
      },
      "outputs": [],
      "source": [
        "import requests"
      ]
    },
    {
      "cell_type": "code",
      "source": [
        "url = \"https://apiservice.mol.gov.tw/OdService/download/A17000000J-030244-dpp\""
      ],
      "metadata": {
        "id": "RkOIHAjmXP4k"
      },
      "execution_count": null,
      "outputs": []
    },
    {
      "cell_type": "code",
      "source": [
        "data = requests.get(url).json() #載入連結網址資料並轉換json格式"
      ],
      "metadata": {
        "id": "JhFFn_GOXZle"
      },
      "execution_count": null,
      "outputs": []
    },
    {
      "cell_type": "code",
      "source": [
        "data #資料為list, list中還有dict"
      ],
      "metadata": {
        "id": "QYX4kwFLXhI1"
      },
      "execution_count": null,
      "outputs": []
    },
    {
      "cell_type": "code",
      "source": [
        "type(data[0])"
      ],
      "metadata": {
        "colab": {
          "base_uri": "https://localhost:8080/"
        },
        "id": "xgP-cCIfXtVG",
        "outputId": "d95a31b9-6af3-46a0-e580-f28a8e44f9a5"
      },
      "execution_count": null,
      "outputs": [
        {
          "output_type": "execute_result",
          "data": {
            "text/plain": [
              "dict"
            ]
          },
          "metadata": {},
          "execution_count": 9
        }
      ]
    },
    {
      "cell_type": "code",
      "source": [
        "data[0]"
      ],
      "metadata": {
        "id": "yFnkEcsXZR7N"
      },
      "execution_count": null,
      "outputs": []
    },
    {
      "cell_type": "code",
      "source": [
        "len(data)"
      ],
      "metadata": {
        "id": "cP3xuUHRYg9z"
      },
      "execution_count": null,
      "outputs": []
    },
    {
      "cell_type": "code",
      "source": [
        "data[0]['外匯存底（億美元）']"
      ],
      "metadata": {
        "id": "8pPvDZq1X45x"
      },
      "execution_count": null,
      "outputs": []
    },
    {
      "cell_type": "code",
      "source": [
        "#方法1\n",
        "for i in range(len(data)):\n",
        "  year = data[i]['年度']\n",
        "  print(year,\"==>>\",data[i]['證券（集中市場）-成交值（億元）'])"
      ],
      "metadata": {
        "id": "qV83ESGxX8Xo"
      },
      "execution_count": null,
      "outputs": []
    },
    {
      "cell_type": "code",
      "source": [
        "# 方法2 列出各年度的M2貨幣供給額\n",
        "for i in data:\n",
        "  print(i['年度'], \"==>\", i['貨幣供給額期底年增率-M2'])"
      ],
      "metadata": {
        "id": "nPe8PHAOYwN_"
      },
      "execution_count": null,
      "outputs": []
    },
    {
      "cell_type": "markdown",
      "source": [
        "## 資料分析 https://devs.tw/post/151\n",
        "\n",
        "### 基礎套件\n",
        "\n",
        "* numpy ==>科學運算基礎套件\n",
        "* matplotlib ==>繪圖基礎套件\n",
        "* pandas ==>資料分析基礎套件"
      ],
      "metadata": {
        "id": "EvfDAem3f4SP"
      }
    },
    {
      "cell_type": "markdown",
      "source": [
        "### 套件載入的習慣用法\n",
        "\n",
        "```python\n",
        "import numpy as np\n",
        "import matplotlib.pyplot as plt\n",
        "import pandas as pd\n",
        "\n",
        "```"
      ],
      "metadata": {
        "id": "hWUOywXUh_Dh"
      }
    },
    {
      "cell_type": "markdown",
      "source": [
        "# numpy\n",
        "\n",
        "numpy ==> **Num**erical **Py**thon\n",
        "\n",
        "* ndarray(多維陣列)  ==> N-Dimensional Arrays\n",
        "* ufunc(通用函數) ==> Universal Function\n",
        "\n"
      ],
      "metadata": {
        "id": "YFVk5IDZieoM"
      }
    },
    {
      "cell_type": "code",
      "source": [
        "import numpy as np"
      ],
      "metadata": {
        "id": "xTtxdI3Mdtvy"
      },
      "execution_count": null,
      "outputs": []
    },
    {
      "cell_type": "code",
      "source": [
        "x = [1,2,3]"
      ],
      "metadata": {
        "id": "17YV4-vYizRX"
      },
      "execution_count": null,
      "outputs": []
    },
    {
      "cell_type": "code",
      "source": [
        "y = [4,5,6]"
      ],
      "metadata": {
        "id": "HoVpqmD2lCzQ"
      },
      "execution_count": null,
      "outputs": []
    },
    {
      "cell_type": "markdown",
      "source": [
        "#### ndarray\n"
      ],
      "metadata": {
        "id": "NTLc1tRVmnIQ"
      }
    },
    {
      "cell_type": "code",
      "source": [
        "x1 = np.array(x) #轉換ndarray多維陣列"
      ],
      "metadata": {
        "id": "ivguTkzVlE-O"
      },
      "execution_count": null,
      "outputs": []
    },
    {
      "cell_type": "code",
      "source": [
        "y1 = np.array(y)"
      ],
      "metadata": {
        "id": "fdvDlmHRlH7M"
      },
      "execution_count": null,
      "outputs": []
    },
    {
      "cell_type": "code",
      "source": [
        "type(x1)"
      ],
      "metadata": {
        "colab": {
          "base_uri": "https://localhost:8080/"
        },
        "id": "KJhsJ-nElKWN",
        "outputId": "0c1f8f4c-dc77-4477-9faa-2d47758b75b7"
      },
      "execution_count": null,
      "outputs": [
        {
          "output_type": "execute_result",
          "data": {
            "text/plain": [
              "numpy.ndarray"
            ]
          },
          "metadata": {},
          "execution_count": 28
        }
      ]
    },
    {
      "cell_type": "code",
      "source": [
        "x1 + y1"
      ],
      "metadata": {
        "colab": {
          "base_uri": "https://localhost:8080/"
        },
        "id": "M-BP72uGlPoP",
        "outputId": "3c2e3792-0699-4676-bab3-5fe0973bccb1"
      },
      "execution_count": null,
      "outputs": [
        {
          "output_type": "execute_result",
          "data": {
            "text/plain": [
              "array([5, 7, 9])"
            ]
          },
          "metadata": {},
          "execution_count": 29
        }
      ]
    },
    {
      "cell_type": "code",
      "source": [
        "2* x1"
      ],
      "metadata": {
        "colab": {
          "base_uri": "https://localhost:8080/"
        },
        "id": "VcqadZyvlTXd",
        "outputId": "b20858ca-d0b8-420a-cc0a-729837cc0308"
      },
      "execution_count": null,
      "outputs": [
        {
          "output_type": "execute_result",
          "data": {
            "text/plain": [
              "array([2, 4, 6])"
            ]
          },
          "metadata": {},
          "execution_count": 30
        }
      ]
    },
    {
      "cell_type": "markdown",
      "source": [
        "#### ufunc\n"
      ],
      "metadata": {
        "id": "Aha2c-Ttmgz-"
      }
    },
    {
      "cell_type": "code",
      "source": [
        "import math"
      ],
      "metadata": {
        "id": "T6JpVvf3lXkN"
      },
      "execution_count": null,
      "outputs": []
    },
    {
      "cell_type": "code",
      "source": [
        "math.pi"
      ],
      "metadata": {
        "colab": {
          "base_uri": "https://localhost:8080/"
        },
        "id": "IHAqObJ9m6L9",
        "outputId": "862cd9ab-3f3f-4ba7-be09-c089057d9f4d"
      },
      "execution_count": null,
      "outputs": [
        {
          "output_type": "execute_result",
          "data": {
            "text/plain": [
              "3.141592653589793"
            ]
          },
          "metadata": {},
          "execution_count": 32
        }
      ]
    },
    {
      "cell_type": "code",
      "source": [
        "math.sin(math.pi/2)"
      ],
      "metadata": {
        "colab": {
          "base_uri": "https://localhost:8080/"
        },
        "id": "GS2EPV4Dm-hI",
        "outputId": "3e3b7cc7-5e30-4c88-f3bc-fc2d232e4ff3"
      },
      "execution_count": null,
      "outputs": [
        {
          "output_type": "execute_result",
          "data": {
            "text/plain": [
              "1.0"
            ]
          },
          "metadata": {},
          "execution_count": 33
        }
      ]
    },
    {
      "cell_type": "code",
      "source": [
        "math.sin(x) #錯誤用法"
      ],
      "metadata": {
        "id": "NC4vbUlanIs6"
      },
      "execution_count": null,
      "outputs": []
    },
    {
      "cell_type": "code",
      "source": [
        "np.pi #改用np也可直接使用"
      ],
      "metadata": {
        "colab": {
          "base_uri": "https://localhost:8080/"
        },
        "id": "Zuytr5T5nhJF",
        "outputId": "dfdee2bf-91d6-41eb-8991-b5f90ef12f69"
      },
      "execution_count": null,
      "outputs": [
        {
          "output_type": "execute_result",
          "data": {
            "text/plain": [
              "3.141592653589793"
            ]
          },
          "metadata": {},
          "execution_count": 36
        }
      ]
    },
    {
      "cell_type": "code",
      "source": [
        "np.sin(x)"
      ],
      "metadata": {
        "colab": {
          "base_uri": "https://localhost:8080/"
        },
        "id": "9IEec5_untOI",
        "outputId": "f48743c4-2c24-4a42-c536-67bffc938928"
      },
      "execution_count": null,
      "outputs": [
        {
          "output_type": "execute_result",
          "data": {
            "text/plain": [
              "array([0.84147098, 0.90929743, 0.14112001])"
            ]
          },
          "metadata": {},
          "execution_count": 39
        }
      ]
    },
    {
      "cell_type": "markdown",
      "source": [
        "### ndarray 附帶的屬性(properties)\n",
        "\n"
      ],
      "metadata": {
        "id": "JoSl7Jvmr7Er"
      }
    },
    {
      "cell_type": "code",
      "source": [
        "x1.dtype"
      ],
      "metadata": {
        "colab": {
          "base_uri": "https://localhost:8080/"
        },
        "id": "hm-uZX-wsIlv",
        "outputId": "f72ad338-c7eb-47b2-b334-c82c6def247d"
      },
      "execution_count": null,
      "outputs": [
        {
          "output_type": "execute_result",
          "data": {
            "text/plain": [
              "dtype('int64')"
            ]
          },
          "metadata": {},
          "execution_count": 40
        }
      ]
    },
    {
      "cell_type": "code",
      "source": [
        "x1.shape"
      ],
      "metadata": {
        "colab": {
          "base_uri": "https://localhost:8080/"
        },
        "id": "hiDl6nctswTy",
        "outputId": "1a67c9cd-d512-4b02-92a7-1ebb062c4292"
      },
      "execution_count": null,
      "outputs": [
        {
          "output_type": "execute_result",
          "data": {
            "text/plain": [
              "(3,)"
            ]
          },
          "metadata": {},
          "execution_count": 41
        }
      ]
    },
    {
      "cell_type": "code",
      "source": [
        "x1.size"
      ],
      "metadata": {
        "colab": {
          "base_uri": "https://localhost:8080/"
        },
        "id": "zQ6oRDY0s6w2",
        "outputId": "8e1b9e27-ced2-4208-c3f5-cbd128fffbd5"
      },
      "execution_count": null,
      "outputs": [
        {
          "output_type": "execute_result",
          "data": {
            "text/plain": [
              "3"
            ]
          },
          "metadata": {},
          "execution_count": 42
        }
      ]
    },
    {
      "cell_type": "code",
      "source": [],
      "metadata": {
        "id": "ZTipiZPss9O-"
      },
      "execution_count": null,
      "outputs": []
    },
    {
      "cell_type": "markdown",
      "source": [
        "### ndarray的indexing & slicing\n",
        "\n"
      ],
      "metadata": {
        "id": "zJGCWn6zrxyw"
      }
    },
    {
      "cell_type": "code",
      "source": [
        "F = np.arange(25)"
      ],
      "metadata": {
        "id": "PhUKkN-4nwDJ"
      },
      "execution_count": null,
      "outputs": []
    },
    {
      "cell_type": "code",
      "source": [
        "G"
      ],
      "metadata": {
        "colab": {
          "base_uri": "https://localhost:8080/"
        },
        "id": "cBVROJfhtPC3",
        "outputId": "130321c2-e9ce-4631-da32-03f182d0b9ae"
      },
      "execution_count": null,
      "outputs": [
        {
          "output_type": "execute_result",
          "data": {
            "text/plain": [
              "array([ 0,  1,  2,  3,  4,  5,  6,  7,  8,  9, 10, 11, 12, 13, 14, 15, 16,\n",
              "       17, 18, 19, 20, 21, 22, 23, 24])"
            ]
          },
          "metadata": {},
          "execution_count": 44
        }
      ]
    },
    {
      "cell_type": "code",
      "source": [
        "G.dtype"
      ],
      "metadata": {
        "colab": {
          "base_uri": "https://localhost:8080/"
        },
        "id": "LUsXlK2htSVZ",
        "outputId": "37e361e0-f13b-4052-d582-0f6b95115a59"
      },
      "execution_count": null,
      "outputs": [
        {
          "output_type": "execute_result",
          "data": {
            "text/plain": [
              "dtype('int64')"
            ]
          },
          "metadata": {},
          "execution_count": 45
        }
      ]
    },
    {
      "cell_type": "code",
      "source": [
        "G.shape"
      ],
      "metadata": {
        "colab": {
          "base_uri": "https://localhost:8080/"
        },
        "id": "BvywTE8ctqT3",
        "outputId": "505e4f76-ca59-4544-c844-15c34438fdb9"
      },
      "execution_count": null,
      "outputs": [
        {
          "output_type": "execute_result",
          "data": {
            "text/plain": [
              "(25,)"
            ]
          },
          "metadata": {},
          "execution_count": 46
        }
      ]
    },
    {
      "cell_type": "code",
      "source": [
        "G.reshape(5,5)"
      ],
      "metadata": {
        "colab": {
          "base_uri": "https://localhost:8080/"
        },
        "id": "PnafxoLCttXx",
        "outputId": "cf4410ac-9065-40a4-e3b6-957887ad3d88"
      },
      "execution_count": null,
      "outputs": [
        {
          "output_type": "execute_result",
          "data": {
            "text/plain": [
              "array([[ 0,  1,  2,  3,  4],\n",
              "       [ 5,  6,  7,  8,  9],\n",
              "       [10, 11, 12, 13, 14],\n",
              "       [15, 16, 17, 18, 19],\n",
              "       [20, 21, 22, 23, 24]])"
            ]
          },
          "metadata": {},
          "execution_count": 47
        }
      ]
    },
    {
      "cell_type": "code",
      "source": [
        "G = F.reshape(5,5)"
      ],
      "metadata": {
        "id": "LfYlOhzBtylP"
      },
      "execution_count": null,
      "outputs": []
    },
    {
      "cell_type": "code",
      "source": [
        "G.shape"
      ],
      "metadata": {
        "colab": {
          "base_uri": "https://localhost:8080/"
        },
        "id": "_H8CVH7ut9N4",
        "outputId": "6a48c23b-d9a8-480a-d2ec-2a62c2558e48"
      },
      "execution_count": null,
      "outputs": [
        {
          "output_type": "execute_result",
          "data": {
            "text/plain": [
              "(5, 5)"
            ]
          },
          "metadata": {},
          "execution_count": 49
        }
      ]
    },
    {
      "cell_type": "markdown",
      "source": [
        "### indexing\n",
        "\n"
      ],
      "metadata": {
        "id": "rTbdp3puuG5O"
      }
    },
    {
      "cell_type": "code",
      "source": [
        "F"
      ],
      "metadata": {
        "colab": {
          "base_uri": "https://localhost:8080/"
        },
        "id": "rqZ4Zh7BuACP",
        "outputId": "a5af624a-28f9-4c7a-8ec5-748ab6e7f540"
      },
      "execution_count": null,
      "outputs": [
        {
          "output_type": "execute_result",
          "data": {
            "text/plain": [
              "array([ 0,  1,  2,  3,  4,  5,  6,  7,  8,  9, 10, 11, 12, 13, 14, 15, 16,\n",
              "       17, 18, 19, 20, 21, 22, 23, 24])"
            ]
          },
          "metadata": {},
          "execution_count": 52
        }
      ]
    },
    {
      "cell_type": "code",
      "source": [
        "G"
      ],
      "metadata": {
        "colab": {
          "base_uri": "https://localhost:8080/"
        },
        "id": "sP3yUo78uh4C",
        "outputId": "ef0dec92-c4a8-4b63-edbe-e4a4140823b2"
      },
      "execution_count": null,
      "outputs": [
        {
          "output_type": "execute_result",
          "data": {
            "text/plain": [
              "array([[ 0,  1,  2,  3,  4],\n",
              "       [ 5,  6,  7,  8,  9],\n",
              "       [10, 11, 12, 13, 14],\n",
              "       [15, 16, 17, 18, 19],\n",
              "       [20, 21, 22, 23, 24]])"
            ]
          },
          "metadata": {},
          "execution_count": 53
        }
      ]
    },
    {
      "cell_type": "code",
      "source": [
        "G[2]"
      ],
      "metadata": {
        "colab": {
          "base_uri": "https://localhost:8080/"
        },
        "id": "23nPe6tLuk-z",
        "outputId": "03616490-44f3-4bb3-f60c-a2b32873a137"
      },
      "execution_count": null,
      "outputs": [
        {
          "output_type": "execute_result",
          "data": {
            "text/plain": [
              "array([10, 11, 12, 13, 14])"
            ]
          },
          "metadata": {},
          "execution_count": 54
        }
      ]
    },
    {
      "cell_type": "code",
      "source": [
        "G[2][2]"
      ],
      "metadata": {
        "colab": {
          "base_uri": "https://localhost:8080/"
        },
        "id": "OuzinspJuvBM",
        "outputId": "7c40bbef-e4ab-4c3d-9096-ef37ab5eb628"
      },
      "execution_count": null,
      "outputs": [
        {
          "output_type": "execute_result",
          "data": {
            "text/plain": [
              "12"
            ]
          },
          "metadata": {},
          "execution_count": 55
        }
      ]
    },
    {
      "cell_type": "code",
      "source": [
        "G[2,2] #numpy正確做法"
      ],
      "metadata": {
        "colab": {
          "base_uri": "https://localhost:8080/"
        },
        "id": "SruT77DyuyTr",
        "outputId": "fa1d8f9e-0db5-445a-9049-352fe8fe5a0b"
      },
      "execution_count": null,
      "outputs": [
        {
          "output_type": "execute_result",
          "data": {
            "text/plain": [
              "12"
            ]
          },
          "metadata": {},
          "execution_count": 56
        }
      ]
    },
    {
      "cell_type": "markdown",
      "source": [
        "### slicing\n",
        "\n"
      ],
      "metadata": {
        "id": "7ONBRfGAvVPt"
      }
    },
    {
      "cell_type": "code",
      "source": [
        "G[1:3, 1:3]"
      ],
      "metadata": {
        "colab": {
          "base_uri": "https://localhost:8080/"
        },
        "id": "CAPadXujvCrU",
        "outputId": "7c92656b-a041-48f8-8b4d-d6499245e0a6"
      },
      "execution_count": null,
      "outputs": [
        {
          "output_type": "execute_result",
          "data": {
            "text/plain": [
              "array([[ 6,  7],\n",
              "       [11, 12]])"
            ]
          },
          "metadata": {},
          "execution_count": 57
        }
      ]
    },
    {
      "cell_type": "code",
      "source": [
        "G[:, 0]"
      ],
      "metadata": {
        "colab": {
          "base_uri": "https://localhost:8080/"
        },
        "id": "81OKm4LYvbMO",
        "outputId": "5316e32b-c9b6-4a01-e05d-9d46118cdaf4"
      },
      "execution_count": null,
      "outputs": [
        {
          "output_type": "execute_result",
          "data": {
            "text/plain": [
              "array([0, 0, 0, 0, 0])"
            ]
          },
          "metadata": {},
          "execution_count": 65
        }
      ]
    },
    {
      "cell_type": "code",
      "source": [
        "G[:, -1]"
      ],
      "metadata": {
        "colab": {
          "base_uri": "https://localhost:8080/"
        },
        "id": "Qgm5PcyDwyPW",
        "outputId": "951f153d-6a22-4a12-f52f-b8ef0296a22e"
      },
      "execution_count": null,
      "outputs": [
        {
          "output_type": "execute_result",
          "data": {
            "text/plain": [
              "array([ 4,  9, 14, 19, 24])"
            ]
          },
          "metadata": {},
          "execution_count": 63
        }
      ]
    },
    {
      "cell_type": "code",
      "source": [
        "G[:, 0] =0"
      ],
      "metadata": {
        "id": "tpJn9burw4A1"
      },
      "execution_count": null,
      "outputs": []
    },
    {
      "cell_type": "code",
      "source": [
        "G"
      ],
      "metadata": {
        "colab": {
          "base_uri": "https://localhost:8080/"
        },
        "id": "c3XRgDnPwpWx",
        "outputId": "ad1239bb-b2f8-40d0-9503-4cc73ed124da"
      },
      "execution_count": null,
      "outputs": [
        {
          "output_type": "execute_result",
          "data": {
            "text/plain": [
              "array([[ 0,  1,  2,  3,  4],\n",
              "       [ 0,  6,  7,  8,  9],\n",
              "       [ 0, 11, 12, 13, 14],\n",
              "       [ 0, 16, 17, 18, 19],\n",
              "       [ 0, 21, 22, 23, 24]])"
            ]
          },
          "metadata": {},
          "execution_count": 66
        }
      ]
    },
    {
      "cell_type": "markdown",
      "source": [
        "# MatPlotLib\n",
        "\n",
        "MatPlotLib ==> **Mat**rix **Plot**ting **Lib**rary\n",
        "\n",
        "* pyplot\n",
        "* artist\n",
        "\n",
        "\n",
        "Reference:\n",
        "https://matplotlib.org/stable/index.html"
      ],
      "metadata": {
        "id": "e0LUpsnrxeR3"
      }
    },
    {
      "cell_type": "code",
      "source": [
        "import matplotlib.pyplot as plt"
      ],
      "metadata": {
        "id": "lQw7e-tExX39"
      },
      "execution_count": null,
      "outputs": []
    },
    {
      "cell_type": "markdown",
      "source": [
        "## 折線圖(Line Chart)"
      ],
      "metadata": {
        "id": "gsUITbNT0dQo"
      }
    },
    {
      "cell_type": "markdown",
      "source": [
        "### Markers, Line Styles, Colors\n",
        "\n",
        "https://matplotlib.org/stable/api/_as_gen/matplotlib.pyplot.plot.html\n"
      ],
      "metadata": {
        "id": "cgZwCivy1CKb"
      }
    },
    {
      "cell_type": "code",
      "source": [
        "plt.plot(x)"
      ],
      "metadata": {
        "colab": {
          "base_uri": "https://localhost:8080/",
          "height": 282
        },
        "id": "pV7LPljU0Wjf",
        "outputId": "6a5a4ac9-fc20-40b0-f58b-bd5dd67c363d"
      },
      "execution_count": null,
      "outputs": [
        {
          "output_type": "execute_result",
          "data": {
            "text/plain": [
              "[<matplotlib.lines.Line2D at 0x7f469999c8b0>]"
            ]
          },
          "metadata": {},
          "execution_count": 69
        },
        {
          "output_type": "display_data",
          "data": {
            "text/plain": [
              "<Figure size 432x288 with 1 Axes>"
            ],
            "image/png": "[encoded data removed]"
          },
          "metadata": {
            "needs_background": "light"
          }
        }
      ]
    },
    {
      "cell_type": "code",
      "source": [
        "plt.plot(x, \"ro-\")"
      ],
      "metadata": {
        "colab": {
          "base_uri": "https://localhost:8080/",
          "height": 282
        },
        "id": "uGeyzuqD0Zkk",
        "outputId": "e0ad26a7-1747-4bb4-dd7f-d38715592561"
      },
      "execution_count": null,
      "outputs": [
        {
          "output_type": "execute_result",
          "data": {
            "text/plain": [
              "[<matplotlib.lines.Line2D at 0x7f46994ca8e0>]"
            ]
          },
          "metadata": {},
          "execution_count": 70
        },
        {
          "output_type": "display_data",
          "data": {
            "text/plain": [
              "<Figure size 432x288 with 1 Axes>"
            ],
            "image/png": "[encoded data removed]"
          },
          "metadata": {
            "needs_background": "light"
          }
        }
      ]
    },
    {
      "cell_type": "code",
      "source": [
        "plt.plot(x, \"ro\")"
      ],
      "metadata": {
        "colab": {
          "base_uri": "https://localhost:8080/",
          "height": 282
        },
        "id": "5LmwZ8Fe0xhH",
        "outputId": "3a578fe8-b949-4b2e-f881-2f51e3978ea0"
      },
      "execution_count": null,
      "outputs": [
        {
          "output_type": "execute_result",
          "data": {
            "text/plain": [
              "[<matplotlib.lines.Line2D at 0x7f46994482b0>]"
            ]
          },
          "metadata": {},
          "execution_count": 71
        },
        {
          "output_type": "display_data",
          "data": {
            "text/plain": [
              "<Figure size 432x288 with 1 Axes>"
            ],
            "image/png": "[encoded data removed]"
          },
          "metadata": {
            "needs_background": "light"
          }
        }
      ]
    },
    {
      "cell_type": "code",
      "source": [
        "plt.plot(x1, \"ro-\", label=\"x1\")\n",
        "plt.plot(x1**2, \"bx--\", label=\"x1**2\")\n",
        "plt.plot(x1**3, \"k^-.\", label=\"x1**3\")\n",
        "plt.legend()"
      ],
      "metadata": {
        "colab": {
          "base_uri": "https://localhost:8080/",
          "height": 282
        },
        "id": "ugG5Y14l03QP",
        "outputId": "9f1acb93-003a-4f44-bcc6-28a534cc3a0e"
      },
      "execution_count": null,
      "outputs": [
        {
          "output_type": "execute_result",
          "data": {
            "text/plain": [
              "<matplotlib.legend.Legend at 0x7f4699423ac0>"
            ]
          },
          "metadata": {},
          "execution_count": 72
        },
        {
          "output_type": "display_data",
          "data": {
            "text/plain": [
              "<Figure size 432x288 with 1 Axes>"
            ],
            "image/png": "[encoded data removed]"
          },
          "metadata": {
            "needs_background": "light"
          }
        }
      ]
    },
    {
      "cell_type": "code",
      "source": [
        "plt.plot(x1, \"ro-\", label=\"$x1^1$\")\n",
        "plt.plot(x1**2, \"bx--\", label=\"$x1^2$\")\n",
        "plt.plot(x1**3, \"k^-.\", label=\"$x1^3$\")\n",
        "plt.legend()"
      ],
      "metadata": {
        "colab": {
          "base_uri": "https://localhost:8080/",
          "height": 282
        },
        "id": "S1GLqMfBGRdc",
        "outputId": "de2cc256-0cac-4eec-f0b8-210a89e16f92"
      },
      "execution_count": null,
      "outputs": [
        {
          "output_type": "execute_result",
          "data": {
            "text/plain": [
              "<matplotlib.legend.Legend at 0x7f46992daa30>"
            ]
          },
          "metadata": {},
          "execution_count": 75
        },
        {
          "output_type": "display_data",
          "data": {
            "text/plain": [
              "<Figure size 432x288 with 1 Axes>"
            ],
            "image/png": "[encoded data removed]"
          },
          "metadata": {
            "needs_background": "light"
          }
        }
      ]
    },
    {
      "cell_type": "code",
      "source": [
        "plt.plot(x1, \"ro-\", label=\"$x_1$\")\n",
        "plt.plot(x1**2, \"bx--\", label=\"$x_1^2$\")\n",
        "plt.plot(x1**3, \"k^-.\", label=\"$x_1^3$\")\n",
        "plt.legend()\n",
        "plt.title(\"The power of x1\")\n",
        "plt.xlabel(\"Axis x\")\n",
        "plt.ylabel(\"Axis y\")"
      ],
      "metadata": {
        "colab": {
          "base_uri": "https://localhost:8080/",
          "height": 312
        },
        "id": "EWVx4ad9GhtH",
        "outputId": "2542ce65-0e5e-41c8-c2fd-6862fe6ce056"
      },
      "execution_count": null,
      "outputs": [
        {
          "output_type": "execute_result",
          "data": {
            "text/plain": [
              "Text(0, 0.5, 'Axis y')"
            ]
          },
          "metadata": {},
          "execution_count": 76
        },
        {
          "output_type": "display_data",
          "data": {
            "text/plain": [
              "<Figure size 432x288 with 1 Axes>"
            ],
            "image/png": "[encoded data removed]"
          },
          "metadata": {
            "needs_background": "light"
          }
        }
      ]
    },
    {
      "cell_type": "markdown",
      "source": [
        "## 長條圖(Bar Chart)\n"
      ],
      "metadata": {
        "id": "idc9wSDzHeLz"
      }
    },
    {
      "cell_type": "code",
      "source": [
        "plt.bar?"
      ],
      "metadata": {
        "id": "4hWKHfgkHR93"
      },
      "execution_count": null,
      "outputs": []
    },
    {
      "cell_type": "code",
      "source": [
        "x"
      ],
      "metadata": {
        "colab": {
          "base_uri": "https://localhost:8080/"
        },
        "id": "7AAHBJOJHwS8",
        "outputId": "b397432f-f3d5-4f12-97cd-559ac072d903"
      },
      "execution_count": null,
      "outputs": [
        {
          "output_type": "execute_result",
          "data": {
            "text/plain": [
              "[1, 2, 3]"
            ]
          },
          "metadata": {},
          "execution_count": 78
        }
      ]
    },
    {
      "cell_type": "code",
      "source": [
        "c = ['a', 'b', 'c']"
      ],
      "metadata": {
        "id": "ub2Su6MyH5mB"
      },
      "execution_count": null,
      "outputs": []
    },
    {
      "cell_type": "code",
      "source": [
        "plt.bar(c, x)"
      ],
      "metadata": {
        "colab": {
          "base_uri": "https://localhost:8080/",
          "height": 282
        },
        "id": "w5v0ECgJIFUY",
        "outputId": "0ebed761-9511-4ca2-9520-59c557aab287"
      },
      "execution_count": null,
      "outputs": [
        {
          "output_type": "execute_result",
          "data": {
            "text/plain": [
              "<BarContainer object of 3 artists>"
            ]
          },
          "metadata": {},
          "execution_count": 80
        },
        {
          "output_type": "display_data",
          "data": {
            "text/plain": [
              "<Figure size 432x288 with 1 Axes>"
            ],
            "image/png": "[encoded data removed]"
          },
          "metadata": {
            "needs_background": "light"
          }
        }
      ]
    },
    {
      "cell_type": "markdown",
      "source": [
        "## Pie 圓餅圖\n"
      ],
      "metadata": {
        "id": "HILswV88IJ4j"
      }
    },
    {
      "cell_type": "code",
      "source": [
        "plt.pie?"
      ],
      "metadata": {
        "id": "sYIeAM54IIfr"
      },
      "execution_count": null,
      "outputs": []
    },
    {
      "cell_type": "code",
      "source": [
        "plt.pie(x, labels=c)"
      ],
      "metadata": {
        "colab": {
          "base_uri": "https://localhost:8080/",
          "height": 352
        },
        "id": "kjuEAAalISKM",
        "outputId": "475ad652-a962-47e0-c0f7-8def43838795"
      },
      "execution_count": null,
      "outputs": [
        {
          "output_type": "execute_result",
          "data": {
            "text/plain": [
              "([<matplotlib.patches.Wedge at 0x7f4699970820>,\n",
              "  <matplotlib.patches.Wedge at 0x7f46990760d0>,\n",
              "  <matplotlib.patches.Wedge at 0x7f4699076550>],\n",
              " [Text(0.9526279355804298, 0.5500000148652441, 'a'),\n",
              "  Text(-0.5500000594609755, 0.9526279098330699, 'b'),\n",
              "  Text(1.0298943251329445e-07, -1.0999999999999954, 'c')])"
            ]
          },
          "metadata": {},
          "execution_count": 87
        },
        {
          "output_type": "display_data",
          "data": {
            "text/plain": [
              "<Figure size 432x288 with 1 Axes>"
            ],
            "image/png": "[encoded data removed]"
          },
          "metadata": {}
        }
      ]
    },
    {
      "cell_type": "markdown",
      "source": [
        "## 補充說明：\n",
        "\n",
        "Python 常用來做影像處理的套件，大概有三個：\n",
        "\n",
        "* pillow (PIL)\n",
        "* skimage\n",
        "* opencv\n"
      ],
      "metadata": {
        "id": "uXGjPPhNKDJM"
      }
    },
    {
      "cell_type": "code",
      "source": [
        "from PIL import Image"
      ],
      "metadata": {
        "id": "2DXRta41IZuC"
      },
      "execution_count": null,
      "outputs": []
    },
    {
      "cell_type": "code",
      "source": [
        "lin = Image.open('cars.jpg')"
      ],
      "metadata": {
        "id": "Yxy4MrYELSUs"
      },
      "execution_count": null,
      "outputs": []
    },
    {
      "cell_type": "code",
      "source": [
        "lin_array = np.array(lin)"
      ],
      "metadata": {
        "id": "T4pykNjYLda8"
      },
      "execution_count": null,
      "outputs": []
    },
    {
      "cell_type": "code",
      "source": [
        "plt.imshow(lin_array)"
      ],
      "metadata": {
        "id": "8nOWVAyALk4Y"
      },
      "execution_count": null,
      "outputs": []
    },
    {
      "cell_type": "markdown",
      "source": [
        "# Pandas\n",
        "\n",
        "* Series\n",
        "* DataFrame\n"
      ],
      "metadata": {
        "id": "XSNScMrFLx7J"
      }
    },
    {
      "cell_type": "code",
      "source": [
        "import pandas as pd"
      ],
      "metadata": {
        "id": "qSjEWxKqLoaW"
      },
      "execution_count": null,
      "outputs": []
    },
    {
      "cell_type": "code",
      "source": [
        "#安裝yfinance套件\n",
        "!pip install yfinance"
      ],
      "metadata": {
        "id": "P-8KDJFIMMOq"
      },
      "execution_count": null,
      "outputs": []
    },
    {
      "cell_type": "code",
      "source": [
        "#載入yfinance套件\n",
        "import yfinance as yf"
      ],
      "metadata": {
        "id": "YDNaXG_OO4HY"
      },
      "execution_count": null,
      "outputs": []
    },
    {
      "cell_type": "code",
      "source": [
        "df = yf.download(\"TSLA\")"
      ],
      "metadata": {
        "colab": {
          "base_uri": "https://localhost:8080/"
        },
        "id": "lm487VUqPGyz",
        "outputId": "0b40da5a-5a95-43f4-e41d-d25311808ce4"
      },
      "execution_count": null,
      "outputs": [
        {
          "output_type": "stream",
          "name": "stdout",
          "text": [
            "\r[*********************100%***********************]  1 of 1 completed\n"
          ]
        }
      ]
    },
    {
      "cell_type": "code",
      "source": [
        "type(df)"
      ],
      "metadata": {
        "colab": {
          "base_uri": "https://localhost:8080/"
        },
        "id": "o3V_RFhdPMk8",
        "outputId": "8d88fabd-2b3d-4cb2-9124-a1400ebc4fc7"
      },
      "execution_count": null,
      "outputs": [
        {
          "output_type": "execute_result",
          "data": {
            "text/plain": [
              "pandas.core.frame.DataFrame"
            ]
          },
          "metadata": {},
          "execution_count": 99
        }
      ]
    },
    {
      "cell_type": "code",
      "source": [
        "df.head()"
      ],
      "metadata": {
        "colab": {
          "base_uri": "https://localhost:8080/",
          "height": 237
        },
        "id": "f5jM4YWJPn_9",
        "outputId": "467b98aa-3565-4261-89d8-460ad197e5de"
      },
      "execution_count": null,
      "outputs": [
        {
          "output_type": "execute_result",
          "data": {
            "text/plain": [
              "                Open      High       Low     Close  Adj Close     Volume\n",
              "Date                                                                    \n",
              "2010-06-29  1.266667  1.666667  1.169333  1.592667   1.592667  281494500\n",
              "2010-06-30  1.719333  2.028000  1.553333  1.588667   1.588667  257806500\n",
              "2010-07-01  1.666667  1.728000  1.351333  1.464000   1.464000  123282000\n",
              "2010-07-02  1.533333  1.540000  1.247333  1.280000   1.280000   77097000\n",
              "2010-07-06  1.333333  1.333333  1.055333  1.074000   1.074000  103003500"
            ],
            "text/html": [
              "\n",
              "  <div id=\"df-bbfb2505-d4e2-4f29-ab73-a38a88005627\">\n",
              "    <div class=\"colab-df-container\">\n",
              "      <div>\n",
              "<style scoped>\n",
              "    .dataframe tbody tr th:only-of-type {\n",
              "        vertical-align: middle;\n",
              "    }\n",
              "\n",
              "    .dataframe tbody tr th {\n",
              "        vertical-align: top;\n",
              "    }\n",
              "\n",
              "    .dataframe thead th {\n",
              "        text-align: right;\n",
              "    }\n",
              "</style>\n",
              "<table border=\"1\" class=\"dataframe\">\n",
              "  <thead>\n",
              "    <tr style=\"text-align: right;\">\n",
              "      <th></th>\n",
              "      <th>Open</th>\n",
              "      <th>High</th>\n",
              "      <th>Low</th>\n",
              "      <th>Close</th>\n",
              "      <th>Adj Close</th>\n",
              "      <th>Volume</th>\n",
              "    </tr>\n",
              "    <tr>\n",
              "      <th>Date</th>\n",
              "      <th></th>\n",
              "      <th></th>\n",
              "      <th></th>\n",
              "      <th></th>\n",
              "      <th></th>\n",
              "      <th></th>\n",
              "    </tr>\n",
              "  </thead>\n",
              "  <tbody>\n",
              "    <tr>\n",
              "      <th>2010-06-29</th>\n",
              "      <td>1.266667</td>\n",
              "      <td>1.666667</td>\n",
              "      <td>1.169333</td>\n",
              "      <td>1.592667</td>\n",
              "      <td>1.592667</td>\n",
              "      <td>281494500</td>\n",
              "    </tr>\n",
              "    <tr>\n",
              "      <th>2010-06-30</th>\n",
              "      <td>1.719333</td>\n",
              "      <td>2.028000</td>\n",
              "      <td>1.553333</td>\n",
              "      <td>1.588667</td>\n",
              "      <td>1.588667</td>\n",
              "      <td>257806500</td>\n",
              "    </tr>\n",
              "    <tr>\n",
              "      <th>2010-07-01</th>\n",
              "      <td>1.666667</td>\n",
              "      <td>1.728000</td>\n",
              "      <td>1.351333</td>\n",
              "      <td>1.464000</td>\n",
              "      <td>1.464000</td>\n",
              "      <td>123282000</td>\n",
              "    </tr>\n",
              "    <tr>\n",
              "      <th>2010-07-02</th>\n",
              "      <td>1.533333</td>\n",
              "      <td>1.540000</td>\n",
              "      <td>1.247333</td>\n",
              "      <td>1.280000</td>\n",
              "      <td>1.280000</td>\n",
              "      <td>77097000</td>\n",
              "    </tr>\n",
              "    <tr>\n",
              "      <th>2010-07-06</th>\n",
              "      <td>1.333333</td>\n",
              "      <td>1.333333</td>\n",
              "      <td>1.055333</td>\n",
              "      <td>1.074000</td>\n",
              "      <td>1.074000</td>\n",
              "      <td>103003500</td>\n",
              "    </tr>\n",
              "  </tbody>\n",
              "</table>\n",
              "</div>\n",
              "      <button class=\"colab-df-convert\" onclick=\"convertToInteractive('df-bbfb2505-d4e2-4f29-ab73-a38a88005627')\"\n",
              "              title=\"Convert this dataframe to an interactive table.\"\n",
              "              style=\"display:none;\">\n",
              "        \n",
              "  <svg xmlns=\"http://www.w3.org/2000/svg\" height=\"24px\"viewBox=\"0 0 24 24\"\n",
              "       width=\"24px\">\n",
              "    <path d=\"M0 0h24v24H0V0z\" fill=\"none\"/>\n",
              "    <path d=\"M18.56 5.44l.94 2.06.94-2.06 2.06-.94-2.06-.94-.94-2.06-.94 2.06-2.06.94zm-11 1L8.5 8.5l.94-2.06 2.06-.94-2.06-.94L8.5 2.5l-.94 2.06-2.06.94zm10 10l.94 2.06.94-2.06 2.06-.94-2.06-.94-.94-2.06-.94 2.06-2.06.94z\"/><path d=\"M17.41 7.96l-1.37-1.37c-.4-.4-.92-.59-1.43-.59-.52 0-1.04.2-1.43.59L10.3 9.45l-7.72 7.72c-.78.78-.78 2.05 0 2.83L4 21.41c.39.39.9.59 1.41.59.51 0 1.02-.2 1.41-.59l7.78-7.78 2.81-2.81c.8-.78.8-2.07 0-2.86zM5.41 20L4 18.59l7.72-7.72 1.47 1.35L5.41 20z\"/>\n",
              "  </svg>\n",
              "      </button>\n",
              "      \n",
              "  <style>\n",
              "    .colab-df-container {\n",
              "      display:flex;\n",
              "      flex-wrap:wrap;\n",
              "      gap: 12px;\n",
              "    }\n",
              "\n",
              "    .colab-df-convert {\n",
              "      background-color: #E8F0FE;\n",
              "      border: none;\n",
              "      border-radius: 50%;\n",
              "      cursor: pointer;\n",
              "      display: none;\n",
              "      fill: #1967D2;\n",
              "      height: 32px;\n",
              "      padding: 0 0 0 0;\n",
              "      width: 32px;\n",
              "    }\n",
              "\n",
              "    .colab-df-convert:hover {\n",
              "      background-color: #E2EBFA;\n",
              "      box-shadow: 0px 1px 2px rgba(60, 64, 67, 0.3), 0px 1px 3px 1px rgba(60, 64, 67, 0.15);\n",
              "      fill: #174EA6;\n",
              "    }\n",
              "\n",
              "    [theme=dark] .colab-df-convert {\n",
              "      background-color: #3B4455;\n",
              "      fill: #D2E3FC;\n",
              "    }\n",
              "\n",
              "    [theme=dark] .colab-df-convert:hover {\n",
              "      background-color: #434B5C;\n",
              "      box-shadow: 0px 1px 3px 1px rgba(0, 0, 0, 0.15);\n",
              "      filter: drop-shadow(0px 1px 2px rgba(0, 0, 0, 0.3));\n",
              "      fill: #FFFFFF;\n",
              "    }\n",
              "  </style>\n",
              "\n",
              "      <script>\n",
              "        const buttonEl =\n",
              "          document.querySelector('#df-bbfb2505-d4e2-4f29-ab73-a38a88005627 button.colab-df-convert');\n",
              "        buttonEl.style.display =\n",
              "          google.colab.kernel.accessAllowed ? 'block' : 'none';\n",
              "\n",
              "        async function convertToInteractive(key) {\n",
              "          const element = document.querySelector('#df-bbfb2505-d4e2-4f29-ab73-a38a88005627');\n",
              "          const dataTable =\n",
              "            await google.colab.kernel.invokeFunction('convertToInteractive',\n",
              "                                                     [key], {});\n",
              "          if (!dataTable) return;\n",
              "\n",
              "          const docLinkHtml = 'Like what you see? Visit the ' +\n",
              "            '<a target=\"_blank\" href=https://colab.research.google.com/notebooks/data_table.ipynb>data table notebook</a>'\n",
              "            + ' to learn more about interactive tables.';\n",
              "          element.innerHTML = '';\n",
              "          dataTable['output_type'] = 'display_data';\n",
              "          await google.colab.output.renderOutput(dataTable, element);\n",
              "          const docLink = document.createElement('div');\n",
              "          docLink.innerHTML = docLinkHtml;\n",
              "          element.appendChild(docLink);\n",
              "        }\n",
              "      </script>\n",
              "    </div>\n",
              "  </div>\n",
              "  "
            ]
          },
          "metadata": {},
          "execution_count": 100
        }
      ]
    },
    {
      "cell_type": "code",
      "source": [
        "df.tail(10)"
      ],
      "metadata": {
        "colab": {
          "base_uri": "https://localhost:8080/",
          "height": 394
        },
        "id": "71IA47tUP69d",
        "outputId": "1ade76b8-7378-48c6-a6e8-3c473e1d9900"
      },
      "execution_count": null,
      "outputs": [
        {
          "output_type": "execute_result",
          "data": {
            "text/plain": [
              "                  Open        High         Low       Close   Adj Close  \\\n",
              "Date                                                                     \n",
              "2023-02-06  193.009995  198.169998  189.919998  194.759995  194.759995   \n",
              "2023-02-07  196.429993  197.500000  189.550003  196.809998  196.809998   \n",
              "2023-02-08  196.100006  203.000000  194.309998  201.289993  201.289993   \n",
              "2023-02-09  207.779999  214.000000  204.770004  207.320007  207.320007   \n",
              "2023-02-10  202.229996  206.199997  192.889999  196.889999  196.889999   \n",
              "2023-02-13  194.419998  196.300003  187.610001  194.639999  194.639999   \n",
              "2023-02-14  191.940002  209.820007  189.440002  209.250000  209.250000   \n",
              "2023-02-15  211.759995  214.660004  206.110001  214.240005  214.240005   \n",
              "2023-02-16  210.779999  217.649994  201.839996  202.039993  202.039993   \n",
              "2023-02-17  199.990005  208.440002  197.500000  208.309998  208.309998   \n",
              "\n",
              "               Volume  \n",
              "Date                   \n",
              "2023-02-06  186188100  \n",
              "2023-02-07  186010300  \n",
              "2023-02-08  180673600  \n",
              "2023-02-09  215431400  \n",
              "2023-02-10  204193800  \n",
              "2023-02-13  172475500  \n",
              "2023-02-14  216455700  \n",
              "2023-02-15  182108600  \n",
              "2023-02-16  229586500  \n",
              "2023-02-17  213080200  "
            ],
            "text/html": [
              "\n",
              "  <div id=\"df-75fcd8e7-b725-4dfc-b0a1-08858dc2503f\">\n",
              "    <div class=\"colab-df-container\">\n",
              "      <div>\n",
              "<style scoped>\n",
              "    .dataframe tbody tr th:only-of-type {\n",
              "        vertical-align: middle;\n",
              "    }\n",
              "\n",
              "    .dataframe tbody tr th {\n",
              "        vertical-align: top;\n",
              "    }\n",
              "\n",
              "    .dataframe thead th {\n",
              "        text-align: right;\n",
              "    }\n",
              "</style>\n",
              "<table border=\"1\" class=\"dataframe\">\n",
              "  <thead>\n",
              "    <tr style=\"text-align: right;\">\n",
              "      <th></th>\n",
              "      <th>Open</th>\n",
              "      <th>High</th>\n",
              "      <th>Low</th>\n",
              "      <th>Close</th>\n",
              "      <th>Adj Close</th>\n",
              "      <th>Volume</th>\n",
              "    </tr>\n",
              "    <tr>\n",
              "      <th>Date</th>\n",
              "      <th></th>\n",
              "      <th></th>\n",
              "      <th></th>\n",
              "      <th></th>\n",
              "      <th></th>\n",
              "      <th></th>\n",
              "    </tr>\n",
              "  </thead>\n",
              "  <tbody>\n",
              "    <tr>\n",
              "      <th>2023-02-06</th>\n",
              "      <td>193.009995</td>\n",
              "      <td>198.169998</td>\n",
              "      <td>189.919998</td>\n",
              "      <td>194.759995</td>\n",
              "      <td>194.759995</td>\n",
              "      <td>186188100</td>\n",
              "    </tr>\n",
              "    <tr>\n",
              "      <th>2023-02-07</th>\n",
              "      <td>196.429993</td>\n",
              "      <td>197.500000</td>\n",
              "      <td>189.550003</td>\n",
              "      <td>196.809998</td>\n",
              "      <td>196.809998</td>\n",
              "      <td>186010300</td>\n",
              "    </tr>\n",
              "    <tr>\n",
              "      <th>2023-02-08</th>\n",
              "      <td>196.100006</td>\n",
              "      <td>203.000000</td>\n",
              "      <td>194.309998</td>\n",
              "      <td>201.289993</td>\n",
              "      <td>201.289993</td>\n",
              "      <td>180673600</td>\n",
              "    </tr>\n",
              "    <tr>\n",
              "      <th>2023-02-09</th>\n",
              "      <td>207.779999</td>\n",
              "      <td>214.000000</td>\n",
              "      <td>204.770004</td>\n",
              "      <td>207.320007</td>\n",
              "      <td>207.320007</td>\n",
              "      <td>215431400</td>\n",
              "    </tr>\n",
              "    <tr>\n",
              "      <th>2023-02-10</th>\n",
              "      <td>202.229996</td>\n",
              "      <td>206.199997</td>\n",
              "      <td>192.889999</td>\n",
              "      <td>196.889999</td>\n",
              "      <td>196.889999</td>\n",
              "      <td>204193800</td>\n",
              "    </tr>\n",
              "    <tr>\n",
              "      <th>2023-02-13</th>\n",
              "      <td>194.419998</td>\n",
              "      <td>196.300003</td>\n",
              "      <td>187.610001</td>\n",
              "      <td>194.639999</td>\n",
              "      <td>194.639999</td>\n",
              "      <td>172475500</td>\n",
              "    </tr>\n",
              "    <tr>\n",
              "      <th>2023-02-14</th>\n",
              "      <td>191.940002</td>\n",
              "      <td>209.820007</td>\n",
              "      <td>189.440002</td>\n",
              "      <td>209.250000</td>\n",
              "      <td>209.250000</td>\n",
              "      <td>216455700</td>\n",
              "    </tr>\n",
              "    <tr>\n",
              "      <th>2023-02-15</th>\n",
              "      <td>211.759995</td>\n",
              "      <td>214.660004</td>\n",
              "      <td>206.110001</td>\n",
              "      <td>214.240005</td>\n",
              "      <td>214.240005</td>\n",
              "      <td>182108600</td>\n",
              "    </tr>\n",
              "    <tr>\n",
              "      <th>2023-02-16</th>\n",
              "      <td>210.779999</td>\n",
              "      <td>217.649994</td>\n",
              "      <td>201.839996</td>\n",
              "      <td>202.039993</td>\n",
              "      <td>202.039993</td>\n",
              "      <td>229586500</td>\n",
              "    </tr>\n",
              "    <tr>\n",
              "      <th>2023-02-17</th>\n",
              "      <td>199.990005</td>\n",
              "      <td>208.440002</td>\n",
              "      <td>197.500000</td>\n",
              "      <td>208.309998</td>\n",
              "      <td>208.309998</td>\n",
              "      <td>213080200</td>\n",
              "    </tr>\n",
              "  </tbody>\n",
              "</table>\n",
              "</div>\n",
              "      <button class=\"colab-df-convert\" onclick=\"convertToInteractive('df-75fcd8e7-b725-4dfc-b0a1-08858dc2503f')\"\n",
              "              title=\"Convert this dataframe to an interactive table.\"\n",
              "              style=\"display:none;\">\n",
              "        \n",
              "  <svg xmlns=\"http://www.w3.org/2000/svg\" height=\"24px\"viewBox=\"0 0 24 24\"\n",
              "       width=\"24px\">\n",
              "    <path d=\"M0 0h24v24H0V0z\" fill=\"none\"/>\n",
              "    <path d=\"M18.56 5.44l.94 2.06.94-2.06 2.06-.94-2.06-.94-.94-2.06-.94 2.06-2.06.94zm-11 1L8.5 8.5l.94-2.06 2.06-.94-2.06-.94L8.5 2.5l-.94 2.06-2.06.94zm10 10l.94 2.06.94-2.06 2.06-.94-2.06-.94-.94-2.06-.94 2.06-2.06.94z\"/><path d=\"M17.41 7.96l-1.37-1.37c-.4-.4-.92-.59-1.43-.59-.52 0-1.04.2-1.43.59L10.3 9.45l-7.72 7.72c-.78.78-.78 2.05 0 2.83L4 21.41c.39.39.9.59 1.41.59.51 0 1.02-.2 1.41-.59l7.78-7.78 2.81-2.81c.8-.78.8-2.07 0-2.86zM5.41 20L4 18.59l7.72-7.72 1.47 1.35L5.41 20z\"/>\n",
              "  </svg>\n",
              "      </button>\n",
              "      \n",
              "  <style>\n",
              "    .colab-df-container {\n",
              "      display:flex;\n",
              "      flex-wrap:wrap;\n",
              "      gap: 12px;\n",
              "    }\n",
              "\n",
              "    .colab-df-convert {\n",
              "      background-color: #E8F0FE;\n",
              "      border: none;\n",
              "      border-radius: 50%;\n",
              "      cursor: pointer;\n",
              "      display: none;\n",
              "      fill: #1967D2;\n",
              "      height: 32px;\n",
              "      padding: 0 0 0 0;\n",
              "      width: 32px;\n",
              "    }\n",
              "\n",
              "    .colab-df-convert:hover {\n",
              "      background-color: #E2EBFA;\n",
              "      box-shadow: 0px 1px 2px rgba(60, 64, 67, 0.3), 0px 1px 3px 1px rgba(60, 64, 67, 0.15);\n",
              "      fill: #174EA6;\n",
              "    }\n",
              "\n",
              "    [theme=dark] .colab-df-convert {\n",
              "      background-color: #3B4455;\n",
              "      fill: #D2E3FC;\n",
              "    }\n",
              "\n",
              "    [theme=dark] .colab-df-convert:hover {\n",
              "      background-color: #434B5C;\n",
              "      box-shadow: 0px 1px 3px 1px rgba(0, 0, 0, 0.15);\n",
              "      filter: drop-shadow(0px 1px 2px rgba(0, 0, 0, 0.3));\n",
              "      fill: #FFFFFF;\n",
              "    }\n",
              "  </style>\n",
              "\n",
              "      <script>\n",
              "        const buttonEl =\n",
              "          document.querySelector('#df-75fcd8e7-b725-4dfc-b0a1-08858dc2503f button.colab-df-convert');\n",
              "        buttonEl.style.display =\n",
              "          google.colab.kernel.accessAllowed ? 'block' : 'none';\n",
              "\n",
              "        async function convertToInteractive(key) {\n",
              "          const element = document.querySelector('#df-75fcd8e7-b725-4dfc-b0a1-08858dc2503f');\n",
              "          const dataTable =\n",
              "            await google.colab.kernel.invokeFunction('convertToInteractive',\n",
              "                                                     [key], {});\n",
              "          if (!dataTable) return;\n",
              "\n",
              "          const docLinkHtml = 'Like what you see? Visit the ' +\n",
              "            '<a target=\"_blank\" href=https://colab.research.google.com/notebooks/data_table.ipynb>data table notebook</a>'\n",
              "            + ' to learn more about interactive tables.';\n",
              "          element.innerHTML = '';\n",
              "          dataTable['output_type'] = 'display_data';\n",
              "          await google.colab.output.renderOutput(dataTable, element);\n",
              "          const docLink = document.createElement('div');\n",
              "          docLink.innerHTML = docLinkHtml;\n",
              "          element.appendChild(docLink);\n",
              "        }\n",
              "      </script>\n",
              "    </div>\n",
              "  </div>\n",
              "  "
            ]
          },
          "metadata": {},
          "execution_count": 102
        }
      ]
    },
    {
      "cell_type": "code",
      "source": [
        "#檢視資料的摘要\n",
        "df.info()"
      ],
      "metadata": {
        "colab": {
          "base_uri": "https://localhost:8080/"
        },
        "id": "tzkf8NdGQFX5",
        "outputId": "6e611884-b445-40cb-c12b-3c98c87687e0"
      },
      "execution_count": null,
      "outputs": [
        {
          "output_type": "stream",
          "name": "stdout",
          "text": [
            "<class 'pandas.core.frame.DataFrame'>\n",
            "DatetimeIndex: 3183 entries, 2010-06-29 to 2023-02-17\n",
            "Data columns (total 6 columns):\n",
            " #   Column     Non-Null Count  Dtype  \n",
            "---  ------     --------------  -----  \n",
            " 0   Open       3183 non-null   float64\n",
            " 1   High       3183 non-null   float64\n",
            " 2   Low        3183 non-null   float64\n",
            " 3   Close      3183 non-null   float64\n",
            " 4   Adj Close  3183 non-null   float64\n",
            " 5   Volume     3183 non-null   int64  \n",
            "dtypes: float64(5), int64(1)\n",
            "memory usage: 174.1 KB\n"
          ]
        }
      ]
    },
    {
      "cell_type": "code",
      "source": [
        "df['Close'].tail(30)"
      ],
      "metadata": {
        "colab": {
          "base_uri": "https://localhost:8080/"
        },
        "id": "GQFymwJ-Qcts",
        "outputId": "eb4f5d88-b4b8-48e3-9e72-c412c31e001e"
      },
      "execution_count": null,
      "outputs": [
        {
          "output_type": "execute_result",
          "data": {
            "text/plain": [
              "Date\n",
              "2023-01-06    113.059998\n",
              "2023-01-09    119.769997\n",
              "2023-01-10    118.849998\n",
              "2023-01-11    123.220001\n",
              "2023-01-12    123.559998\n",
              "2023-01-13    122.400002\n",
              "2023-01-17    131.490005\n",
              "2023-01-18    128.779999\n",
              "2023-01-19    127.169998\n",
              "2023-01-20    133.419998\n",
              "2023-01-23    143.750000\n",
              "2023-01-24    143.889999\n",
              "2023-01-25    144.429993\n",
              "2023-01-26    160.270004\n",
              "2023-01-27    177.899994\n",
              "2023-01-30    166.660004\n",
              "2023-01-31    173.220001\n",
              "2023-02-01    181.410004\n",
              "2023-02-02    188.270004\n",
              "2023-02-03    189.979996\n",
              "2023-02-06    194.759995\n",
              "2023-02-07    196.809998\n",
              "2023-02-08    201.289993\n",
              "2023-02-09    207.320007\n",
              "2023-02-10    196.889999\n",
              "2023-02-13    194.639999\n",
              "2023-02-14    209.250000\n",
              "2023-02-15    214.240005\n",
              "2023-02-16    202.039993\n",
              "2023-02-17    208.309998\n",
              "Name: Close, dtype: float64"
            ]
          },
          "metadata": {},
          "execution_count": 105
        }
      ]
    },
    {
      "cell_type": "code",
      "source": [
        "plt.plot(df['Close'].tail(30), \"o--\")"
      ],
      "metadata": {
        "colab": {
          "base_uri": "https://localhost:8080/",
          "height": 282
        },
        "id": "V8G-RrtJQ3Kw",
        "outputId": "b3558675-23d7-44ed-aa61-3019e7c4a29d"
      },
      "execution_count": null,
      "outputs": [
        {
          "output_type": "execute_result",
          "data": {
            "text/plain": [
              "[<matplotlib.lines.Line2D at 0x7f4695284a90>]"
            ]
          },
          "metadata": {},
          "execution_count": 107
        },
        {
          "output_type": "display_data",
          "data": {
            "text/plain": [
              "<Figure size 432x288 with 1 Axes>"
            ],
            "image/png": "[encoded data removed]"
          },
          "metadata": {
            "needs_background": "light"
          }
        }
      ]
    },
    {
      "cell_type": "code",
      "source": [],
      "metadata": {
        "id": "0-v2A035RRpj"
      },
      "execution_count": null,
      "outputs": []
    },
    {
      "cell_type": "markdown",
      "source": [
        "## 練習SP500成分股 symbol\n",
        "\n",
        "https://en.wikipedia.org/wiki/List_of_S%26P_500_companies\n",
        "\n"
      ],
      "metadata": {
        "id": "tureGMMIVmyn"
      }
    },
    {
      "cell_type": "code",
      "source": [
        "url =\"https://en.wikipedia.org/wiki/List_of_S%26P_500_companies\""
      ],
      "metadata": {
        "id": "dzI2f3u-V0Ua"
      },
      "execution_count": null,
      "outputs": []
    },
    {
      "cell_type": "code",
      "source": [
        "df_list = pd.read_html(url)"
      ],
      "metadata": {
        "id": "9rYEwmO8V3fy"
      },
      "execution_count": null,
      "outputs": []
    },
    {
      "cell_type": "code",
      "source": [
        "df_list[0]"
      ],
      "metadata": {
        "id": "PxbEipU8WFWg"
      },
      "execution_count": null,
      "outputs": []
    },
    {
      "cell_type": "code",
      "source": [
        "df_list[0].Symbol"
      ],
      "metadata": {
        "id": "0iDj7SoMWQIx"
      },
      "execution_count": null,
      "outputs": []
    },
    {
      "cell_type": "markdown",
      "source": [
        "### 分析投資報酬率\n"
      ],
      "metadata": {
        "id": "idBfZBvKXUYh"
      }
    },
    {
      "cell_type": "code",
      "source": [
        "df.head()"
      ],
      "metadata": {
        "colab": {
          "base_uri": "https://localhost:8080/",
          "height": 237
        },
        "id": "_cLPjByEWpTc",
        "outputId": "eb92f3d0-1483-43d0-f052-e5e28474fa31"
      },
      "execution_count": null,
      "outputs": [
        {
          "output_type": "execute_result",
          "data": {
            "text/plain": [
              "                Open      High       Low     Close  Adj Close     Volume\n",
              "Date                                                                    \n",
              "2010-06-29  1.266667  1.666667  1.169333  1.592667   1.592667  281494500\n",
              "2010-06-30  1.719333  2.028000  1.553333  1.588667   1.588667  257806500\n",
              "2010-07-01  1.666667  1.728000  1.351333  1.464000   1.464000  123282000\n",
              "2010-07-02  1.533333  1.540000  1.247333  1.280000   1.280000   77097000\n",
              "2010-07-06  1.333333  1.333333  1.055333  1.074000   1.074000  103003500"
            ],
            "text/html": [
              "\n",
              "  <div id=\"df-0b97d121-5189-4749-8cdd-461a5bfa0ff0\">\n",
              "    <div class=\"colab-df-container\">\n",
              "      <div>\n",
              "<style scoped>\n",
              "    .dataframe tbody tr th:only-of-type {\n",
              "        vertical-align: middle;\n",
              "    }\n",
              "\n",
              "    .dataframe tbody tr th {\n",
              "        vertical-align: top;\n",
              "    }\n",
              "\n",
              "    .dataframe thead th {\n",
              "        text-align: right;\n",
              "    }\n",
              "</style>\n",
              "<table border=\"1\" class=\"dataframe\">\n",
              "  <thead>\n",
              "    <tr style=\"text-align: right;\">\n",
              "      <th></th>\n",
              "      <th>Open</th>\n",
              "      <th>High</th>\n",
              "      <th>Low</th>\n",
              "      <th>Close</th>\n",
              "      <th>Adj Close</th>\n",
              "      <th>Volume</th>\n",
              "    </tr>\n",
              "    <tr>\n",
              "      <th>Date</th>\n",
              "      <th></th>\n",
              "      <th></th>\n",
              "      <th></th>\n",
              "      <th></th>\n",
              "      <th></th>\n",
              "      <th></th>\n",
              "    </tr>\n",
              "  </thead>\n",
              "  <tbody>\n",
              "    <tr>\n",
              "      <th>2010-06-29</th>\n",
              "      <td>1.266667</td>\n",
              "      <td>1.666667</td>\n",
              "      <td>1.169333</td>\n",
              "      <td>1.592667</td>\n",
              "      <td>1.592667</td>\n",
              "      <td>281494500</td>\n",
              "    </tr>\n",
              "    <tr>\n",
              "      <th>2010-06-30</th>\n",
              "      <td>1.719333</td>\n",
              "      <td>2.028000</td>\n",
              "      <td>1.553333</td>\n",
              "      <td>1.588667</td>\n",
              "      <td>1.588667</td>\n",
              "      <td>257806500</td>\n",
              "    </tr>\n",
              "    <tr>\n",
              "      <th>2010-07-01</th>\n",
              "      <td>1.666667</td>\n",
              "      <td>1.728000</td>\n",
              "      <td>1.351333</td>\n",
              "      <td>1.464000</td>\n",
              "      <td>1.464000</td>\n",
              "      <td>123282000</td>\n",
              "    </tr>\n",
              "    <tr>\n",
              "      <th>2010-07-02</th>\n",
              "      <td>1.533333</td>\n",
              "      <td>1.540000</td>\n",
              "      <td>1.247333</td>\n",
              "      <td>1.280000</td>\n",
              "      <td>1.280000</td>\n",
              "      <td>77097000</td>\n",
              "    </tr>\n",
              "    <tr>\n",
              "      <th>2010-07-06</th>\n",
              "      <td>1.333333</td>\n",
              "      <td>1.333333</td>\n",
              "      <td>1.055333</td>\n",
              "      <td>1.074000</td>\n",
              "      <td>1.074000</td>\n",
              "      <td>103003500</td>\n",
              "    </tr>\n",
              "  </tbody>\n",
              "</table>\n",
              "</div>\n",
              "      <button class=\"colab-df-convert\" onclick=\"convertToInteractive('df-0b97d121-5189-4749-8cdd-461a5bfa0ff0')\"\n",
              "              title=\"Convert this dataframe to an interactive table.\"\n",
              "              style=\"display:none;\">\n",
              "        \n",
              "  <svg xmlns=\"http://www.w3.org/2000/svg\" height=\"24px\"viewBox=\"0 0 24 24\"\n",
              "       width=\"24px\">\n",
              "    <path d=\"M0 0h24v24H0V0z\" fill=\"none\"/>\n",
              "    <path d=\"M18.56 5.44l.94 2.06.94-2.06 2.06-.94-2.06-.94-.94-2.06-.94 2.06-2.06.94zm-11 1L8.5 8.5l.94-2.06 2.06-.94-2.06-.94L8.5 2.5l-.94 2.06-2.06.94zm10 10l.94 2.06.94-2.06 2.06-.94-2.06-.94-.94-2.06-.94 2.06-2.06.94z\"/><path d=\"M17.41 7.96l-1.37-1.37c-.4-.4-.92-.59-1.43-.59-.52 0-1.04.2-1.43.59L10.3 9.45l-7.72 7.72c-.78.78-.78 2.05 0 2.83L4 21.41c.39.39.9.59 1.41.59.51 0 1.02-.2 1.41-.59l7.78-7.78 2.81-2.81c.8-.78.8-2.07 0-2.86zM5.41 20L4 18.59l7.72-7.72 1.47 1.35L5.41 20z\"/>\n",
              "  </svg>\n",
              "      </button>\n",
              "      \n",
              "  <style>\n",
              "    .colab-df-container {\n",
              "      display:flex;\n",
              "      flex-wrap:wrap;\n",
              "      gap: 12px;\n",
              "    }\n",
              "\n",
              "    .colab-df-convert {\n",
              "      background-color: #E8F0FE;\n",
              "      border: none;\n",
              "      border-radius: 50%;\n",
              "      cursor: pointer;\n",
              "      display: none;\n",
              "      fill: #1967D2;\n",
              "      height: 32px;\n",
              "      padding: 0 0 0 0;\n",
              "      width: 32px;\n",
              "    }\n",
              "\n",
              "    .colab-df-convert:hover {\n",
              "      background-color: #E2EBFA;\n",
              "      box-shadow: 0px 1px 2px rgba(60, 64, 67, 0.3), 0px 1px 3px 1px rgba(60, 64, 67, 0.15);\n",
              "      fill: #174EA6;\n",
              "    }\n",
              "\n",
              "    [theme=dark] .colab-df-convert {\n",
              "      background-color: #3B4455;\n",
              "      fill: #D2E3FC;\n",
              "    }\n",
              "\n",
              "    [theme=dark] .colab-df-convert:hover {\n",
              "      background-color: #434B5C;\n",
              "      box-shadow: 0px 1px 3px 1px rgba(0, 0, 0, 0.15);\n",
              "      filter: drop-shadow(0px 1px 2px rgba(0, 0, 0, 0.3));\n",
              "      fill: #FFFFFF;\n",
              "    }\n",
              "  </style>\n",
              "\n",
              "      <script>\n",
              "        const buttonEl =\n",
              "          document.querySelector('#df-0b97d121-5189-4749-8cdd-461a5bfa0ff0 button.colab-df-convert');\n",
              "        buttonEl.style.display =\n",
              "          google.colab.kernel.accessAllowed ? 'block' : 'none';\n",
              "\n",
              "        async function convertToInteractive(key) {\n",
              "          const element = document.querySelector('#df-0b97d121-5189-4749-8cdd-461a5bfa0ff0');\n",
              "          const dataTable =\n",
              "            await google.colab.kernel.invokeFunction('convertToInteractive',\n",
              "                                                     [key], {});\n",
              "          if (!dataTable) return;\n",
              "\n",
              "          const docLinkHtml = 'Like what you see? Visit the ' +\n",
              "            '<a target=\"_blank\" href=https://colab.research.google.com/notebooks/data_table.ipynb>data table notebook</a>'\n",
              "            + ' to learn more about interactive tables.';\n",
              "          element.innerHTML = '';\n",
              "          dataTable['output_type'] = 'display_data';\n",
              "          await google.colab.output.renderOutput(dataTable, element);\n",
              "          const docLink = document.createElement('div');\n",
              "          docLink.innerHTML = docLinkHtml;\n",
              "          element.appendChild(docLink);\n",
              "        }\n",
              "      </script>\n",
              "    </div>\n",
              "  </div>\n",
              "  "
            ]
          },
          "metadata": {},
          "execution_count": 116
        }
      ]
    },
    {
      "cell_type": "markdown",
      "source": [
        "### 讀取單一欄位\n"
      ],
      "metadata": {
        "id": "gN6uMSbTXvoJ"
      }
    },
    {
      "cell_type": "code",
      "source": [
        "df.Close"
      ],
      "metadata": {
        "colab": {
          "base_uri": "https://localhost:8080/"
        },
        "id": "UhZxTorwXuYK",
        "outputId": "14c6c907-30a8-4de4-e9e5-eab83f6f36ff"
      },
      "execution_count": null,
      "outputs": [
        {
          "output_type": "execute_result",
          "data": {
            "text/plain": [
              "Date\n",
              "2010-06-29      1.592667\n",
              "2010-06-30      1.588667\n",
              "2010-07-01      1.464000\n",
              "2010-07-02      1.280000\n",
              "2010-07-06      1.074000\n",
              "                 ...    \n",
              "2023-02-13    194.639999\n",
              "2023-02-14    209.250000\n",
              "2023-02-15    214.240005\n",
              "2023-02-16    202.039993\n",
              "2023-02-17    208.309998\n",
              "Name: Close, Length: 3183, dtype: float64"
            ]
          },
          "metadata": {},
          "execution_count": 117
        }
      ]
    },
    {
      "cell_type": "code",
      "source": [
        "df['Close']"
      ],
      "metadata": {
        "colab": {
          "base_uri": "https://localhost:8080/"
        },
        "id": "d-Fw5BA1X6Pg",
        "outputId": "3653ad16-05d8-4fc5-c720-b68ad88f2d0d"
      },
      "execution_count": null,
      "outputs": [
        {
          "output_type": "execute_result",
          "data": {
            "text/plain": [
              "Date\n",
              "2010-06-29      1.592667\n",
              "2010-06-30      1.588667\n",
              "2010-07-01      1.464000\n",
              "2010-07-02      1.280000\n",
              "2010-07-06      1.074000\n",
              "                 ...    \n",
              "2023-02-13    194.639999\n",
              "2023-02-14    209.250000\n",
              "2023-02-15    214.240005\n",
              "2023-02-16    202.039993\n",
              "2023-02-17    208.309998\n",
              "Name: Close, Length: 3183, dtype: float64"
            ]
          },
          "metadata": {},
          "execution_count": 118
        }
      ]
    },
    {
      "cell_type": "code",
      "source": [
        "type(df.Close) #單獨讀取欄位資料型態就為Series"
      ],
      "metadata": {
        "colab": {
          "base_uri": "https://localhost:8080/"
        },
        "id": "W4QfCY2aYBQX",
        "outputId": "6e22dba8-564d-4b86-d050-9a707e44f34f"
      },
      "execution_count": null,
      "outputs": [
        {
          "output_type": "execute_result",
          "data": {
            "text/plain": [
              "pandas.core.series.Series"
            ]
          },
          "metadata": {},
          "execution_count": 119
        }
      ]
    },
    {
      "cell_type": "code",
      "source": [
        "df.Close[-15:] "
      ],
      "metadata": {
        "colab": {
          "base_uri": "https://localhost:8080/"
        },
        "id": "teX0Qyn9YFnq",
        "outputId": "cbb60a9b-34d2-48e8-c957-ace65bb93a0d"
      },
      "execution_count": null,
      "outputs": [
        {
          "output_type": "execute_result",
          "data": {
            "text/plain": [
              "Date\n",
              "2023-01-30    166.660004\n",
              "2023-01-31    173.220001\n",
              "2023-02-01    181.410004\n",
              "2023-02-02    188.270004\n",
              "2023-02-03    189.979996\n",
              "2023-02-06    194.759995\n",
              "2023-02-07    196.809998\n",
              "2023-02-08    201.289993\n",
              "2023-02-09    207.320007\n",
              "2023-02-10    196.889999\n",
              "2023-02-13    194.639999\n",
              "2023-02-14    209.250000\n",
              "2023-02-15    214.240005\n",
              "2023-02-16    202.039993\n",
              "2023-02-17    208.309998\n",
              "Name: Close, dtype: float64"
            ]
          },
          "metadata": {},
          "execution_count": 121
        }
      ]
    },
    {
      "cell_type": "code",
      "source": [
        "df[['Open', 'Close']] #一次讀取2欄位"
      ],
      "metadata": {
        "colab": {
          "base_uri": "https://localhost:8080/",
          "height": 455
        },
        "id": "UAuQcv2vY_8C",
        "outputId": "56e8d57d-4614-4eff-bfcd-cba322855198"
      },
      "execution_count": null,
      "outputs": [
        {
          "output_type": "execute_result",
          "data": {
            "text/plain": [
              "                  Open       Close\n",
              "Date                              \n",
              "2010-06-29    1.266667    1.592667\n",
              "2010-06-30    1.719333    1.588667\n",
              "2010-07-01    1.666667    1.464000\n",
              "2010-07-02    1.533333    1.280000\n",
              "2010-07-06    1.333333    1.074000\n",
              "...                ...         ...\n",
              "2023-02-13  194.419998  194.639999\n",
              "2023-02-14  191.940002  209.250000\n",
              "2023-02-15  211.759995  214.240005\n",
              "2023-02-16  210.779999  202.039993\n",
              "2023-02-17  199.990005  208.309998\n",
              "\n",
              "[3183 rows x 2 columns]"
            ],
            "text/html": [
              "\n",
              "  <div id=\"df-239e5425-c87b-4f19-a296-773215dde884\">\n",
              "    <div class=\"colab-df-container\">\n",
              "      <div>\n",
              "<style scoped>\n",
              "    .dataframe tbody tr th:only-of-type {\n",
              "        vertical-align: middle;\n",
              "    }\n",
              "\n",
              "    .dataframe tbody tr th {\n",
              "        vertical-align: top;\n",
              "    }\n",
              "\n",
              "    .dataframe thead th {\n",
              "        text-align: right;\n",
              "    }\n",
              "</style>\n",
              "<table border=\"1\" class=\"dataframe\">\n",
              "  <thead>\n",
              "    <tr style=\"text-align: right;\">\n",
              "      <th></th>\n",
              "      <th>Open</th>\n",
              "      <th>Close</th>\n",
              "    </tr>\n",
              "    <tr>\n",
              "      <th>Date</th>\n",
              "      <th></th>\n",
              "      <th></th>\n",
              "    </tr>\n",
              "  </thead>\n",
              "  <tbody>\n",
              "    <tr>\n",
              "      <th>2010-06-29</th>\n",
              "      <td>1.266667</td>\n",
              "      <td>1.592667</td>\n",
              "    </tr>\n",
              "    <tr>\n",
              "      <th>2010-06-30</th>\n",
              "      <td>1.719333</td>\n",
              "      <td>1.588667</td>\n",
              "    </tr>\n",
              "    <tr>\n",
              "      <th>2010-07-01</th>\n",
              "      <td>1.666667</td>\n",
              "      <td>1.464000</td>\n",
              "    </tr>\n",
              "    <tr>\n",
              "      <th>2010-07-02</th>\n",
              "      <td>1.533333</td>\n",
              "      <td>1.280000</td>\n",
              "    </tr>\n",
              "    <tr>\n",
              "      <th>2010-07-06</th>\n",
              "      <td>1.333333</td>\n",
              "      <td>1.074000</td>\n",
              "    </tr>\n",
              "    <tr>\n",
              "      <th>...</th>\n",
              "      <td>...</td>\n",
              "      <td>...</td>\n",
              "    </tr>\n",
              "    <tr>\n",
              "      <th>2023-02-13</th>\n",
              "      <td>194.419998</td>\n",
              "      <td>194.639999</td>\n",
              "    </tr>\n",
              "    <tr>\n",
              "      <th>2023-02-14</th>\n",
              "      <td>191.940002</td>\n",
              "      <td>209.250000</td>\n",
              "    </tr>\n",
              "    <tr>\n",
              "      <th>2023-02-15</th>\n",
              "      <td>211.759995</td>\n",
              "      <td>214.240005</td>\n",
              "    </tr>\n",
              "    <tr>\n",
              "      <th>2023-02-16</th>\n",
              "      <td>210.779999</td>\n",
              "      <td>202.039993</td>\n",
              "    </tr>\n",
              "    <tr>\n",
              "      <th>2023-02-17</th>\n",
              "      <td>199.990005</td>\n",
              "      <td>208.309998</td>\n",
              "    </tr>\n",
              "  </tbody>\n",
              "</table>\n",
              "<p>3183 rows × 2 columns</p>\n",
              "</div>\n",
              "      <button class=\"colab-df-convert\" onclick=\"convertToInteractive('df-239e5425-c87b-4f19-a296-773215dde884')\"\n",
              "              title=\"Convert this dataframe to an interactive table.\"\n",
              "              style=\"display:none;\">\n",
              "        \n",
              "  <svg xmlns=\"http://www.w3.org/2000/svg\" height=\"24px\"viewBox=\"0 0 24 24\"\n",
              "       width=\"24px\">\n",
              "    <path d=\"M0 0h24v24H0V0z\" fill=\"none\"/>\n",
              "    <path d=\"M18.56 5.44l.94 2.06.94-2.06 2.06-.94-2.06-.94-.94-2.06-.94 2.06-2.06.94zm-11 1L8.5 8.5l.94-2.06 2.06-.94-2.06-.94L8.5 2.5l-.94 2.06-2.06.94zm10 10l.94 2.06.94-2.06 2.06-.94-2.06-.94-.94-2.06-.94 2.06-2.06.94z\"/><path d=\"M17.41 7.96l-1.37-1.37c-.4-.4-.92-.59-1.43-.59-.52 0-1.04.2-1.43.59L10.3 9.45l-7.72 7.72c-.78.78-.78 2.05 0 2.83L4 21.41c.39.39.9.59 1.41.59.51 0 1.02-.2 1.41-.59l7.78-7.78 2.81-2.81c.8-.78.8-2.07 0-2.86zM5.41 20L4 18.59l7.72-7.72 1.47 1.35L5.41 20z\"/>\n",
              "  </svg>\n",
              "      </button>\n",
              "      \n",
              "  <style>\n",
              "    .colab-df-container {\n",
              "      display:flex;\n",
              "      flex-wrap:wrap;\n",
              "      gap: 12px;\n",
              "    }\n",
              "\n",
              "    .colab-df-convert {\n",
              "      background-color: #E8F0FE;\n",
              "      border: none;\n",
              "      border-radius: 50%;\n",
              "      cursor: pointer;\n",
              "      display: none;\n",
              "      fill: #1967D2;\n",
              "      height: 32px;\n",
              "      padding: 0 0 0 0;\n",
              "      width: 32px;\n",
              "    }\n",
              "\n",
              "    .colab-df-convert:hover {\n",
              "      background-color: #E2EBFA;\n",
              "      box-shadow: 0px 1px 2px rgba(60, 64, 67, 0.3), 0px 1px 3px 1px rgba(60, 64, 67, 0.15);\n",
              "      fill: #174EA6;\n",
              "    }\n",
              "\n",
              "    [theme=dark] .colab-df-convert {\n",
              "      background-color: #3B4455;\n",
              "      fill: #D2E3FC;\n",
              "    }\n",
              "\n",
              "    [theme=dark] .colab-df-convert:hover {\n",
              "      background-color: #434B5C;\n",
              "      box-shadow: 0px 1px 3px 1px rgba(0, 0, 0, 0.15);\n",
              "      filter: drop-shadow(0px 1px 2px rgba(0, 0, 0, 0.3));\n",
              "      fill: #FFFFFF;\n",
              "    }\n",
              "  </style>\n",
              "\n",
              "      <script>\n",
              "        const buttonEl =\n",
              "          document.querySelector('#df-239e5425-c87b-4f19-a296-773215dde884 button.colab-df-convert');\n",
              "        buttonEl.style.display =\n",
              "          google.colab.kernel.accessAllowed ? 'block' : 'none';\n",
              "\n",
              "        async function convertToInteractive(key) {\n",
              "          const element = document.querySelector('#df-239e5425-c87b-4f19-a296-773215dde884');\n",
              "          const dataTable =\n",
              "            await google.colab.kernel.invokeFunction('convertToInteractive',\n",
              "                                                     [key], {});\n",
              "          if (!dataTable) return;\n",
              "\n",
              "          const docLinkHtml = 'Like what you see? Visit the ' +\n",
              "            '<a target=\"_blank\" href=https://colab.research.google.com/notebooks/data_table.ipynb>data table notebook</a>'\n",
              "            + ' to learn more about interactive tables.';\n",
              "          element.innerHTML = '';\n",
              "          dataTable['output_type'] = 'display_data';\n",
              "          await google.colab.output.renderOutput(dataTable, element);\n",
              "          const docLink = document.createElement('div');\n",
              "          docLink.innerHTML = docLinkHtml;\n",
              "          element.appendChild(docLink);\n",
              "        }\n",
              "      </script>\n",
              "    </div>\n",
              "  </div>\n",
              "  "
            ]
          },
          "metadata": {},
          "execution_count": 122
        }
      ]
    },
    {
      "cell_type": "markdown",
      "source": [
        "#### 計算投資報酬率\n",
        "\n"
      ],
      "metadata": {
        "id": "pL-PSeNbbobl"
      }
    },
    {
      "cell_type": "code",
      "source": [
        "df.Close"
      ],
      "metadata": {
        "colab": {
          "base_uri": "https://localhost:8080/"
        },
        "id": "hLIYuzQCZgat",
        "outputId": "96acbc7f-4365-4bf5-832b-a63850f48174"
      },
      "execution_count": null,
      "outputs": [
        {
          "output_type": "execute_result",
          "data": {
            "text/plain": [
              "Date\n",
              "2010-06-29      1.592667\n",
              "2010-06-30      1.588667\n",
              "2010-07-01      1.464000\n",
              "2010-07-02      1.280000\n",
              "2010-07-06      1.074000\n",
              "                 ...    \n",
              "2023-02-13    194.639999\n",
              "2023-02-14    209.250000\n",
              "2023-02-15    214.240005\n",
              "2023-02-16    202.039993\n",
              "2023-02-17    208.309998\n",
              "Name: Close, Length: 3183, dtype: float64"
            ]
          },
          "metadata": {},
          "execution_count": 123
        }
      ]
    },
    {
      "cell_type": "code",
      "source": [
        "df.Close[0]"
      ],
      "metadata": {
        "colab": {
          "base_uri": "https://localhost:8080/"
        },
        "id": "nF_rTXEhcBjP",
        "outputId": "8db5a37b-d844-416e-dfaa-d3b40f262222"
      },
      "execution_count": null,
      "outputs": [
        {
          "output_type": "execute_result",
          "data": {
            "text/plain": [
              "1.5926669836044312"
            ]
          },
          "metadata": {},
          "execution_count": 124
        }
      ]
    },
    {
      "cell_type": "code",
      "source": [
        "df.Close[-360]"
      ],
      "metadata": {
        "colab": {
          "base_uri": "https://localhost:8080/"
        },
        "id": "Sfx1yEBDcL6q",
        "outputId": "9ef7d1b6-6778-41b7-8bd6-60c450d202c2"
      },
      "execution_count": null,
      "outputs": [
        {
          "output_type": "execute_result",
          "data": {
            "text/plain": [
              "251.94332885742188"
            ]
          },
          "metadata": {},
          "execution_count": 132
        }
      ]
    },
    {
      "cell_type": "code",
      "source": [
        "df.Close[-1] / df.Close[0]"
      ],
      "metadata": {
        "colab": {
          "base_uri": "https://localhost:8080/"
        },
        "id": "XmZpz0zQcOcR",
        "outputId": "dfb3ccac-b599-4a85-adbf-1f517fbb1bd1"
      },
      "execution_count": null,
      "outputs": [
        {
          "output_type": "execute_result",
          "data": {
            "text/plain": [
              "130.79319135953875"
            ]
          },
          "metadata": {},
          "execution_count": 136
        }
      ]
    },
    {
      "cell_type": "code",
      "source": [
        "df['2023'].Close[0] #舊式語句,日後將會失效"
      ],
      "metadata": {
        "colab": {
          "base_uri": "https://localhost:8080/"
        },
        "id": "khmwvo5XgmyM",
        "outputId": "6ff70738-ac1b-4156-e743-c234f92ca6fd"
      },
      "execution_count": null,
      "outputs": [
        {
          "output_type": "stream",
          "name": "stderr",
          "text": [
            "<ipython-input-139-219dca36fd8f>:1: FutureWarning: Indexing a DataFrame with a datetimelike index using a single string to slice the rows, like `frame[string]`, is deprecated and will be removed in a future version. Use `frame.loc[string]` instead.\n",
            "  df['2023'].Close[0]\n"
          ]
        },
        {
          "output_type": "execute_result",
          "data": {
            "text/plain": [
              "108.0999984741211"
            ]
          },
          "metadata": {},
          "execution_count": 139
        }
      ]
    },
    {
      "cell_type": "code",
      "source": [
        "df.loc['2023'].Close[0]"
      ],
      "metadata": {
        "colab": {
          "base_uri": "https://localhost:8080/"
        },
        "id": "QGEzwGivc8eH",
        "outputId": "bf157940-fc7e-4f21-865d-3d6f76abb7af"
      },
      "execution_count": null,
      "outputs": [
        {
          "output_type": "execute_result",
          "data": {
            "text/plain": [
              "108.0999984741211"
            ]
          },
          "metadata": {},
          "execution_count": 137
        }
      ]
    },
    {
      "cell_type": "code",
      "source": [
        "df.loc['2023'].Close[-1] / df.loc['2023'].Close[0]"
      ],
      "metadata": {
        "colab": {
          "base_uri": "https://localhost:8080/"
        },
        "id": "t_fgkGcncy5l",
        "outputId": "56c4729e-09a8-4dc9-cae1-602498211cc9"
      },
      "execution_count": null,
      "outputs": [
        {
          "output_type": "execute_result",
          "data": {
            "text/plain": [
              "1.9270120305178609"
            ]
          },
          "metadata": {},
          "execution_count": 138
        }
      ]
    },
    {
      "cell_type": "code",
      "source": [
        "df.loc['2022-12'].Close"
      ],
      "metadata": {
        "colab": {
          "base_uri": "https://localhost:8080/"
        },
        "id": "JW8tzmh1f7vO",
        "outputId": "f4c266bb-2a8d-4127-f5b2-eb14daf660c8"
      },
      "execution_count": null,
      "outputs": [
        {
          "output_type": "execute_result",
          "data": {
            "text/plain": [
              "Date\n",
              "2022-12-01    194.699997\n",
              "2022-12-02    194.860001\n",
              "2022-12-05    182.449997\n",
              "2022-12-06    179.820007\n",
              "2022-12-07    174.039993\n",
              "2022-12-08    173.440002\n",
              "2022-12-09    179.050003\n",
              "2022-12-12    167.820007\n",
              "2022-12-13    160.949997\n",
              "2022-12-14    156.800003\n",
              "2022-12-15    157.669998\n",
              "2022-12-16    150.229996\n",
              "2022-12-19    149.869995\n",
              "2022-12-20    137.800003\n",
              "2022-12-21    137.570007\n",
              "2022-12-22    125.349998\n",
              "2022-12-23    123.150002\n",
              "2022-12-27    109.099998\n",
              "2022-12-28    112.709999\n",
              "2022-12-29    121.820000\n",
              "2022-12-30    123.180000\n",
              "Name: Close, dtype: float64"
            ]
          },
          "metadata": {},
          "execution_count": 145
        }
      ]
    },
    {
      "cell_type": "markdown",
      "source": [
        "#### 計算2022年初10月買進持有到2023-02賣出到現在的資產變化"
      ],
      "metadata": {
        "id": "b6MUOQakilp3"
      }
    },
    {
      "cell_type": "code",
      "source": [
        "df.loc['2022-10':'2023-02'].Close[-1] / df.loc['2022-10':'2023-02'].Close[0]"
      ],
      "metadata": {
        "colab": {
          "base_uri": "https://localhost:8080/"
        },
        "id": "TsEYDyeXhMOf",
        "outputId": "752ac3aa-e95d-4bca-af22-4101bf1cd25b"
      },
      "execution_count": null,
      "outputs": [
        {
          "output_type": "execute_result",
          "data": {
            "text/plain": [
              "0.8593646980352294"
            ]
          },
          "metadata": {},
          "execution_count": 147
        }
      ]
    },
    {
      "cell_type": "code",
      "source": [
        "df.loc['2022-10':'2023-02']"
      ],
      "metadata": {
        "colab": {
          "base_uri": "https://localhost:8080/",
          "height": 455
        },
        "id": "nqYebzDBjPzw",
        "outputId": "6eee5cc4-e23d-46a6-9d9a-3d41c3be2a0c"
      },
      "execution_count": null,
      "outputs": [
        {
          "output_type": "execute_result",
          "data": {
            "text/plain": [
              "                  Open        High         Low       Close   Adj Close  \\\n",
              "Date                                                                     \n",
              "2022-10-03  254.500000  255.160004  241.009995  242.399994  242.399994   \n",
              "2022-10-04  250.520004  257.500000  242.009995  249.440002  249.440002   \n",
              "2022-10-05  245.009995  246.669998  233.270004  240.809998  240.809998   \n",
              "2022-10-06  239.440002  244.580002  235.350006  238.130005  238.130005   \n",
              "2022-10-07  233.940002  234.570007  222.020004  223.070007  223.070007   \n",
              "...                ...         ...         ...         ...         ...   \n",
              "2023-02-13  194.419998  196.300003  187.610001  194.639999  194.639999   \n",
              "2023-02-14  191.940002  209.820007  189.440002  209.250000  209.250000   \n",
              "2023-02-15  211.759995  214.660004  206.110001  214.240005  214.240005   \n",
              "2023-02-16  210.779999  217.649994  201.839996  202.039993  202.039993   \n",
              "2023-02-17  199.990005  208.440002  197.500000  208.309998  208.309998   \n",
              "\n",
              "               Volume  \n",
              "Date                   \n",
              "2022-10-03   98363500  \n",
              "2022-10-04  109578500  \n",
              "2022-10-05   86982700  \n",
              "2022-10-06   69298400  \n",
              "2022-10-07   83916800  \n",
              "...               ...  \n",
              "2023-02-13  172475500  \n",
              "2023-02-14  216455700  \n",
              "2023-02-15  182108600  \n",
              "2023-02-16  229586500  \n",
              "2023-02-17  213080200  \n",
              "\n",
              "[96 rows x 6 columns]"
            ],
            "text/html": [
              "\n",
              "  <div id=\"df-bf39f654-b0bb-4fbc-8884-cb78cdb0cd02\">\n",
              "    <div class=\"colab-df-container\">\n",
              "      <div>\n",
              "<style scoped>\n",
              "    .dataframe tbody tr th:only-of-type {\n",
              "        vertical-align: middle;\n",
              "    }\n",
              "\n",
              "    .dataframe tbody tr th {\n",
              "        vertical-align: top;\n",
              "    }\n",
              "\n",
              "    .dataframe thead th {\n",
              "        text-align: right;\n",
              "    }\n",
              "</style>\n",
              "<table border=\"1\" class=\"dataframe\">\n",
              "  <thead>\n",
              "    <tr style=\"text-align: right;\">\n",
              "      <th></th>\n",
              "      <th>Open</th>\n",
              "      <th>High</th>\n",
              "      <th>Low</th>\n",
              "      <th>Close</th>\n",
              "      <th>Adj Close</th>\n",
              "      <th>Volume</th>\n",
              "    </tr>\n",
              "    <tr>\n",
              "      <th>Date</th>\n",
              "      <th></th>\n",
              "      <th></th>\n",
              "      <th></th>\n",
              "      <th></th>\n",
              "      <th></th>\n",
              "      <th></th>\n",
              "    </tr>\n",
              "  </thead>\n",
              "  <tbody>\n",
              "    <tr>\n",
              "      <th>2022-10-03</th>\n",
              "      <td>254.500000</td>\n",
              "      <td>255.160004</td>\n",
              "      <td>241.009995</td>\n",
              "      <td>242.399994</td>\n",
              "      <td>242.399994</td>\n",
              "      <td>98363500</td>\n",
              "    </tr>\n",
              "    <tr>\n",
              "      <th>2022-10-04</th>\n",
              "      <td>250.520004</td>\n",
              "      <td>257.500000</td>\n",
              "      <td>242.009995</td>\n",
              "      <td>249.440002</td>\n",
              "      <td>249.440002</td>\n",
              "      <td>109578500</td>\n",
              "    </tr>\n",
              "    <tr>\n",
              "      <th>2022-10-05</th>\n",
              "      <td>245.009995</td>\n",
              "      <td>246.669998</td>\n",
              "      <td>233.270004</td>\n",
              "      <td>240.809998</td>\n",
              "      <td>240.809998</td>\n",
              "      <td>86982700</td>\n",
              "    </tr>\n",
              "    <tr>\n",
              "      <th>2022-10-06</th>\n",
              "      <td>239.440002</td>\n",
              "      <td>244.580002</td>\n",
              "      <td>235.350006</td>\n",
              "      <td>238.130005</td>\n",
              "      <td>238.130005</td>\n",
              "      <td>69298400</td>\n",
              "    </tr>\n",
              "    <tr>\n",
              "      <th>2022-10-07</th>\n",
              "      <td>233.940002</td>\n",
              "      <td>234.570007</td>\n",
              "      <td>222.020004</td>\n",
              "      <td>223.070007</td>\n",
              "      <td>223.070007</td>\n",
              "      <td>83916800</td>\n",
              "    </tr>\n",
              "    <tr>\n",
              "      <th>...</th>\n",
              "      <td>...</td>\n",
              "      <td>...</td>\n",
              "      <td>...</td>\n",
              "      <td>...</td>\n",
              "      <td>...</td>\n",
              "      <td>...</td>\n",
              "    </tr>\n",
              "    <tr>\n",
              "      <th>2023-02-13</th>\n",
              "      <td>194.419998</td>\n",
              "      <td>196.300003</td>\n",
              "      <td>187.610001</td>\n",
              "      <td>194.639999</td>\n",
              "      <td>194.639999</td>\n",
              "      <td>172475500</td>\n",
              "    </tr>\n",
              "    <tr>\n",
              "      <th>2023-02-14</th>\n",
              "      <td>191.940002</td>\n",
              "      <td>209.820007</td>\n",
              "      <td>189.440002</td>\n",
              "      <td>209.250000</td>\n",
              "      <td>209.250000</td>\n",
              "      <td>216455700</td>\n",
              "    </tr>\n",
              "    <tr>\n",
              "      <th>2023-02-15</th>\n",
              "      <td>211.759995</td>\n",
              "      <td>214.660004</td>\n",
              "      <td>206.110001</td>\n",
              "      <td>214.240005</td>\n",
              "      <td>214.240005</td>\n",
              "      <td>182108600</td>\n",
              "    </tr>\n",
              "    <tr>\n",
              "      <th>2023-02-16</th>\n",
              "      <td>210.779999</td>\n",
              "      <td>217.649994</td>\n",
              "      <td>201.839996</td>\n",
              "      <td>202.039993</td>\n",
              "      <td>202.039993</td>\n",
              "      <td>229586500</td>\n",
              "    </tr>\n",
              "    <tr>\n",
              "      <th>2023-02-17</th>\n",
              "      <td>199.990005</td>\n",
              "      <td>208.440002</td>\n",
              "      <td>197.500000</td>\n",
              "      <td>208.309998</td>\n",
              "      <td>208.309998</td>\n",
              "      <td>213080200</td>\n",
              "    </tr>\n",
              "  </tbody>\n",
              "</table>\n",
              "<p>96 rows × 6 columns</p>\n",
              "</div>\n",
              "      <button class=\"colab-df-convert\" onclick=\"convertToInteractive('df-bf39f654-b0bb-4fbc-8884-cb78cdb0cd02')\"\n",
              "              title=\"Convert this dataframe to an interactive table.\"\n",
              "              style=\"display:none;\">\n",
              "        \n",
              "  <svg xmlns=\"http://www.w3.org/2000/svg\" height=\"24px\"viewBox=\"0 0 24 24\"\n",
              "       width=\"24px\">\n",
              "    <path d=\"M0 0h24v24H0V0z\" fill=\"none\"/>\n",
              "    <path d=\"M18.56 5.44l.94 2.06.94-2.06 2.06-.94-2.06-.94-.94-2.06-.94 2.06-2.06.94zm-11 1L8.5 8.5l.94-2.06 2.06-.94-2.06-.94L8.5 2.5l-.94 2.06-2.06.94zm10 10l.94 2.06.94-2.06 2.06-.94-2.06-.94-.94-2.06-.94 2.06-2.06.94z\"/><path d=\"M17.41 7.96l-1.37-1.37c-.4-.4-.92-.59-1.43-.59-.52 0-1.04.2-1.43.59L10.3 9.45l-7.72 7.72c-.78.78-.78 2.05 0 2.83L4 21.41c.39.39.9.59 1.41.59.51 0 1.02-.2 1.41-.59l7.78-7.78 2.81-2.81c.8-.78.8-2.07 0-2.86zM5.41 20L4 18.59l7.72-7.72 1.47 1.35L5.41 20z\"/>\n",
              "  </svg>\n",
              "      </button>\n",
              "      \n",
              "  <style>\n",
              "    .colab-df-container {\n",
              "      display:flex;\n",
              "      flex-wrap:wrap;\n",
              "      gap: 12px;\n",
              "    }\n",
              "\n",
              "    .colab-df-convert {\n",
              "      background-color: #E8F0FE;\n",
              "      border: none;\n",
              "      border-radius: 50%;\n",
              "      cursor: pointer;\n",
              "      display: none;\n",
              "      fill: #1967D2;\n",
              "      height: 32px;\n",
              "      padding: 0 0 0 0;\n",
              "      width: 32px;\n",
              "    }\n",
              "\n",
              "    .colab-df-convert:hover {\n",
              "      background-color: #E2EBFA;\n",
              "      box-shadow: 0px 1px 2px rgba(60, 64, 67, 0.3), 0px 1px 3px 1px rgba(60, 64, 67, 0.15);\n",
              "      fill: #174EA6;\n",
              "    }\n",
              "\n",
              "    [theme=dark] .colab-df-convert {\n",
              "      background-color: #3B4455;\n",
              "      fill: #D2E3FC;\n",
              "    }\n",
              "\n",
              "    [theme=dark] .colab-df-convert:hover {\n",
              "      background-color: #434B5C;\n",
              "      box-shadow: 0px 1px 3px 1px rgba(0, 0, 0, 0.15);\n",
              "      filter: drop-shadow(0px 1px 2px rgba(0, 0, 0, 0.3));\n",
              "      fill: #FFFFFF;\n",
              "    }\n",
              "  </style>\n",
              "\n",
              "      <script>\n",
              "        const buttonEl =\n",
              "          document.querySelector('#df-bf39f654-b0bb-4fbc-8884-cb78cdb0cd02 button.colab-df-convert');\n",
              "        buttonEl.style.display =\n",
              "          google.colab.kernel.accessAllowed ? 'block' : 'none';\n",
              "\n",
              "        async function convertToInteractive(key) {\n",
              "          const element = document.querySelector('#df-bf39f654-b0bb-4fbc-8884-cb78cdb0cd02');\n",
              "          const dataTable =\n",
              "            await google.colab.kernel.invokeFunction('convertToInteractive',\n",
              "                                                     [key], {});\n",
              "          if (!dataTable) return;\n",
              "\n",
              "          const docLinkHtml = 'Like what you see? Visit the ' +\n",
              "            '<a target=\"_blank\" href=https://colab.research.google.com/notebooks/data_table.ipynb>data table notebook</a>'\n",
              "            + ' to learn more about interactive tables.';\n",
              "          element.innerHTML = '';\n",
              "          dataTable['output_type'] = 'display_data';\n",
              "          await google.colab.output.renderOutput(dataTable, element);\n",
              "          const docLink = document.createElement('div');\n",
              "          docLink.innerHTML = docLinkHtml;\n",
              "          element.appendChild(docLink);\n",
              "        }\n",
              "      </script>\n",
              "    </div>\n",
              "  </div>\n",
              "  "
            ]
          },
          "metadata": {},
          "execution_count": 149
        }
      ]
    },
    {
      "cell_type": "markdown",
      "source": [
        "### 資料視覺化\n"
      ],
      "metadata": {
        "id": "GfIcvf24kG18"
      }
    },
    {
      "cell_type": "markdown",
      "source": [
        "## 繪製收盤曲線\n",
        "\n"
      ],
      "metadata": {
        "id": "zpFEUuPBkLxw"
      }
    },
    {
      "cell_type": "code",
      "source": [
        "df.loc['2022'].Close.plot()"
      ],
      "metadata": {
        "colab": {
          "base_uri": "https://localhost:8080/",
          "height": 294
        },
        "id": "HSfxaBcbktCa",
        "outputId": "6c54b67a-ce32-4cdf-98fc-8aa2f5cb3154"
      },
      "execution_count": null,
      "outputs": [
        {
          "output_type": "execute_result",
          "data": {
            "text/plain": [
              "<matplotlib.axes._subplots.AxesSubplot at 0x7f4694aa5700>"
            ]
          },
          "metadata": {},
          "execution_count": 152
        },
        {
          "output_type": "display_data",
          "data": {
            "text/plain": [
              "<Figure size 432x288 with 1 Axes>"
            ],
            "image/png": "[encoded data removed]"
          },
          "metadata": {
            "needs_background": "light"
          }
        }
      ]
    },
    {
      "cell_type": "code",
      "source": [
        "plt.plot(df.loc['2023'].Close, \"ro-\")"
      ],
      "metadata": {
        "colab": {
          "base_uri": "https://localhost:8080/",
          "height": 282
        },
        "id": "sqxwRcIGkXF8",
        "outputId": "454c1cc9-7acf-45d0-bf1c-84f8e2506456"
      },
      "execution_count": null,
      "outputs": [
        {
          "output_type": "execute_result",
          "data": {
            "text/plain": [
              "[<matplotlib.lines.Line2D at 0x7f46950b7820>]"
            ]
          },
          "metadata": {},
          "execution_count": 150
        },
        {
          "output_type": "display_data",
          "data": {
            "text/plain": [
              "<Figure size 432x288 with 1 Axes>"
            ],
            "image/png": "[encoded data removed]"
          },
          "metadata": {
            "needs_background": "light"
          }
        }
      ]
    },
    {
      "cell_type": "markdown",
      "source": [
        "#### 繪製K線圖\n",
        "\n",
        "https://github.com/matplotlib/mplfinance\n"
      ],
      "metadata": {
        "id": "FgpmkIRmliBM"
      }
    },
    {
      "cell_type": "code",
      "source": [
        "!pip install --upgrade mplfinance"
      ],
      "metadata": {
        "colab": {
          "base_uri": "https://localhost:8080/"
        },
        "id": "WUSLcKsJjn-3",
        "outputId": "9798d183-f084-4a0b-c934-f2ef92257dc3"
      },
      "execution_count": null,
      "outputs": [
        {
          "output_type": "stream",
          "name": "stdout",
          "text": [
            "Looking in indexes: https://pypi.org/simple, https://us-python.pkg.dev/colab-wheels/public/simple/\n",
            "Collecting mplfinance\n",
            "  Downloading mplfinance-0.12.9b7-py3-none-any.whl (73 kB)\n",
            "\u001b[2K     \u001b[90m━━━━━━━━━━━━━━━━━━━━━━━━━━━━━━━━━━━━━━━━\u001b[0m \u001b[32m73.1/73.1 KB\u001b[0m \u001b[31m3.9 MB/s\u001b[0m eta \u001b[36m0:00:00\u001b[0m\n",
            "\u001b[?25hRequirement already satisfied: pandas in /usr/local/lib/python3.8/dist-packages (from mplfinance) (1.3.5)\n",
            "Requirement already satisfied: matplotlib in /usr/local/lib/python3.8/dist-packages (from mplfinance) (3.2.2)\n",
            "Requirement already satisfied: python-dateutil>=2.1 in /usr/local/lib/python3.8/dist-packages (from matplotlib->mplfinance) (2.8.2)\n",
            "Requirement already satisfied: pyparsing!=2.0.4,!=2.1.2,!=2.1.6,>=2.0.1 in /usr/local/lib/python3.8/dist-packages (from matplotlib->mplfinance) (3.0.9)\n",
            "Requirement already satisfied: numpy>=1.11 in /usr/local/lib/python3.8/dist-packages (from matplotlib->mplfinance) (1.21.6)\n",
            "Requirement already satisfied: cycler>=0.10 in /usr/local/lib/python3.8/dist-packages (from matplotlib->mplfinance) (0.11.0)\n",
            "Requirement already satisfied: kiwisolver>=1.0.1 in /usr/local/lib/python3.8/dist-packages (from matplotlib->mplfinance) (1.4.4)\n",
            "Requirement already satisfied: pytz>=2017.3 in /usr/local/lib/python3.8/dist-packages (from pandas->mplfinance) (2022.7.1)\n",
            "Requirement already satisfied: six>=1.5 in /usr/local/lib/python3.8/dist-packages (from python-dateutil>=2.1->matplotlib->mplfinance) (1.15.0)\n",
            "Installing collected packages: mplfinance\n",
            "Successfully installed mplfinance-0.12.9b7\n"
          ]
        }
      ]
    },
    {
      "cell_type": "code",
      "source": [
        "import mplfinance as mpf"
      ],
      "metadata": {
        "id": "pzXUOMFrmLXx"
      },
      "execution_count": null,
      "outputs": []
    },
    {
      "cell_type": "code",
      "source": [
        "mpf.plot(df.tail(50),type='candle')"
      ],
      "metadata": {
        "colab": {
          "base_uri": "https://localhost:8080/",
          "height": 523
        },
        "id": "O6Ypq5x-n6Tn",
        "outputId": "40725a0f-1b2e-4a0f-ce4c-369cad4e3a5a"
      },
      "execution_count": null,
      "outputs": [
        {
          "output_type": "display_data",
          "data": {
            "text/plain": [
              "<Figure size 800x575 with 2 Axes>"
            ],
            "image/png": "[encoded data removed]"
          },
          "metadata": {}
        }
      ]
    },
    {
      "cell_type": "code",
      "source": [
        "mpf.plot(df.loc['2023':],type='candle')"
      ],
      "metadata": {
        "colab": {
          "base_uri": "https://localhost:8080/",
          "height": 491
        },
        "id": "ZX3lx_LpmTp4",
        "outputId": "7f1f00c4-cbd1-4a68-f453-45275ed93959"
      },
      "execution_count": null,
      "outputs": [
        {
          "output_type": "display_data",
          "data": {
            "text/plain": [
              "<Figure size 800x575 with 2 Axes>"
            ],
            "image/png": "[encoded data removed]"
          },
          "metadata": {}
        }
      ]
    },
    {
      "cell_type": "markdown",
      "source": [
        "### 回家練習\n",
        "\n",
        "分析台積電的股價 (2330.tw)。\n",
        "* 下載歷史股價\n",
        "* 分析歷史股價第一筆到最近一筆資料的資產變化情形\n",
        "* 分析2022年自2023年間，從何時切入投資報酬率最大\n",
        "* 繪製台積電收盤價曲線"
      ],
      "metadata": {
        "id": "Kg9jZYMHpKU6"
      }
    },
    {
      "cell_type": "code",
      "source": [
        "#下載歷史資料\n",
        "df2 = yf.download(\"2330.tw\")"
      ],
      "metadata": {
        "colab": {
          "base_uri": "https://localhost:8080/"
        },
        "id": "q0ljSHAtm1sT",
        "outputId": "cbd6ce65-a570-408b-b690-77ed46051ab8"
      },
      "execution_count": null,
      "outputs": [
        {
          "output_type": "stream",
          "name": "stdout",
          "text": [
            "\r[*********************100%***********************]  1 of 1 completed\n"
          ]
        }
      ]
    },
    {
      "cell_type": "code",
      "source": [
        "#分析第一筆到最後一筆資產變化\n",
        "df2.Close[-1] / df2.Close[0]"
      ],
      "metadata": {
        "colab": {
          "base_uri": "https://localhost:8080/"
        },
        "id": "XzPVoF9hpONN",
        "outputId": "1b6bcb13-448a-4cf9-f42f-0b56d3047301"
      },
      "execution_count": null,
      "outputs": [
        {
          "output_type": "execute_result",
          "data": {
            "text/plain": [
              "7.437289230256244"
            ]
          },
          "metadata": {},
          "execution_count": 163
        }
      ]
    },
    {
      "cell_type": "code",
      "source": [
        "df2.loc['2022':'2023'].Close.min()"
      ],
      "metadata": {
        "colab": {
          "base_uri": "https://localhost:8080/"
        },
        "id": "TX5zlaQgpjhs",
        "outputId": "eb8083cf-fa70-421e-b79b-000a963d1251"
      },
      "execution_count": 171,
      "outputs": [
        {
          "output_type": "execute_result",
          "data": {
            "text/plain": [
              "371.0"
            ]
          },
          "metadata": {},
          "execution_count": 171
        }
      ]
    },
    {
      "cell_type": "code",
      "source": [
        "type(df2.loc['2022':'2023'].Close.min())"
      ],
      "metadata": {
        "id": "JRxFnPWjqESm",
        "colab": {
          "base_uri": "https://localhost:8080/"
        },
        "outputId": "cd87f08e-1eb0-4fc1-baff-bf8be7cbe160"
      },
      "execution_count": 173,
      "outputs": [
        {
          "output_type": "execute_result",
          "data": {
            "text/plain": [
              "numpy.float64"
            ]
          },
          "metadata": {},
          "execution_count": 173
        }
      ]
    },
    {
      "cell_type": "code",
      "source": [
        "#查詢2022~2023股價最低的日期\n",
        "df2.loc[df2.Close == df2.loc['2022':'2023'].Close.min()]"
      ],
      "metadata": {
        "colab": {
          "base_uri": "https://localhost:8080/",
          "height": 112
        },
        "id": "7gkIowex62Gi",
        "outputId": "82937329-8276-4e29-bdc8-e0d4249edfa1"
      },
      "execution_count": 176,
      "outputs": [
        {
          "output_type": "execute_result",
          "data": {
            "text/plain": [
              "             Open   High    Low  Close   Adj Close    Volume\n",
              "Date                                                        \n",
              "2022-10-25  380.0  382.5  371.0  371.0  368.876709  76416687"
            ],
            "text/html": [
              "\n",
              "  <div id=\"df-4c5df602-423e-43b7-917e-c1c4e77405cd\">\n",
              "    <div class=\"colab-df-container\">\n",
              "      <div>\n",
              "<style scoped>\n",
              "    .dataframe tbody tr th:only-of-type {\n",
              "        vertical-align: middle;\n",
              "    }\n",
              "\n",
              "    .dataframe tbody tr th {\n",
              "        vertical-align: top;\n",
              "    }\n",
              "\n",
              "    .dataframe thead th {\n",
              "        text-align: right;\n",
              "    }\n",
              "</style>\n",
              "<table border=\"1\" class=\"dataframe\">\n",
              "  <thead>\n",
              "    <tr style=\"text-align: right;\">\n",
              "      <th></th>\n",
              "      <th>Open</th>\n",
              "      <th>High</th>\n",
              "      <th>Low</th>\n",
              "      <th>Close</th>\n",
              "      <th>Adj Close</th>\n",
              "      <th>Volume</th>\n",
              "    </tr>\n",
              "    <tr>\n",
              "      <th>Date</th>\n",
              "      <th></th>\n",
              "      <th></th>\n",
              "      <th></th>\n",
              "      <th></th>\n",
              "      <th></th>\n",
              "      <th></th>\n",
              "    </tr>\n",
              "  </thead>\n",
              "  <tbody>\n",
              "    <tr>\n",
              "      <th>2022-10-25</th>\n",
              "      <td>380.0</td>\n",
              "      <td>382.5</td>\n",
              "      <td>371.0</td>\n",
              "      <td>371.0</td>\n",
              "      <td>368.876709</td>\n",
              "      <td>76416687</td>\n",
              "    </tr>\n",
              "  </tbody>\n",
              "</table>\n",
              "</div>\n",
              "      <button class=\"colab-df-convert\" onclick=\"convertToInteractive('df-4c5df602-423e-43b7-917e-c1c4e77405cd')\"\n",
              "              title=\"Convert this dataframe to an interactive table.\"\n",
              "              style=\"display:none;\">\n",
              "        \n",
              "  <svg xmlns=\"http://www.w3.org/2000/svg\" height=\"24px\"viewBox=\"0 0 24 24\"\n",
              "       width=\"24px\">\n",
              "    <path d=\"M0 0h24v24H0V0z\" fill=\"none\"/>\n",
              "    <path d=\"M18.56 5.44l.94 2.06.94-2.06 2.06-.94-2.06-.94-.94-2.06-.94 2.06-2.06.94zm-11 1L8.5 8.5l.94-2.06 2.06-.94-2.06-.94L8.5 2.5l-.94 2.06-2.06.94zm10 10l.94 2.06.94-2.06 2.06-.94-2.06-.94-.94-2.06-.94 2.06-2.06.94z\"/><path d=\"M17.41 7.96l-1.37-1.37c-.4-.4-.92-.59-1.43-.59-.52 0-1.04.2-1.43.59L10.3 9.45l-7.72 7.72c-.78.78-.78 2.05 0 2.83L4 21.41c.39.39.9.59 1.41.59.51 0 1.02-.2 1.41-.59l7.78-7.78 2.81-2.81c.8-.78.8-2.07 0-2.86zM5.41 20L4 18.59l7.72-7.72 1.47 1.35L5.41 20z\"/>\n",
              "  </svg>\n",
              "      </button>\n",
              "      \n",
              "  <style>\n",
              "    .colab-df-container {\n",
              "      display:flex;\n",
              "      flex-wrap:wrap;\n",
              "      gap: 12px;\n",
              "    }\n",
              "\n",
              "    .colab-df-convert {\n",
              "      background-color: #E8F0FE;\n",
              "      border: none;\n",
              "      border-radius: 50%;\n",
              "      cursor: pointer;\n",
              "      display: none;\n",
              "      fill: #1967D2;\n",
              "      height: 32px;\n",
              "      padding: 0 0 0 0;\n",
              "      width: 32px;\n",
              "    }\n",
              "\n",
              "    .colab-df-convert:hover {\n",
              "      background-color: #E2EBFA;\n",
              "      box-shadow: 0px 1px 2px rgba(60, 64, 67, 0.3), 0px 1px 3px 1px rgba(60, 64, 67, 0.15);\n",
              "      fill: #174EA6;\n",
              "    }\n",
              "\n",
              "    [theme=dark] .colab-df-convert {\n",
              "      background-color: #3B4455;\n",
              "      fill: #D2E3FC;\n",
              "    }\n",
              "\n",
              "    [theme=dark] .colab-df-convert:hover {\n",
              "      background-color: #434B5C;\n",
              "      box-shadow: 0px 1px 3px 1px rgba(0, 0, 0, 0.15);\n",
              "      filter: drop-shadow(0px 1px 2px rgba(0, 0, 0, 0.3));\n",
              "      fill: #FFFFFF;\n",
              "    }\n",
              "  </style>\n",
              "\n",
              "      <script>\n",
              "        const buttonEl =\n",
              "          document.querySelector('#df-4c5df602-423e-43b7-917e-c1c4e77405cd button.colab-df-convert');\n",
              "        buttonEl.style.display =\n",
              "          google.colab.kernel.accessAllowed ? 'block' : 'none';\n",
              "\n",
              "        async function convertToInteractive(key) {\n",
              "          const element = document.querySelector('#df-4c5df602-423e-43b7-917e-c1c4e77405cd');\n",
              "          const dataTable =\n",
              "            await google.colab.kernel.invokeFunction('convertToInteractive',\n",
              "                                                     [key], {});\n",
              "          if (!dataTable) return;\n",
              "\n",
              "          const docLinkHtml = 'Like what you see? Visit the ' +\n",
              "            '<a target=\"_blank\" href=https://colab.research.google.com/notebooks/data_table.ipynb>data table notebook</a>'\n",
              "            + ' to learn more about interactive tables.';\n",
              "          element.innerHTML = '';\n",
              "          dataTable['output_type'] = 'display_data';\n",
              "          await google.colab.output.renderOutput(dataTable, element);\n",
              "          const docLink = document.createElement('div');\n",
              "          docLink.innerHTML = docLinkHtml;\n",
              "          element.appendChild(docLink);\n",
              "        }\n",
              "      </script>\n",
              "    </div>\n",
              "  </div>\n",
              "  "
            ]
          },
          "metadata": {},
          "execution_count": 176
        }
      ]
    },
    {
      "cell_type": "code",
      "source": [
        "#繪製收盤價曲線\n",
        "df2.Close.plot()"
      ],
      "metadata": {
        "colab": {
          "base_uri": "https://localhost:8080/",
          "height": 442
        },
        "id": "vKchWZCF6V2b",
        "outputId": "ee54ddee-e5a2-46d3-f73a-a3e0d4fe3a3d"
      },
      "execution_count": 174,
      "outputs": [
        {
          "output_type": "execute_result",
          "data": {
            "text/plain": [
              "<matplotlib.axes._subplots.AxesSubplot at 0x7f469945b8b0>"
            ]
          },
          "metadata": {},
          "execution_count": 174
        },
        {
          "output_type": "display_data",
          "data": {
            "text/plain": [
              "<Figure size 640x480 with 1 Axes>"
            ],
            "image/png": "[encoded data removed]"
          },
          "metadata": {}
        }
      ]
    },
    {
      "cell_type": "markdown",
      "source": [
        "使用 pandas 讀取政府資料開放平台上的 .csv 的資料\n",
        "\n",
        "https://mopsfin.twse.com.tw/opendata/t187ap03_L.csv\n",
        "\n"
      ],
      "metadata": {
        "id": "qJMcAPfWqfj4"
      }
    },
    {
      "cell_type": "code",
      "source": [
        "url =\"https://mopsfin.twse.com.tw/opendata/t187ap03_L.csv\""
      ],
      "metadata": {
        "id": "xchh7Y2zqhFg"
      },
      "execution_count": null,
      "outputs": []
    },
    {
      "cell_type": "code",
      "source": [
        "twdf = pd.read_csv(url)"
      ],
      "metadata": {
        "id": "MYCEbLLHq3p4"
      },
      "execution_count": null,
      "outputs": []
    },
    {
      "cell_type": "code",
      "source": [
        "twdf.head()"
      ],
      "metadata": {
        "colab": {
          "base_uri": "https://localhost:8080/",
          "height": 1000
        },
        "id": "jaZephS_rI0S",
        "outputId": "767f9b7e-fc6b-47fe-92b5-0c0d3d7a8ff4"
      },
      "execution_count": null,
      "outputs": [
        {
          "output_type": "execute_result",
          "data": {
            "text/plain": [
              "      出表日期  公司代號        公司名稱 公司簡稱 外國企業註冊地國  產業別                      住址  \\\n",
              "0  1120218  1101  臺灣水泥股份有限公司   台泥       －     1           台北市中山北路2段113號   \n",
              "1  1120218  1102  亞洲水泥股份有限公司   亞泥       －     1  台北市大安區敦化南路2段207號30、31樓   \n",
              "2  1120218  1103  嘉新水泥股份有限公司   嘉泥       －     1            台北市中山北路2段96號   \n",
              "3  1120218  1104  環球水泥股份有限公司   環泥       －     1        台北市南京東路二段125號10樓   \n",
              "4  1120218  1108  幸福水泥股份有限公司   幸福       －     1           台北市松江路237號15樓   \n",
              "\n",
              "   營利事業統一編號  董事長  總經理  ...           過戶電話              過戶地址      簽證會計師事務所  \\\n",
              "0  11913502  張安平  程耀輝  ...       66365566    台北市重慶南路一段83號5樓  勤業眾信聯合會計師事務所   \n",
              "1   3244509  徐旭東  李坤炎  ...   02-7753-1699   新北市板橋區新站路16號13樓  勤業眾信聯合會計師事務所   \n",
              "2  11892801  張剛綸  王立心  ...  (02)2702-3999  台北市敦化南路2段97號地下2樓  勤業眾信聯合會計師事務所   \n",
              "3   7568009  侯博義  侯智升  ...    02-23816288       台北市博愛路17號3樓  勤業眾信聯合會計師事務所   \n",
              "4  40601248  陳兩傳  陳兩傳  ...      2381-6288    台北市中正區博愛路17號3樓  勤業眾信聯合會計師事務所   \n",
              "\n",
              "  簽證會計師1  簽證會計師2          英文簡稱  \\\n",
              "0    黃惠敏     郭政弘           TCC   \n",
              "1    戴信維     陳培德           ACC   \n",
              "2    陳薔旬     梁盛泰           CHC   \n",
              "3    李季珍     楊朝欽           UCC   \n",
              "4    陳招美     陳薔旬  LUCKY CEMENT   \n",
              "\n",
              "                                              英文通訊地址          傳真機號碼  \\\n",
              "0  No.113, Sec.2, Zhongshan N. Rd.,Taipei City 10...  (02)2531-6529   \n",
              "1  30-31F., No.207, Sec. 2, Dunhua S. Rd., Da' an...   02-2378-5191   \n",
              "2  No.96, Sec. 2, Zhongshan N. Rd., Zhongshan Dis...  (02)2511-4002   \n",
              "3    10th F1., 125 Nanking E.Rd Sec. 2,Taipei Taiwan    02-25075870   \n",
              "4  15TH FL.,NO.237,SUNG KIANG RD.,TAIPEI,TAIWAN,R...       25048672   \n",
              "\n",
              "                     電子郵件信箱                           網址  \n",
              "0  finance@taiwancement.com  http://www.taiwancement.com  \n",
              "1        service@acc.com.tw               www.acc.com.tw  \n",
              "2        ir@chcgroup.com.tw          www.chcgroup.com.tw  \n",
              "3             ucc@ucctw.com                www.ucctw.com  \n",
              "4     wendy@luckygrp,com.tw          www.luckygrp.com.tw  \n",
              "\n",
              "[5 rows x 32 columns]"
            ],
            "text/html": [
              "\n",
              "  <div id=\"df-4b135055-e4f6-4953-acf7-9e0fd2976da9\">\n",
              "    <div class=\"colab-df-container\">\n",
              "      <div>\n",
              "<style scoped>\n",
              "    .dataframe tbody tr th:only-of-type {\n",
              "        vertical-align: middle;\n",
              "    }\n",
              "\n",
              "    .dataframe tbody tr th {\n",
              "        vertical-align: top;\n",
              "    }\n",
              "\n",
              "    .dataframe thead th {\n",
              "        text-align: right;\n",
              "    }\n",
              "</style>\n",
              "<table border=\"1\" class=\"dataframe\">\n",
              "  <thead>\n",
              "    <tr style=\"text-align: right;\">\n",
              "      <th></th>\n",
              "      <th>出表日期</th>\n",
              "      <th>公司代號</th>\n",
              "      <th>公司名稱</th>\n",
              "      <th>公司簡稱</th>\n",
              "      <th>外國企業註冊地國</th>\n",
              "      <th>產業別</th>\n",
              "      <th>住址</th>\n",
              "      <th>營利事業統一編號</th>\n",
              "      <th>董事長</th>\n",
              "      <th>總經理</th>\n",
              "      <th>...</th>\n",
              "      <th>過戶電話</th>\n",
              "      <th>過戶地址</th>\n",
              "      <th>簽證會計師事務所</th>\n",
              "      <th>簽證會計師1</th>\n",
              "      <th>簽證會計師2</th>\n",
              "      <th>英文簡稱</th>\n",
              "      <th>英文通訊地址</th>\n",
              "      <th>傳真機號碼</th>\n",
              "      <th>電子郵件信箱</th>\n",
              "      <th>網址</th>\n",
              "    </tr>\n",
              "  </thead>\n",
              "  <tbody>\n",
              "    <tr>\n",
              "      <th>0</th>\n",
              "      <td>1120218</td>\n",
              "      <td>1101</td>\n",
              "      <td>臺灣水泥股份有限公司</td>\n",
              "      <td>台泥</td>\n",
              "      <td>－</td>\n",
              "      <td>1</td>\n",
              "      <td>台北市中山北路2段113號</td>\n",
              "      <td>11913502</td>\n",
              "      <td>張安平</td>\n",
              "      <td>程耀輝</td>\n",
              "      <td>...</td>\n",
              "      <td>66365566</td>\n",
              "      <td>台北市重慶南路一段83號5樓</td>\n",
              "      <td>勤業眾信聯合會計師事務所</td>\n",
              "      <td>黃惠敏</td>\n",
              "      <td>郭政弘</td>\n",
              "      <td>TCC</td>\n",
              "      <td>No.113, Sec.2, Zhongshan N. Rd.,Taipei City 10...</td>\n",
              "      <td>(02)2531-6529</td>\n",
              "      <td>finance@taiwancement.com</td>\n",
              "      <td>http://www.taiwancement.com</td>\n",
              "    </tr>\n",
              "    <tr>\n",
              "      <th>1</th>\n",
              "      <td>1120218</td>\n",
              "      <td>1102</td>\n",
              "      <td>亞洲水泥股份有限公司</td>\n",
              "      <td>亞泥</td>\n",
              "      <td>－</td>\n",
              "      <td>1</td>\n",
              "      <td>台北市大安區敦化南路2段207號30、31樓</td>\n",
              "      <td>3244509</td>\n",
              "      <td>徐旭東</td>\n",
              "      <td>李坤炎</td>\n",
              "      <td>...</td>\n",
              "      <td>02-7753-1699</td>\n",
              "      <td>新北市板橋區新站路16號13樓</td>\n",
              "      <td>勤業眾信聯合會計師事務所</td>\n",
              "      <td>戴信維</td>\n",
              "      <td>陳培德</td>\n",
              "      <td>ACC</td>\n",
              "      <td>30-31F., No.207, Sec. 2, Dunhua S. Rd., Da' an...</td>\n",
              "      <td>02-2378-5191</td>\n",
              "      <td>service@acc.com.tw</td>\n",
              "      <td>www.acc.com.tw</td>\n",
              "    </tr>\n",
              "    <tr>\n",
              "      <th>2</th>\n",
              "      <td>1120218</td>\n",
              "      <td>1103</td>\n",
              "      <td>嘉新水泥股份有限公司</td>\n",
              "      <td>嘉泥</td>\n",
              "      <td>－</td>\n",
              "      <td>1</td>\n",
              "      <td>台北市中山北路2段96號</td>\n",
              "      <td>11892801</td>\n",
              "      <td>張剛綸</td>\n",
              "      <td>王立心</td>\n",
              "      <td>...</td>\n",
              "      <td>(02)2702-3999</td>\n",
              "      <td>台北市敦化南路2段97號地下2樓</td>\n",
              "      <td>勤業眾信聯合會計師事務所</td>\n",
              "      <td>陳薔旬</td>\n",
              "      <td>梁盛泰</td>\n",
              "      <td>CHC</td>\n",
              "      <td>No.96, Sec. 2, Zhongshan N. Rd., Zhongshan Dis...</td>\n",
              "      <td>(02)2511-4002</td>\n",
              "      <td>ir@chcgroup.com.tw</td>\n",
              "      <td>www.chcgroup.com.tw</td>\n",
              "    </tr>\n",
              "    <tr>\n",
              "      <th>3</th>\n",
              "      <td>1120218</td>\n",
              "      <td>1104</td>\n",
              "      <td>環球水泥股份有限公司</td>\n",
              "      <td>環泥</td>\n",
              "      <td>－</td>\n",
              "      <td>1</td>\n",
              "      <td>台北市南京東路二段125號10樓</td>\n",
              "      <td>7568009</td>\n",
              "      <td>侯博義</td>\n",
              "      <td>侯智升</td>\n",
              "      <td>...</td>\n",
              "      <td>02-23816288</td>\n",
              "      <td>台北市博愛路17號3樓</td>\n",
              "      <td>勤業眾信聯合會計師事務所</td>\n",
              "      <td>李季珍</td>\n",
              "      <td>楊朝欽</td>\n",
              "      <td>UCC</td>\n",
              "      <td>10th F1., 125 Nanking E.Rd Sec. 2,Taipei Taiwan</td>\n",
              "      <td>02-25075870</td>\n",
              "      <td>ucc@ucctw.com</td>\n",
              "      <td>www.ucctw.com</td>\n",
              "    </tr>\n",
              "    <tr>\n",
              "      <th>4</th>\n",
              "      <td>1120218</td>\n",
              "      <td>1108</td>\n",
              "      <td>幸福水泥股份有限公司</td>\n",
              "      <td>幸福</td>\n",
              "      <td>－</td>\n",
              "      <td>1</td>\n",
              "      <td>台北市松江路237號15樓</td>\n",
              "      <td>40601248</td>\n",
              "      <td>陳兩傳</td>\n",
              "      <td>陳兩傳</td>\n",
              "      <td>...</td>\n",
              "      <td>2381-6288</td>\n",
              "      <td>台北市中正區博愛路17號3樓</td>\n",
              "      <td>勤業眾信聯合會計師事務所</td>\n",
              "      <td>陳招美</td>\n",
              "      <td>陳薔旬</td>\n",
              "      <td>LUCKY CEMENT</td>\n",
              "      <td>15TH FL.,NO.237,SUNG KIANG RD.,TAIPEI,TAIWAN,R...</td>\n",
              "      <td>25048672</td>\n",
              "      <td>wendy@luckygrp,com.tw</td>\n",
              "      <td>www.luckygrp.com.tw</td>\n",
              "    </tr>\n",
              "  </tbody>\n",
              "</table>\n",
              "<p>5 rows × 32 columns</p>\n",
              "</div>\n",
              "      <button class=\"colab-df-convert\" onclick=\"convertToInteractive('df-4b135055-e4f6-4953-acf7-9e0fd2976da9')\"\n",
              "              title=\"Convert this dataframe to an interactive table.\"\n",
              "              style=\"display:none;\">\n",
              "        \n",
              "  <svg xmlns=\"http://www.w3.org/2000/svg\" height=\"24px\"viewBox=\"0 0 24 24\"\n",
              "       width=\"24px\">\n",
              "    <path d=\"M0 0h24v24H0V0z\" fill=\"none\"/>\n",
              "    <path d=\"M18.56 5.44l.94 2.06.94-2.06 2.06-.94-2.06-.94-.94-2.06-.94 2.06-2.06.94zm-11 1L8.5 8.5l.94-2.06 2.06-.94-2.06-.94L8.5 2.5l-.94 2.06-2.06.94zm10 10l.94 2.06.94-2.06 2.06-.94-2.06-.94-.94-2.06-.94 2.06-2.06.94z\"/><path d=\"M17.41 7.96l-1.37-1.37c-.4-.4-.92-.59-1.43-.59-.52 0-1.04.2-1.43.59L10.3 9.45l-7.72 7.72c-.78.78-.78 2.05 0 2.83L4 21.41c.39.39.9.59 1.41.59.51 0 1.02-.2 1.41-.59l7.78-7.78 2.81-2.81c.8-.78.8-2.07 0-2.86zM5.41 20L4 18.59l7.72-7.72 1.47 1.35L5.41 20z\"/>\n",
              "  </svg>\n",
              "      </button>\n",
              "      \n",
              "  <style>\n",
              "    .colab-df-container {\n",
              "      display:flex;\n",
              "      flex-wrap:wrap;\n",
              "      gap: 12px;\n",
              "    }\n",
              "\n",
              "    .colab-df-convert {\n",
              "      background-color: #E8F0FE;\n",
              "      border: none;\n",
              "      border-radius: 50%;\n",
              "      cursor: pointer;\n",
              "      display: none;\n",
              "      fill: #1967D2;\n",
              "      height: 32px;\n",
              "      padding: 0 0 0 0;\n",
              "      width: 32px;\n",
              "    }\n",
              "\n",
              "    .colab-df-convert:hover {\n",
              "      background-color: #E2EBFA;\n",
              "      box-shadow: 0px 1px 2px rgba(60, 64, 67, 0.3), 0px 1px 3px 1px rgba(60, 64, 67, 0.15);\n",
              "      fill: #174EA6;\n",
              "    }\n",
              "\n",
              "    [theme=dark] .colab-df-convert {\n",
              "      background-color: #3B4455;\n",
              "      fill: #D2E3FC;\n",
              "    }\n",
              "\n",
              "    [theme=dark] .colab-df-convert:hover {\n",
              "      background-color: #434B5C;\n",
              "      box-shadow: 0px 1px 3px 1px rgba(0, 0, 0, 0.15);\n",
              "      filter: drop-shadow(0px 1px 2px rgba(0, 0, 0, 0.3));\n",
              "      fill: #FFFFFF;\n",
              "    }\n",
              "  </style>\n",
              "\n",
              "      <script>\n",
              "        const buttonEl =\n",
              "          document.querySelector('#df-4b135055-e4f6-4953-acf7-9e0fd2976da9 button.colab-df-convert');\n",
              "        buttonEl.style.display =\n",
              "          google.colab.kernel.accessAllowed ? 'block' : 'none';\n",
              "\n",
              "        async function convertToInteractive(key) {\n",
              "          const element = document.querySelector('#df-4b135055-e4f6-4953-acf7-9e0fd2976da9');\n",
              "          const dataTable =\n",
              "            await google.colab.kernel.invokeFunction('convertToInteractive',\n",
              "                                                     [key], {});\n",
              "          if (!dataTable) return;\n",
              "\n",
              "          const docLinkHtml = 'Like what you see? Visit the ' +\n",
              "            '<a target=\"_blank\" href=https://colab.research.google.com/notebooks/data_table.ipynb>data table notebook</a>'\n",
              "            + ' to learn more about interactive tables.';\n",
              "          element.innerHTML = '';\n",
              "          dataTable['output_type'] = 'display_data';\n",
              "          await google.colab.output.renderOutput(dataTable, element);\n",
              "          const docLink = document.createElement('div');\n",
              "          docLink.innerHTML = docLinkHtml;\n",
              "          element.appendChild(docLink);\n",
              "        }\n",
              "      </script>\n",
              "    </div>\n",
              "  </div>\n",
              "  "
            ]
          },
          "metadata": {},
          "execution_count": 168
        }
      ]
    },
    {
      "cell_type": "markdown",
      "source": [
        "#### 使用pandas讀取0050成分股\n",
        "\n",
        "https://www.yuantaetfs.com/api/StkWeights?date=&fundid=1066"
      ],
      "metadata": {
        "id": "QIeCnKbSr2V4"
      }
    },
    {
      "cell_type": "code",
      "source": [
        "df_0050 = pd.read_json(\"https://www.yuantaetfs.com/api/StkWeights?date=&fundid=1066\")"
      ],
      "metadata": {
        "id": "Y_RY9ivprMtO"
      },
      "execution_count": null,
      "outputs": []
    },
    {
      "cell_type": "code",
      "source": [
        "df_0050"
      ],
      "metadata": {
        "id": "vMG8JDZqr9qn",
        "outputId": "10212410-74ec-4502-ef87-c1e431f1e6af",
        "colab": {
          "base_uri": "https://localhost:8080/",
          "height": 1000
        }
      },
      "execution_count": null,
      "outputs": [
        {
          "output_type": "execute_result",
          "data": {
            "text/plain": [
              "    code  ym    name                                         ename  weights  \\\n",
              "0   2330 NaN     台積電   Taiwan Semiconductor Manufacturing Co. Ltd.    47.32   \n",
              "1   2317 NaN      鴻海               HON HAI PRECISION IND. CO. LTD.     4.70   \n",
              "2   2454 NaN     聯發科                                 MediaTek Inc.     4.09   \n",
              "3   2308 NaN     台達電                        DELTA ELECTRONICS INC.     2.42   \n",
              "4   2303 NaN      聯電                 UNITED MICROELECTRONICS CORP.     2.23   \n",
              "5   2881 NaN     富邦金              Fubon Financial Holding Co. Ltd.     1.69   \n",
              "6   2412 NaN     中華電                      Chunghwa Telecom Co. Ltd     1.64   \n",
              "7   1303 NaN      南亞                   NAN YA PLASTICS CORPORATION     1.63   \n",
              "8   2891 NaN     中信金               CTBC FINANCIAL HOLDING CO. LTD.     1.57   \n",
              "9   2882 NaN     國泰金             CATHAY FINANCIAL HOLDING CO. LTD.     1.50   \n",
              "10  2002 NaN      中鋼                       China Steel Corporation     1.49   \n",
              "11  2886 NaN     兆豐金           Mega Financial Holding Company Ltd.     1.42   \n",
              "12  3711 NaN   日月光投控               ASE Technology Holding Co. Ltd.     1.32   \n",
              "13  2884 NaN     玉山金           E.SUN FINANCIAL HOLDING COMPANYLTD.     1.31   \n",
              "14  1301 NaN      台塑                  Formosa Plastics Corporation     1.28   \n",
              "15  5871 NaN   中租-KY             Chailease Holding Company Limited     1.21   \n",
              "16  1216 NaN      統一               UNI-PRESIDENT ENTERPRISES CORP.     1.21   \n",
              "17  2892 NaN     第一金          First  Financial  Holding  Co.  Ltd.     1.05   \n",
              "18  2885 NaN     元大金              Yuanta Financial Holding Co. Ltd     1.04   \n",
              "19  5880 NaN     合庫金  Taiwan Cooperative Financial Holding Co.Ltd.     1.02   \n",
              "20  1326 NaN      台化         FORMOSA CHEMICALS & FIBRE CORPORATION     0.93   \n",
              "21  1101 NaN      台泥                           Taiwan Cement Corp.     0.91   \n",
              "22  2880 NaN     華南金            HUA NAN FINANCIAL HOLDINGS CO.LTD.     0.88   \n",
              "23  3034 NaN      聯詠                NOVATEK MICROELECTRONICS CORP.     0.88   \n",
              "24  2327 NaN      國巨                             YAGEO CORPORATION     0.85   \n",
              "25  3008 NaN     大立光                       LARGAN Precision Co.Ltd     0.84   \n",
              "26  2382 NaN      廣達                          QUANTA COMPUTER INC.     0.80   \n",
              "27  2883 NaN     開發金     CHINA DEVELOPMENT FINANCIAL HOLDING CORP.     0.79   \n",
              "28  2207 NaN     和泰車                           HOTAI MOTOR CO.LTD.     0.76   \n",
              "29  2357 NaN      華碩                         ASUSTEK COMPUTER INC.     0.75   \n",
              "30  2887 NaN     台新金            Taishin Financial Holding Co. Ltd.     0.71   \n",
              "31  6415 NaN  矽力*-KY                                 Silergy Corp.     0.71   \n",
              "32  2890 NaN     永豐金   SINOPAC  FINANCIAL HOLDINGS COMPANY LIMITED     0.70   \n",
              "33  3037 NaN      欣興                    Unimicron Technology Corp.     0.65   \n",
              "34  2379 NaN      瑞昱             Realtek Semiconductor Corporation     0.65   \n",
              "35  3045 NaN     台灣大                      TAIWAN  MOBILE  CO. LTD.     0.63   \n",
              "36  5876 NaN    上海商銀   THE SHANGHAI COMMERCIAL & SAVINGS BANK LTD.     0.63   \n",
              "37  1590 NaN  亞德客-KY                    AIRTAC INTERNATIONAL GROUP     0.63   \n",
              "38  2912 NaN     統一超             PRESIDENT CHAIN STORE CORPORATION     0.57   \n",
              "39  2395 NaN      研華                            ADVANTECH Co. Ltd.     0.56   \n",
              "40  2603 NaN      長榮          EVERGREEN MARINE CORP. (TAIWAN) LTD.     0.56   \n",
              "41  1402 NaN     遠東新           Far Eastern New Century Corporation     0.48   \n",
              "42  2801 NaN      彰銀                CHANG HWA COMMERCIAL BANK LTD.     0.44   \n",
              "43  6505 NaN     台塑化                    Formosa Petrochemical Corp     0.44   \n",
              "44  4904 NaN      遠傳       Far EasTone Telecommunications Co. Ltd.     0.42   \n",
              "45  2609 NaN      陽明              Yang Ming Marine Transport Corp.     0.40   \n",
              "46  2615 NaN      萬海                            WAN HAI LINES LTD.     0.39   \n",
              "47  9910 NaN      豐泰                 FENG TAY ENTERPRISES CO. LTD.     0.30   \n",
              "48  8046 NaN      南電      NAN YA PRINTED CIRCUIT BOARD CORPORATION     0.20   \n",
              "49  2408 NaN     南亞科                  NANYA TECHNOLOGY CORPORATION     0.19   \n",
              "\n",
              "          qty  \n",
              "0   246446636  \n",
              "1   122467572  \n",
              "2    15268781  \n",
              "3    22170963  \n",
              "4   120151529  \n",
              "5    75669138  \n",
              "6    39032848  \n",
              "7    57944327  \n",
              "8   186193671  \n",
              "9    91724297  \n",
              "10  126562173  \n",
              "11  114514306  \n",
              "12   34933004  \n",
              "13  139057606  \n",
              "14   38281780  \n",
              "15   14159710  \n",
              "16   49197830  \n",
              "17  106959507  \n",
              "18  122918139  \n",
              "19  103574104  \n",
              "20   35134398  \n",
              "21   64839988  \n",
              "22  104256776  \n",
              "23    5873341  \n",
              "24    4007931  \n",
              "25    1052063  \n",
              "26   27304616  \n",
              "27  161681760  \n",
              "28    3273305  \n",
              "29    7237867  \n",
              "30  116650387  \n",
              "31    3321913  \n",
              "32  108725463  \n",
              "33   12912541  \n",
              "34    4881250  \n",
              "35   17707707  \n",
              "36   36087938  \n",
              "37    1602164  \n",
              "38    5760478  \n",
              "39    4238958  \n",
              "40   10322835  \n",
              "41   40263594  \n",
              "42   68009923  \n",
              "43   14007344  \n",
              "44   16395257  \n",
              "45   17925750  \n",
              "46   14405086  \n",
              "47    4526746  \n",
              "48    2155982  \n",
              "49    8397377  "
            ],
            "text/html": [
              "\n",
              "  <div id=\"df-87f89364-da45-4c6c-aa65-c3c4fc592fe9\">\n",
              "    <div class=\"colab-df-container\">\n",
              "      <div>\n",
              "<style scoped>\n",
              "    .dataframe tbody tr th:only-of-type {\n",
              "        vertical-align: middle;\n",
              "    }\n",
              "\n",
              "    .dataframe tbody tr th {\n",
              "        vertical-align: top;\n",
              "    }\n",
              "\n",
              "    .dataframe thead th {\n",
              "        text-align: right;\n",
              "    }\n",
              "</style>\n",
              "<table border=\"1\" class=\"dataframe\">\n",
              "  <thead>\n",
              "    <tr style=\"text-align: right;\">\n",
              "      <th></th>\n",
              "      <th>code</th>\n",
              "      <th>ym</th>\n",
              "      <th>name</th>\n",
              "      <th>ename</th>\n",
              "      <th>weights</th>\n",
              "      <th>qty</th>\n",
              "    </tr>\n",
              "  </thead>\n",
              "  <tbody>\n",
              "    <tr>\n",
              "      <th>0</th>\n",
              "      <td>2330</td>\n",
              "      <td>NaN</td>\n",
              "      <td>台積電</td>\n",
              "      <td>Taiwan Semiconductor Manufacturing Co. Ltd.</td>\n",
              "      <td>47.32</td>\n",
              "      <td>246446636</td>\n",
              "    </tr>\n",
              "    <tr>\n",
              "      <th>1</th>\n",
              "      <td>2317</td>\n",
              "      <td>NaN</td>\n",
              "      <td>鴻海</td>\n",
              "      <td>HON HAI PRECISION IND. CO. LTD.</td>\n",
              "      <td>4.70</td>\n",
              "      <td>122467572</td>\n",
              "    </tr>\n",
              "    <tr>\n",
              "      <th>2</th>\n",
              "      <td>2454</td>\n",
              "      <td>NaN</td>\n",
              "      <td>聯發科</td>\n",
              "      <td>MediaTek Inc.</td>\n",
              "      <td>4.09</td>\n",
              "      <td>15268781</td>\n",
              "    </tr>\n",
              "    <tr>\n",
              "      <th>3</th>\n",
              "      <td>2308</td>\n",
              "      <td>NaN</td>\n",
              "      <td>台達電</td>\n",
              "      <td>DELTA ELECTRONICS INC.</td>\n",
              "      <td>2.42</td>\n",
              "      <td>22170963</td>\n",
              "    </tr>\n",
              "    <tr>\n",
              "      <th>4</th>\n",
              "      <td>2303</td>\n",
              "      <td>NaN</td>\n",
              "      <td>聯電</td>\n",
              "      <td>UNITED MICROELECTRONICS CORP.</td>\n",
              "      <td>2.23</td>\n",
              "      <td>120151529</td>\n",
              "    </tr>\n",
              "    <tr>\n",
              "      <th>5</th>\n",
              "      <td>2881</td>\n",
              "      <td>NaN</td>\n",
              "      <td>富邦金</td>\n",
              "      <td>Fubon Financial Holding Co. Ltd.</td>\n",
              "      <td>1.69</td>\n",
              "      <td>75669138</td>\n",
              "    </tr>\n",
              "    <tr>\n",
              "      <th>6</th>\n",
              "      <td>2412</td>\n",
              "      <td>NaN</td>\n",
              "      <td>中華電</td>\n",
              "      <td>Chunghwa Telecom Co. Ltd</td>\n",
              "      <td>1.64</td>\n",
              "      <td>39032848</td>\n",
              "    </tr>\n",
              "    <tr>\n",
              "      <th>7</th>\n",
              "      <td>1303</td>\n",
              "      <td>NaN</td>\n",
              "      <td>南亞</td>\n",
              "      <td>NAN YA PLASTICS CORPORATION</td>\n",
              "      <td>1.63</td>\n",
              "      <td>57944327</td>\n",
              "    </tr>\n",
              "    <tr>\n",
              "      <th>8</th>\n",
              "      <td>2891</td>\n",
              "      <td>NaN</td>\n",
              "      <td>中信金</td>\n",
              "      <td>CTBC FINANCIAL HOLDING CO. LTD.</td>\n",
              "      <td>1.57</td>\n",
              "      <td>186193671</td>\n",
              "    </tr>\n",
              "    <tr>\n",
              "      <th>9</th>\n",
              "      <td>2882</td>\n",
              "      <td>NaN</td>\n",
              "      <td>國泰金</td>\n",
              "      <td>CATHAY FINANCIAL HOLDING CO. LTD.</td>\n",
              "      <td>1.50</td>\n",
              "      <td>91724297</td>\n",
              "    </tr>\n",
              "    <tr>\n",
              "      <th>10</th>\n",
              "      <td>2002</td>\n",
              "      <td>NaN</td>\n",
              "      <td>中鋼</td>\n",
              "      <td>China Steel Corporation</td>\n",
              "      <td>1.49</td>\n",
              "      <td>126562173</td>\n",
              "    </tr>\n",
              "    <tr>\n",
              "      <th>11</th>\n",
              "      <td>2886</td>\n",
              "      <td>NaN</td>\n",
              "      <td>兆豐金</td>\n",
              "      <td>Mega Financial Holding Company Ltd.</td>\n",
              "      <td>1.42</td>\n",
              "      <td>114514306</td>\n",
              "    </tr>\n",
              "    <tr>\n",
              "      <th>12</th>\n",
              "      <td>3711</td>\n",
              "      <td>NaN</td>\n",
              "      <td>日月光投控</td>\n",
              "      <td>ASE Technology Holding Co. Ltd.</td>\n",
              "      <td>1.32</td>\n",
              "      <td>34933004</td>\n",
              "    </tr>\n",
              "    <tr>\n",
              "      <th>13</th>\n",
              "      <td>2884</td>\n",
              "      <td>NaN</td>\n",
              "      <td>玉山金</td>\n",
              "      <td>E.SUN FINANCIAL HOLDING COMPANYLTD.</td>\n",
              "      <td>1.31</td>\n",
              "      <td>139057606</td>\n",
              "    </tr>\n",
              "    <tr>\n",
              "      <th>14</th>\n",
              "      <td>1301</td>\n",
              "      <td>NaN</td>\n",
              "      <td>台塑</td>\n",
              "      <td>Formosa Plastics Corporation</td>\n",
              "      <td>1.28</td>\n",
              "      <td>38281780</td>\n",
              "    </tr>\n",
              "    <tr>\n",
              "      <th>15</th>\n",
              "      <td>5871</td>\n",
              "      <td>NaN</td>\n",
              "      <td>中租-KY</td>\n",
              "      <td>Chailease Holding Company Limited</td>\n",
              "      <td>1.21</td>\n",
              "      <td>14159710</td>\n",
              "    </tr>\n",
              "    <tr>\n",
              "      <th>16</th>\n",
              "      <td>1216</td>\n",
              "      <td>NaN</td>\n",
              "      <td>統一</td>\n",
              "      <td>UNI-PRESIDENT ENTERPRISES CORP.</td>\n",
              "      <td>1.21</td>\n",
              "      <td>49197830</td>\n",
              "    </tr>\n",
              "    <tr>\n",
              "      <th>17</th>\n",
              "      <td>2892</td>\n",
              "      <td>NaN</td>\n",
              "      <td>第一金</td>\n",
              "      <td>First  Financial  Holding  Co.  Ltd.</td>\n",
              "      <td>1.05</td>\n",
              "      <td>106959507</td>\n",
              "    </tr>\n",
              "    <tr>\n",
              "      <th>18</th>\n",
              "      <td>2885</td>\n",
              "      <td>NaN</td>\n",
              "      <td>元大金</td>\n",
              "      <td>Yuanta Financial Holding Co. Ltd</td>\n",
              "      <td>1.04</td>\n",
              "      <td>122918139</td>\n",
              "    </tr>\n",
              "    <tr>\n",
              "      <th>19</th>\n",
              "      <td>5880</td>\n",
              "      <td>NaN</td>\n",
              "      <td>合庫金</td>\n",
              "      <td>Taiwan Cooperative Financial Holding Co.Ltd.</td>\n",
              "      <td>1.02</td>\n",
              "      <td>103574104</td>\n",
              "    </tr>\n",
              "    <tr>\n",
              "      <th>20</th>\n",
              "      <td>1326</td>\n",
              "      <td>NaN</td>\n",
              "      <td>台化</td>\n",
              "      <td>FORMOSA CHEMICALS &amp; FIBRE CORPORATION</td>\n",
              "      <td>0.93</td>\n",
              "      <td>35134398</td>\n",
              "    </tr>\n",
              "    <tr>\n",
              "      <th>21</th>\n",
              "      <td>1101</td>\n",
              "      <td>NaN</td>\n",
              "      <td>台泥</td>\n",
              "      <td>Taiwan Cement Corp.</td>\n",
              "      <td>0.91</td>\n",
              "      <td>64839988</td>\n",
              "    </tr>\n",
              "    <tr>\n",
              "      <th>22</th>\n",
              "      <td>2880</td>\n",
              "      <td>NaN</td>\n",
              "      <td>華南金</td>\n",
              "      <td>HUA NAN FINANCIAL HOLDINGS CO.LTD.</td>\n",
              "      <td>0.88</td>\n",
              "      <td>104256776</td>\n",
              "    </tr>\n",
              "    <tr>\n",
              "      <th>23</th>\n",
              "      <td>3034</td>\n",
              "      <td>NaN</td>\n",
              "      <td>聯詠</td>\n",
              "      <td>NOVATEK MICROELECTRONICS CORP.</td>\n",
              "      <td>0.88</td>\n",
              "      <td>5873341</td>\n",
              "    </tr>\n",
              "    <tr>\n",
              "      <th>24</th>\n",
              "      <td>2327</td>\n",
              "      <td>NaN</td>\n",
              "      <td>國巨</td>\n",
              "      <td>YAGEO CORPORATION</td>\n",
              "      <td>0.85</td>\n",
              "      <td>4007931</td>\n",
              "    </tr>\n",
              "    <tr>\n",
              "      <th>25</th>\n",
              "      <td>3008</td>\n",
              "      <td>NaN</td>\n",
              "      <td>大立光</td>\n",
              "      <td>LARGAN Precision Co.Ltd</td>\n",
              "      <td>0.84</td>\n",
              "      <td>1052063</td>\n",
              "    </tr>\n",
              "    <tr>\n",
              "      <th>26</th>\n",
              "      <td>2382</td>\n",
              "      <td>NaN</td>\n",
              "      <td>廣達</td>\n",
              "      <td>QUANTA COMPUTER INC.</td>\n",
              "      <td>0.80</td>\n",
              "      <td>27304616</td>\n",
              "    </tr>\n",
              "    <tr>\n",
              "      <th>27</th>\n",
              "      <td>2883</td>\n",
              "      <td>NaN</td>\n",
              "      <td>開發金</td>\n",
              "      <td>CHINA DEVELOPMENT FINANCIAL HOLDING CORP.</td>\n",
              "      <td>0.79</td>\n",
              "      <td>161681760</td>\n",
              "    </tr>\n",
              "    <tr>\n",
              "      <th>28</th>\n",
              "      <td>2207</td>\n",
              "      <td>NaN</td>\n",
              "      <td>和泰車</td>\n",
              "      <td>HOTAI MOTOR CO.LTD.</td>\n",
              "      <td>0.76</td>\n",
              "      <td>3273305</td>\n",
              "    </tr>\n",
              "    <tr>\n",
              "      <th>29</th>\n",
              "      <td>2357</td>\n",
              "      <td>NaN</td>\n",
              "      <td>華碩</td>\n",
              "      <td>ASUSTEK COMPUTER INC.</td>\n",
              "      <td>0.75</td>\n",
              "      <td>7237867</td>\n",
              "    </tr>\n",
              "    <tr>\n",
              "      <th>30</th>\n",
              "      <td>2887</td>\n",
              "      <td>NaN</td>\n",
              "      <td>台新金</td>\n",
              "      <td>Taishin Financial Holding Co. Ltd.</td>\n",
              "      <td>0.71</td>\n",
              "      <td>116650387</td>\n",
              "    </tr>\n",
              "    <tr>\n",
              "      <th>31</th>\n",
              "      <td>6415</td>\n",
              "      <td>NaN</td>\n",
              "      <td>矽力*-KY</td>\n",
              "      <td>Silergy Corp.</td>\n",
              "      <td>0.71</td>\n",
              "      <td>3321913</td>\n",
              "    </tr>\n",
              "    <tr>\n",
              "      <th>32</th>\n",
              "      <td>2890</td>\n",
              "      <td>NaN</td>\n",
              "      <td>永豐金</td>\n",
              "      <td>SINOPAC  FINANCIAL HOLDINGS COMPANY LIMITED</td>\n",
              "      <td>0.70</td>\n",
              "      <td>108725463</td>\n",
              "    </tr>\n",
              "    <tr>\n",
              "      <th>33</th>\n",
              "      <td>3037</td>\n",
              "      <td>NaN</td>\n",
              "      <td>欣興</td>\n",
              "      <td>Unimicron Technology Corp.</td>\n",
              "      <td>0.65</td>\n",
              "      <td>12912541</td>\n",
              "    </tr>\n",
              "    <tr>\n",
              "      <th>34</th>\n",
              "      <td>2379</td>\n",
              "      <td>NaN</td>\n",
              "      <td>瑞昱</td>\n",
              "      <td>Realtek Semiconductor Corporation</td>\n",
              "      <td>0.65</td>\n",
              "      <td>4881250</td>\n",
              "    </tr>\n",
              "    <tr>\n",
              "      <th>35</th>\n",
              "      <td>3045</td>\n",
              "      <td>NaN</td>\n",
              "      <td>台灣大</td>\n",
              "      <td>TAIWAN  MOBILE  CO. LTD.</td>\n",
              "      <td>0.63</td>\n",
              "      <td>17707707</td>\n",
              "    </tr>\n",
              "    <tr>\n",
              "      <th>36</th>\n",
              "      <td>5876</td>\n",
              "      <td>NaN</td>\n",
              "      <td>上海商銀</td>\n",
              "      <td>THE SHANGHAI COMMERCIAL &amp; SAVINGS BANK LTD.</td>\n",
              "      <td>0.63</td>\n",
              "      <td>36087938</td>\n",
              "    </tr>\n",
              "    <tr>\n",
              "      <th>37</th>\n",
              "      <td>1590</td>\n",
              "      <td>NaN</td>\n",
              "      <td>亞德客-KY</td>\n",
              "      <td>AIRTAC INTERNATIONAL GROUP</td>\n",
              "      <td>0.63</td>\n",
              "      <td>1602164</td>\n",
              "    </tr>\n",
              "    <tr>\n",
              "      <th>38</th>\n",
              "      <td>2912</td>\n",
              "      <td>NaN</td>\n",
              "      <td>統一超</td>\n",
              "      <td>PRESIDENT CHAIN STORE CORPORATION</td>\n",
              "      <td>0.57</td>\n",
              "      <td>5760478</td>\n",
              "    </tr>\n",
              "    <tr>\n",
              "      <th>39</th>\n",
              "      <td>2395</td>\n",
              "      <td>NaN</td>\n",
              "      <td>研華</td>\n",
              "      <td>ADVANTECH Co. Ltd.</td>\n",
              "      <td>0.56</td>\n",
              "      <td>4238958</td>\n",
              "    </tr>\n",
              "    <tr>\n",
              "      <th>40</th>\n",
              "      <td>2603</td>\n",
              "      <td>NaN</td>\n",
              "      <td>長榮</td>\n",
              "      <td>EVERGREEN MARINE CORP. (TAIWAN) LTD.</td>\n",
              "      <td>0.56</td>\n",
              "      <td>10322835</td>\n",
              "    </tr>\n",
              "    <tr>\n",
              "      <th>41</th>\n",
              "      <td>1402</td>\n",
              "      <td>NaN</td>\n",
              "      <td>遠東新</td>\n",
              "      <td>Far Eastern New Century Corporation</td>\n",
              "      <td>0.48</td>\n",
              "      <td>40263594</td>\n",
              "    </tr>\n",
              "    <tr>\n",
              "      <th>42</th>\n",
              "      <td>2801</td>\n",
              "      <td>NaN</td>\n",
              "      <td>彰銀</td>\n",
              "      <td>CHANG HWA COMMERCIAL BANK LTD.</td>\n",
              "      <td>0.44</td>\n",
              "      <td>68009923</td>\n",
              "    </tr>\n",
              "    <tr>\n",
              "      <th>43</th>\n",
              "      <td>6505</td>\n",
              "      <td>NaN</td>\n",
              "      <td>台塑化</td>\n",
              "      <td>Formosa Petrochemical Corp</td>\n",
              "      <td>0.44</td>\n",
              "      <td>14007344</td>\n",
              "    </tr>\n",
              "    <tr>\n",
              "      <th>44</th>\n",
              "      <td>4904</td>\n",
              "      <td>NaN</td>\n",
              "      <td>遠傳</td>\n",
              "      <td>Far EasTone Telecommunications Co. Ltd.</td>\n",
              "      <td>0.42</td>\n",
              "      <td>16395257</td>\n",
              "    </tr>\n",
              "    <tr>\n",
              "      <th>45</th>\n",
              "      <td>2609</td>\n",
              "      <td>NaN</td>\n",
              "      <td>陽明</td>\n",
              "      <td>Yang Ming Marine Transport Corp.</td>\n",
              "      <td>0.40</td>\n",
              "      <td>17925750</td>\n",
              "    </tr>\n",
              "    <tr>\n",
              "      <th>46</th>\n",
              "      <td>2615</td>\n",
              "      <td>NaN</td>\n",
              "      <td>萬海</td>\n",
              "      <td>WAN HAI LINES LTD.</td>\n",
              "      <td>0.39</td>\n",
              "      <td>14405086</td>\n",
              "    </tr>\n",
              "    <tr>\n",
              "      <th>47</th>\n",
              "      <td>9910</td>\n",
              "      <td>NaN</td>\n",
              "      <td>豐泰</td>\n",
              "      <td>FENG TAY ENTERPRISES CO. LTD.</td>\n",
              "      <td>0.30</td>\n",
              "      <td>4526746</td>\n",
              "    </tr>\n",
              "    <tr>\n",
              "      <th>48</th>\n",
              "      <td>8046</td>\n",
              "      <td>NaN</td>\n",
              "      <td>南電</td>\n",
              "      <td>NAN YA PRINTED CIRCUIT BOARD CORPORATION</td>\n",
              "      <td>0.20</td>\n",
              "      <td>2155982</td>\n",
              "    </tr>\n",
              "    <tr>\n",
              "      <th>49</th>\n",
              "      <td>2408</td>\n",
              "      <td>NaN</td>\n",
              "      <td>南亞科</td>\n",
              "      <td>NANYA TECHNOLOGY CORPORATION</td>\n",
              "      <td>0.19</td>\n",
              "      <td>8397377</td>\n",
              "    </tr>\n",
              "  </tbody>\n",
              "</table>\n",
              "</div>\n",
              "      <button class=\"colab-df-convert\" onclick=\"convertToInteractive('df-87f89364-da45-4c6c-aa65-c3c4fc592fe9')\"\n",
              "              title=\"Convert this dataframe to an interactive table.\"\n",
              "              style=\"display:none;\">\n",
              "        \n",
              "  <svg xmlns=\"http://www.w3.org/2000/svg\" height=\"24px\"viewBox=\"0 0 24 24\"\n",
              "       width=\"24px\">\n",
              "    <path d=\"M0 0h24v24H0V0z\" fill=\"none\"/>\n",
              "    <path d=\"M18.56 5.44l.94 2.06.94-2.06 2.06-.94-2.06-.94-.94-2.06-.94 2.06-2.06.94zm-11 1L8.5 8.5l.94-2.06 2.06-.94-2.06-.94L8.5 2.5l-.94 2.06-2.06.94zm10 10l.94 2.06.94-2.06 2.06-.94-2.06-.94-.94-2.06-.94 2.06-2.06.94z\"/><path d=\"M17.41 7.96l-1.37-1.37c-.4-.4-.92-.59-1.43-.59-.52 0-1.04.2-1.43.59L10.3 9.45l-7.72 7.72c-.78.78-.78 2.05 0 2.83L4 21.41c.39.39.9.59 1.41.59.51 0 1.02-.2 1.41-.59l7.78-7.78 2.81-2.81c.8-.78.8-2.07 0-2.86zM5.41 20L4 18.59l7.72-7.72 1.47 1.35L5.41 20z\"/>\n",
              "  </svg>\n",
              "      </button>\n",
              "      \n",
              "  <style>\n",
              "    .colab-df-container {\n",
              "      display:flex;\n",
              "      flex-wrap:wrap;\n",
              "      gap: 12px;\n",
              "    }\n",
              "\n",
              "    .colab-df-convert {\n",
              "      background-color: #E8F0FE;\n",
              "      border: none;\n",
              "      border-radius: 50%;\n",
              "      cursor: pointer;\n",
              "      display: none;\n",
              "      fill: #1967D2;\n",
              "      height: 32px;\n",
              "      padding: 0 0 0 0;\n",
              "      width: 32px;\n",
              "    }\n",
              "\n",
              "    .colab-df-convert:hover {\n",
              "      background-color: #E2EBFA;\n",
              "      box-shadow: 0px 1px 2px rgba(60, 64, 67, 0.3), 0px 1px 3px 1px rgba(60, 64, 67, 0.15);\n",
              "      fill: #174EA6;\n",
              "    }\n",
              "\n",
              "    [theme=dark] .colab-df-convert {\n",
              "      background-color: #3B4455;\n",
              "      fill: #D2E3FC;\n",
              "    }\n",
              "\n",
              "    [theme=dark] .colab-df-convert:hover {\n",
              "      background-color: #434B5C;\n",
              "      box-shadow: 0px 1px 3px 1px rgba(0, 0, 0, 0.15);\n",
              "      filter: drop-shadow(0px 1px 2px rgba(0, 0, 0, 0.3));\n",
              "      fill: #FFFFFF;\n",
              "    }\n",
              "  </style>\n",
              "\n",
              "      <script>\n",
              "        const buttonEl =\n",
              "          document.querySelector('#df-87f89364-da45-4c6c-aa65-c3c4fc592fe9 button.colab-df-convert');\n",
              "        buttonEl.style.display =\n",
              "          google.colab.kernel.accessAllowed ? 'block' : 'none';\n",
              "\n",
              "        async function convertToInteractive(key) {\n",
              "          const element = document.querySelector('#df-87f89364-da45-4c6c-aa65-c3c4fc592fe9');\n",
              "          const dataTable =\n",
              "            await google.colab.kernel.invokeFunction('convertToInteractive',\n",
              "                                                     [key], {});\n",
              "          if (!dataTable) return;\n",
              "\n",
              "          const docLinkHtml = 'Like what you see? Visit the ' +\n",
              "            '<a target=\"_blank\" href=https://colab.research.google.com/notebooks/data_table.ipynb>data table notebook</a>'\n",
              "            + ' to learn more about interactive tables.';\n",
              "          element.innerHTML = '';\n",
              "          dataTable['output_type'] = 'display_data';\n",
              "          await google.colab.output.renderOutput(dataTable, element);\n",
              "          const docLink = document.createElement('div');\n",
              "          docLink.innerHTML = docLinkHtml;\n",
              "          element.appendChild(docLink);\n",
              "        }\n",
              "      </script>\n",
              "    </div>\n",
              "  </div>\n",
              "  "
            ]
          },
          "metadata": {},
          "execution_count": 170
        }
      ]
    },
    {
      "cell_type": "code",
      "source": [],
      "metadata": {
        "id": "Wjh1kMiRsAhd"
      },
      "execution_count": null,
      "outputs": []
    }
  ]
}