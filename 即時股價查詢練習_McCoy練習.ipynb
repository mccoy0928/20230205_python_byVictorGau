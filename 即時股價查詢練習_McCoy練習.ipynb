{
  "nbformat": 4,
  "nbformat_minor": 0,
  "metadata": {
    "colab": {
      "provenance": [],
      "include_colab_link": true
    },
    "kernelspec": {
      "name": "python3",
      "display_name": "Python 3"
    },
    "language_info": {
      "name": "python"
    }
  },
  "cells": [
    {
      "cell_type": "markdown",
      "metadata": {
        "id": "view-in-github",
        "colab_type": "text"
      },
      "source": [
        "<a href=\"https://colab.research.google.com/github/mccoy0928/20230205_python_byVictorGau/blob/main/%E5%8D%B3%E6%99%82%E8%82%A1%E5%83%B9%E6%9F%A5%E8%A9%A2%E7%B7%B4%E7%BF%92_McCoy%E7%B7%B4%E7%BF%92.ipynb\" target=\"_parent\"><img src=\"https://colab.research.google.com/assets/colab-badge.svg\" alt=\"Open In Colab\"/></a>"
      ]
    },
    {
      "cell_type": "markdown",
      "source": [
        "# 即時股價資料查詢練習"
      ],
      "metadata": {
        "id": "-OqwsxAlUjB5"
      }
    },
    {
      "cell_type": "code",
      "execution_count": 1,
      "metadata": {
        "id": "9-WSGJXZUOoY"
      },
      "outputs": [],
      "source": [
        "import requests\n"
      ]
    },
    {
      "cell_type": "code",
      "source": [
        "url = \"https://mis.twse.com.tw/stock/api/getStockInfo.jsp?ex_ch=tse_1101.tw&json=1&delay=0\""
      ],
      "metadata": {
        "id": "dbZzdlf8UQsU"
      },
      "execution_count": 2,
      "outputs": []
    },
    {
      "cell_type": "markdown",
      "source": [
        "## 請抓取上面網址的JSON格式資料"
      ],
      "metadata": {
        "id": "-5L6EgWYUcnD"
      }
    },
    {
      "cell_type": "code",
      "source": [
        "import json"
      ],
      "metadata": {
        "id": "y7yMl5kMUVcr"
      },
      "execution_count": 3,
      "outputs": []
    },
    {
      "cell_type": "code",
      "source": [
        "data = requests.get(url).json()"
      ],
      "metadata": {
        "id": "zqnI6Qo5msHa"
      },
      "execution_count": 4,
      "outputs": []
    },
    {
      "cell_type": "code",
      "source": [
        "type(data)"
      ],
      "metadata": {
        "colab": {
          "base_uri": "https://localhost:8080/"
        },
        "id": "gwKj43gEm3WR",
        "outputId": "abb2e65d-e7b0-4090-e8f7-fd7570ad7fa1"
      },
      "execution_count": 6,
      "outputs": [
        {
          "output_type": "execute_result",
          "data": {
            "text/plain": [
              "dict"
            ]
          },
          "metadata": {},
          "execution_count": 6
        }
      ]
    },
    {
      "cell_type": "code",
      "source": [
        "type(data['msgArray'])"
      ],
      "metadata": {
        "colab": {
          "base_uri": "https://localhost:8080/"
        },
        "id": "xrM7AH5cnCWa",
        "outputId": "edb150cc-885d-4e78-8477-1fc7bb16b80b"
      },
      "execution_count": 13,
      "outputs": [
        {
          "output_type": "execute_result",
          "data": {
            "text/plain": [
              "list"
            ]
          },
          "metadata": {},
          "execution_count": 13
        }
      ]
    },
    {
      "cell_type": "code",
      "source": [
        "data['msgArray'][-1]"
      ],
      "metadata": {
        "colab": {
          "base_uri": "https://localhost:8080/"
        },
        "id": "aulM9Ezipui9",
        "outputId": "8dce07b4-22ea-4cc5-9900-b620ba61cde3"
      },
      "execution_count": 24,
      "outputs": [
        {
          "output_type": "execute_result",
          "data": {
            "text/plain": [
              "{'tv': '1438',\n",
              " 'ps': '1437',\n",
              " 'pz': '38.0500',\n",
              " 'bp': '0',\n",
              " 'a': '38.0500_38.1000_38.1500_38.2000_38.2500_',\n",
              " 'b': '38.0000_37.9500_37.9000_37.8500_37.8000_',\n",
              " 'c': '1101',\n",
              " 'd': '20230222',\n",
              " 'ch': '1101.tw',\n",
              " 'tlong': '1677043800000',\n",
              " 'f': '102_86_222_219_105_',\n",
              " 'ip': '0',\n",
              " 'g': '742_480_666_876_1139_',\n",
              " 'mt': '000000',\n",
              " 'h': '38.3000',\n",
              " 'i': '01',\n",
              " 'it': '12',\n",
              " 'l': '37.8500',\n",
              " 'n': '台泥',\n",
              " 'o': '38.1500',\n",
              " 'p': '0',\n",
              " 'ex': 'tse',\n",
              " 's': '1438',\n",
              " 't': '13:30:00',\n",
              " 'u': '42.1500',\n",
              " 'v': '19427',\n",
              " 'w': '34.5500',\n",
              " 'nf': '台灣水泥股份有限公司',\n",
              " 'y': '38.3500',\n",
              " 'z': '38.0500',\n",
              " 'ts': '0'}"
            ]
          },
          "metadata": {},
          "execution_count": 24
        }
      ]
    },
    {
      "cell_type": "markdown",
      "source": [
        "## 請印出目前股價\n",
        "\n",
        "[即時股價欄位說明](https://ithelp.ithome.com.tw/articles/10258478)"
      ],
      "metadata": {
        "id": "-fOYjoboUoxl"
      }
    },
    {
      "cell_type": "code",
      "source": [
        "print(data['msgArray'][0]['c'], \" \", data['msgArray'][0]['n'], \" \", data['msgArray'][0]['z'])"
      ],
      "metadata": {
        "id": "gwdebmHVUsm7",
        "colab": {
          "base_uri": "https://localhost:8080/"
        },
        "outputId": "e3ad273c-5613-43ef-e810-cf7aa484a182"
      },
      "execution_count": 22,
      "outputs": [
        {
          "output_type": "stream",
          "name": "stdout",
          "text": [
            "1101   台泥   38.0500\n"
          ]
        }
      ]
    }
  ]
}