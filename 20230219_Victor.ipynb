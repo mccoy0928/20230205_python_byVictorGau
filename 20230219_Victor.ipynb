{
  "nbformat": 4,
  "nbformat_minor": 0,
  "metadata": {
    "colab": {
      "provenance": [],
      "include_colab_link": true
    },
    "kernelspec": {
      "name": "python3",
      "display_name": "Python 3"
    },
    "language_info": {
      "name": "python"
    }
  },
  "cells": [
    {
      "cell_type": "markdown",
      "metadata": {
        "id": "view-in-github",
        "colab_type": "text"
      },
      "source": [
        "<a href=\"https://colab.research.google.com/github/mccoy0928/20230205_python_byVictorGau/blob/main/20230219_Victor.ipynb\" target=\"_parent\"><img src=\"https://colab.research.google.com/assets/colab-badge.svg\" alt=\"Open In Colab\"/></a>"
      ]
    },
    {
      "cell_type": "markdown",
      "source": [
        "# 20230219 筆記"
      ],
      "metadata": {
        "id": "4k7YiiVSUNdT"
      }
    },
    {
      "cell_type": "markdown",
      "source": [
        "## 回答問題"
      ],
      "metadata": {
        "id": "fAQXEHpcUmOn"
      }
    },
    {
      "cell_type": "markdown",
      "source": [
        "### Q: \"%\" 怎麼使用？\n",
        "\n",
        "參考：https://python.microbit.org/v/3\n",
        "\n",
        "嘗試執行底下程式，按按鈕A觀察結果！\n",
        "\n",
        "```python\n",
        "# Imports go at the top\n",
        "from microbit import *\n",
        "\n",
        "display.clear()\n",
        "\n",
        "x = 0\n",
        "y = 0\n",
        "display.set_pixel(x,y,9)\n",
        "\n",
        "while True:\n",
        "    if button_a.was_pressed():\n",
        "        x = x + 1\n",
        "        display.clear()\n",
        "        display.set_pixel(x%5,y,9)\n",
        "```"
      ],
      "metadata": {
        "id": "laaMUqb7UXBA"
      }
    },
    {
      "cell_type": "markdown",
      "source": [
        "## 複習一下 requests 的使用\n",
        "\n",
        "從政府資料開放平台抓資料：https://data.gov.tw/"
      ],
      "metadata": {
        "id": "L_d49VF0U9eD"
      }
    },
    {
      "cell_type": "markdown",
      "source": [
        "### 練習\n",
        "\n",
        "抓取`年度國內主要金融指標`下來做分析:\n",
        "\n",
        "https://apiservice.mol.gov.tw/OdService/download/A17000000J-030244-dpp"
      ],
      "metadata": {
        "id": "R8ePOU2vW2Ij"
      }
    },
    {
      "cell_type": "code",
      "execution_count": null,
      "metadata": {
        "id": "TU0WgUzOPbSG"
      },
      "outputs": [],
      "source": [
        "import requests"
      ]
    },
    {
      "cell_type": "code",
      "source": [
        "url = \"https://apiservice.mol.gov.tw/OdService/download/A17000000J-030244-dpp\""
      ],
      "metadata": {
        "id": "t1lMNwHaPd-e"
      },
      "execution_count": null,
      "outputs": []
    },
    {
      "cell_type": "code",
      "source": [
        "data = requests.get(url).json()"
      ],
      "metadata": {
        "id": "udd8ZIXyPk66"
      },
      "execution_count": null,
      "outputs": []
    },
    {
      "cell_type": "code",
      "source": [
        "# 列出data裡面的東西\n",
        "data"
      ],
      "metadata": {
        "id": "j58ppEH5XVqC"
      },
      "execution_count": null,
      "outputs": []
    },
    {
      "cell_type": "code",
      "source": [
        "# 檢視data的資料型態\n",
        "type(data)"
      ],
      "metadata": {
        "colab": {
          "base_uri": "https://localhost:8080/"
        },
        "id": "kpOnUyWUZUwr",
        "outputId": "8dad0aa3-00e9-42ae-ae9c-fa50c9882d16"
      },
      "execution_count": null,
      "outputs": [
        {
          "output_type": "execute_result",
          "data": {
            "text/plain": [
              "list"
            ]
          },
          "metadata": {},
          "execution_count": 7
        }
      ]
    },
    {
      "cell_type": "code",
      "source": [
        "# 檢視一下 data 裡面有幾筆資料\n",
        "len(data)"
      ],
      "metadata": {
        "colab": {
          "base_uri": "https://localhost:8080/"
        },
        "id": "d-v2aCjpXZiL",
        "outputId": "4cfcd520-6a06-4567-8f88-6b5f9198064a"
      },
      "execution_count": null,
      "outputs": [
        {
          "output_type": "execute_result",
          "data": {
            "text/plain": [
              "29"
            ]
          },
          "metadata": {},
          "execution_count": 8
        }
      ]
    },
    {
      "cell_type": "code",
      "source": [
        "# 檢視一下 data 的第一筆資料\n",
        "data[0]"
      ],
      "metadata": {
        "colab": {
          "base_uri": "https://localhost:8080/"
        },
        "id": "RYkMoGhoZgzO",
        "outputId": "3b9cb041-0627-4634-8dca-02685fa4544f"
      },
      "execution_count": null,
      "outputs": [
        {
          "output_type": "execute_result",
          "data": {
            "text/plain": [
              "{'年度': '1994',\n",
              " '貨幣供給額期底年增率-M1B': '12.23',\n",
              " '貨幣供給額期底年增率-M2': '15.07',\n",
              " '金價（美元／英兩）-國際現貨黃金價格': '382.50',\n",
              " '金價（美元／英兩）-台北': '385.07',\n",
              " '匯率（月底）-（新台幣／美元）': '26.240',\n",
              " '外匯存底（億美元）': '924.54',\n",
              " '利率（年息%）-金融業拆款': '6.130',\n",
              " '利率（年息%）-商業本票31-90天期': '6.77',\n",
              " '利率（年息%）-中央銀行重貼現率': '5.500',\n",
              " '利率（年息%）-債券市場（十年期中央政府公債）': '7.24',\n",
              " '證券（集中市場）-發行量加權股價指數（月底）': '7124.66',\n",
              " '證券（集中市場）-成交值（億元）': '194766'}"
            ]
          },
          "metadata": {},
          "execution_count": 9
        }
      ]
    },
    {
      "cell_type": "markdown",
      "source": [
        "### 列出各年度的M2貨幣供給額"
      ],
      "metadata": {
        "id": "XKS7PDAHdrKc"
      }
    },
    {
      "cell_type": "markdown",
      "source": [
        "#### 方法一"
      ],
      "metadata": {
        "id": "fZV5YPv4dxVH"
      }
    },
    {
      "cell_type": "code",
      "source": [
        "for i in data:\n",
        "  print(i['年度'], \"==>\", i['貨幣供給額期底年增率-M2'])"
      ],
      "metadata": {
        "colab": {
          "base_uri": "https://localhost:8080/"
        },
        "id": "XmjUorR7Zlib",
        "outputId": "0636da66-e6e3-4060-d607-d46ea2e980ef"
      },
      "execution_count": null,
      "outputs": [
        {
          "output_type": "stream",
          "name": "stdout",
          "text": [
            "1994 ==> 15.07\n",
            "1995 ==> 9.42\n",
            "1996 ==> 9.13\n",
            "1997 ==> 8.02\n",
            "1998 ==> 8.56\n",
            "1999 ==> 8.29\n",
            "2000 ==> 6.50\n",
            "2001 ==> 4.31\n",
            "2002 ==> 2.53\n",
            "2003 ==> 5.68\n",
            "2004 ==> 7.19\n",
            "2005 ==> 6.63\n",
            "2006 ==> 5.15\n",
            "2007 ==> 0.84\n",
            "2008 ==> 7.21\n",
            "2009 ==> 5.78\n",
            "2010 ==> 5.44\n",
            "2011 ==> 4.84\n",
            "2012 ==> 3.46\n",
            "2013 ==> 5.79\n",
            "2014 ==> 6.13\n",
            "2015 ==> 5.80\n",
            "2016 ==> 3.55\n",
            "2017 ==> 3.56\n",
            "2018 ==> 2.65\n",
            "2019 ==> 4.52\n",
            "2020 ==> 9.36\n",
            "2021 ==> 7.35\n",
            "2022 ==> 6.74\n"
          ]
        }
      ]
    },
    {
      "cell_type": "markdown",
      "source": [
        "#### 方法二"
      ],
      "metadata": {
        "id": "zNhXBX78dzXM"
      }
    },
    {
      "cell_type": "code",
      "source": [
        "for i in range(len(data)):\n",
        "  print(i)"
      ],
      "metadata": {
        "colab": {
          "base_uri": "https://localhost:8080/"
        },
        "id": "U_RL6lL8Z_Nk",
        "outputId": "afdce545-fd0a-4dab-db31-546f0c54ee34"
      },
      "execution_count": null,
      "outputs": [
        {
          "output_type": "stream",
          "name": "stdout",
          "text": [
            "0\n",
            "1\n",
            "2\n",
            "3\n",
            "4\n",
            "5\n",
            "6\n",
            "7\n",
            "8\n",
            "9\n",
            "10\n",
            "11\n",
            "12\n",
            "13\n",
            "14\n",
            "15\n",
            "16\n",
            "17\n",
            "18\n",
            "19\n",
            "20\n",
            "21\n",
            "22\n",
            "23\n",
            "24\n",
            "25\n",
            "26\n",
            "27\n",
            "28\n"
          ]
        }
      ]
    },
    {
      "cell_type": "code",
      "source": [
        "for i in range(len(data)):\n",
        "  print(data[i]['年度'], \"==>\", data[i]['貨幣供給額期底年增率-M2'])"
      ],
      "metadata": {
        "colab": {
          "base_uri": "https://localhost:8080/"
        },
        "id": "lNKpEdb1d2A6",
        "outputId": "2eaecc83-ba27-4838-b664-841fe33f10ac"
      },
      "execution_count": null,
      "outputs": [
        {
          "output_type": "stream",
          "name": "stdout",
          "text": [
            "1994 ==> 15.07\n",
            "1995 ==> 9.42\n",
            "1996 ==> 9.13\n",
            "1997 ==> 8.02\n",
            "1998 ==> 8.56\n",
            "1999 ==> 8.29\n",
            "2000 ==> 6.50\n",
            "2001 ==> 4.31\n",
            "2002 ==> 2.53\n",
            "2003 ==> 5.68\n",
            "2004 ==> 7.19\n",
            "2005 ==> 6.63\n",
            "2006 ==> 5.15\n",
            "2007 ==> 0.84\n",
            "2008 ==> 7.21\n",
            "2009 ==> 5.78\n",
            "2010 ==> 5.44\n",
            "2011 ==> 4.84\n",
            "2012 ==> 3.46\n",
            "2013 ==> 5.79\n",
            "2014 ==> 6.13\n",
            "2015 ==> 5.80\n",
            "2016 ==> 3.55\n",
            "2017 ==> 3.56\n",
            "2018 ==> 2.65\n",
            "2019 ==> 4.52\n",
            "2020 ==> 9.36\n",
            "2021 ==> 7.35\n",
            "2022 ==> 6.74\n"
          ]
        }
      ]
    },
    {
      "cell_type": "markdown",
      "source": [
        "## 資料分析基礎套件\n",
        "\n",
        "* numpy ==> 科學運算基礎套件\n",
        "* matplotlib ==> 繪圖基礎套件\n",
        "* pandas ==> 資料分析基礎套件"
      ],
      "metadata": {
        "id": "K3crGdOdhVjK"
      }
    },
    {
      "cell_type": "markdown",
      "source": [
        "### 套件載入的慣用法\n",
        "\n",
        "```python\n",
        "import numpy as np\n",
        "import matplotlib.pyplot as plt\n",
        "import pandas as pd\n",
        "```"
      ],
      "metadata": {
        "id": "pzMCb30lhy8t"
      }
    },
    {
      "cell_type": "markdown",
      "source": [
        "### NumPy\n",
        "\n",
        "NumPy ==> **Num**erical **Py**thon\n",
        "\n",
        "* ndarray (多維陣列) ==> N-Dimensional Arrays\n",
        "* ufunc (通用函式) ==> Universal Functions"
      ],
      "metadata": {
        "id": "0FnqVO-uibcM"
      }
    },
    {
      "cell_type": "code",
      "source": [
        "import numpy as np"
      ],
      "metadata": {
        "id": "-pJiXkamhc92"
      },
      "execution_count": null,
      "outputs": []
    },
    {
      "cell_type": "markdown",
      "source": [
        "### ndarray"
      ],
      "metadata": {
        "id": "1i0xR46gmdwP"
      }
    },
    {
      "cell_type": "markdown",
      "source": [
        "#### 原生的python的容器型別的限制\n",
        "\n",
        "無法簡單的做到科學運算(向量運算)！"
      ],
      "metadata": {
        "id": "JW0Bg_qPlfy_"
      }
    },
    {
      "cell_type": "code",
      "source": [
        "x = [1, 2, 3]\n",
        "y = [4, 5, 6]"
      ],
      "metadata": {
        "id": "1qLQ4R7cirDE"
      },
      "execution_count": null,
      "outputs": []
    },
    {
      "cell_type": "code",
      "source": [
        "x + y"
      ],
      "metadata": {
        "colab": {
          "base_uri": "https://localhost:8080/"
        },
        "id": "Ez3KU8J3kXQ3",
        "outputId": "4c1e940a-b6c5-4c8d-f702-8228efa94284"
      },
      "execution_count": null,
      "outputs": [
        {
          "output_type": "execute_result",
          "data": {
            "text/plain": [
              "[1, 2, 3, 4, 5, 6]"
            ]
          },
          "metadata": {},
          "execution_count": 17
        }
      ]
    },
    {
      "cell_type": "code",
      "source": [
        "2 * x"
      ],
      "metadata": {
        "colab": {
          "base_uri": "https://localhost:8080/"
        },
        "id": "n1iWtjuoka7m",
        "outputId": "c37c2073-f6fe-4979-9710-27f38a0d651c"
      },
      "execution_count": null,
      "outputs": [
        {
          "output_type": "execute_result",
          "data": {
            "text/plain": [
              "[1, 2, 3, 1, 2, 3]"
            ]
          },
          "metadata": {},
          "execution_count": 18
        }
      ]
    },
    {
      "cell_type": "markdown",
      "source": [
        "#### 使用numpy的ndarray來解決科學運算的問題"
      ],
      "metadata": {
        "id": "iw4xp0kXluRx"
      }
    },
    {
      "cell_type": "code",
      "source": [
        "x1 = np.array(x)\n",
        "y1 = np.array(y)"
      ],
      "metadata": {
        "id": "PSECyB-Vkt4k"
      },
      "execution_count": null,
      "outputs": []
    },
    {
      "cell_type": "code",
      "source": [
        "type(x1)"
      ],
      "metadata": {
        "colab": {
          "base_uri": "https://localhost:8080/"
        },
        "id": "mY1hHHC6lKaH",
        "outputId": "701a4e0c-65c7-4e85-a7b6-e97a0d5ade4e"
      },
      "execution_count": null,
      "outputs": [
        {
          "output_type": "execute_result",
          "data": {
            "text/plain": [
              "numpy.ndarray"
            ]
          },
          "metadata": {},
          "execution_count": 21
        }
      ]
    },
    {
      "cell_type": "code",
      "source": [
        "x1"
      ],
      "metadata": {
        "colab": {
          "base_uri": "https://localhost:8080/"
        },
        "id": "1MvQI1uAlXWQ",
        "outputId": "86fb1c5f-2a76-4144-944f-d1e6b9cf10d2"
      },
      "execution_count": null,
      "outputs": [
        {
          "output_type": "execute_result",
          "data": {
            "text/plain": [
              "array([1, 2, 3])"
            ]
          },
          "metadata": {},
          "execution_count": 23
        }
      ]
    },
    {
      "cell_type": "code",
      "source": [
        "y1"
      ],
      "metadata": {
        "colab": {
          "base_uri": "https://localhost:8080/"
        },
        "id": "ADSdHqEflZLF",
        "outputId": "129c613a-ee3e-4974-f0dd-c5bdd5311db6"
      },
      "execution_count": null,
      "outputs": [
        {
          "output_type": "execute_result",
          "data": {
            "text/plain": [
              "array([4, 5, 6])"
            ]
          },
          "metadata": {},
          "execution_count": 24
        }
      ]
    },
    {
      "cell_type": "code",
      "source": [
        "x1 + y1"
      ],
      "metadata": {
        "colab": {
          "base_uri": "https://localhost:8080/"
        },
        "id": "NXWPHuPMlLOq",
        "outputId": "18cd3401-47da-467d-840f-dd6fbbb84d23"
      },
      "execution_count": null,
      "outputs": [
        {
          "output_type": "execute_result",
          "data": {
            "text/plain": [
              "array([5, 7, 9])"
            ]
          },
          "metadata": {},
          "execution_count": 22
        }
      ]
    },
    {
      "cell_type": "code",
      "source": [
        "2 * x1"
      ],
      "metadata": {
        "colab": {
          "base_uri": "https://localhost:8080/"
        },
        "id": "vWWBMTp4lVE0",
        "outputId": "54c7cec6-f208-4664-b982-fd13a5b98d24"
      },
      "execution_count": null,
      "outputs": [
        {
          "output_type": "execute_result",
          "data": {
            "text/plain": [
              "array([2, 4, 6])"
            ]
          },
          "metadata": {},
          "execution_count": 25
        }
      ]
    },
    {
      "cell_type": "markdown",
      "source": [
        "### ufunc"
      ],
      "metadata": {
        "id": "S4dq87sCmham"
      }
    },
    {
      "cell_type": "markdown",
      "source": [
        "#### 原生的python的數學運算"
      ],
      "metadata": {
        "id": "iFoe6DtVn5bp"
      }
    },
    {
      "cell_type": "code",
      "source": [
        "import math"
      ],
      "metadata": {
        "id": "mTBQ_cR4lbpn"
      },
      "execution_count": null,
      "outputs": []
    },
    {
      "cell_type": "code",
      "source": [
        "math.pi"
      ],
      "metadata": {
        "colab": {
          "base_uri": "https://localhost:8080/"
        },
        "id": "b0tXp81Pm4PV",
        "outputId": "8b3c31bc-4300-4cfc-c5f0-ff6568a9a448"
      },
      "execution_count": null,
      "outputs": [
        {
          "output_type": "execute_result",
          "data": {
            "text/plain": [
              "3.141592653589793"
            ]
          },
          "metadata": {},
          "execution_count": 27
        }
      ]
    },
    {
      "cell_type": "code",
      "source": [
        "math.sin(math.pi/2)"
      ],
      "metadata": {
        "colab": {
          "base_uri": "https://localhost:8080/"
        },
        "id": "2zOLZYOIm7fA",
        "outputId": "0563294a-df0c-4589-fd70-a432eb7bd7d5"
      },
      "execution_count": null,
      "outputs": [
        {
          "output_type": "execute_result",
          "data": {
            "text/plain": [
              "1.0"
            ]
          },
          "metadata": {},
          "execution_count": 28
        }
      ]
    },
    {
      "cell_type": "code",
      "source": [
        "math.sin(x)"
      ],
      "metadata": {
        "colab": {
          "base_uri": "https://localhost:8080/",
          "height": 168
        },
        "id": "DQwvkwRWnAIi",
        "outputId": "e440c346-a00b-43e3-a4fc-0eeba69f13ce"
      },
      "execution_count": null,
      "outputs": [
        {
          "output_type": "error",
          "ename": "TypeError",
          "evalue": "ignored",
          "traceback": [
            "\u001b[0;31m---------------------------------------------------------------------------\u001b[0m",
            "\u001b[0;31mTypeError\u001b[0m                                 Traceback (most recent call last)",
            "\u001b[0;32m<ipython-input-30-514904a8605d>\u001b[0m in \u001b[0;36m<module>\u001b[0;34m\u001b[0m\n\u001b[0;32m----> 1\u001b[0;31m \u001b[0mmath\u001b[0m\u001b[0;34m.\u001b[0m\u001b[0msin\u001b[0m\u001b[0;34m(\u001b[0m\u001b[0mx\u001b[0m\u001b[0;34m)\u001b[0m\u001b[0;34m\u001b[0m\u001b[0;34m\u001b[0m\u001b[0m\n\u001b[0m",
            "\u001b[0;31mTypeError\u001b[0m: must be real number, not list"
          ]
        }
      ]
    },
    {
      "cell_type": "markdown",
      "source": [
        "#### 比較一下 numpy 的使用"
      ],
      "metadata": {
        "id": "9pgmyRtMoATr"
      }
    },
    {
      "cell_type": "code",
      "source": [
        "np.pi"
      ],
      "metadata": {
        "colab": {
          "base_uri": "https://localhost:8080/"
        },
        "id": "56VXXtQUnY_6",
        "outputId": "8af20ff4-0cd7-41b5-e346-7cb438574bda"
      },
      "execution_count": null,
      "outputs": [
        {
          "output_type": "execute_result",
          "data": {
            "text/plain": [
              "3.141592653589793"
            ]
          },
          "metadata": {},
          "execution_count": 31
        }
      ]
    },
    {
      "cell_type": "code",
      "source": [
        "np.sin(np.pi/2)"
      ],
      "metadata": {
        "colab": {
          "base_uri": "https://localhost:8080/"
        },
        "id": "v5MJgquunjgS",
        "outputId": "82430879-a3d0-4dc4-abdd-ab10845e5e31"
      },
      "execution_count": null,
      "outputs": [
        {
          "output_type": "execute_result",
          "data": {
            "text/plain": [
              "1.0"
            ]
          },
          "metadata": {},
          "execution_count": 33
        }
      ]
    },
    {
      "cell_type": "code",
      "source": [
        "np.sin(x)"
      ],
      "metadata": {
        "colab": {
          "base_uri": "https://localhost:8080/"
        },
        "id": "h1t3My1NnlXu",
        "outputId": "3b6dac1c-6371-4d73-d831-3a7d4725531e"
      },
      "execution_count": null,
      "outputs": [
        {
          "output_type": "execute_result",
          "data": {
            "text/plain": [
              "array([0.84147098, 0.90929743, 0.14112001])"
            ]
          },
          "metadata": {},
          "execution_count": 34
        }
      ]
    },
    {
      "cell_type": "markdown",
      "source": [
        "### ndarray 附帶的屬性 (properties)"
      ],
      "metadata": {
        "id": "-l1Dxl5Ur1F6"
      }
    },
    {
      "cell_type": "code",
      "source": [
        "x"
      ],
      "metadata": {
        "colab": {
          "base_uri": "https://localhost:8080/"
        },
        "id": "zoPQRCWWr-da",
        "outputId": "0f8ce643-d1c6-4dc3-a02e-3e09d268e6e5"
      },
      "execution_count": null,
      "outputs": [
        {
          "output_type": "execute_result",
          "data": {
            "text/plain": [
              "[1, 2, 3]"
            ]
          },
          "metadata": {},
          "execution_count": 35
        }
      ]
    },
    {
      "cell_type": "code",
      "source": [
        "x1"
      ],
      "metadata": {
        "colab": {
          "base_uri": "https://localhost:8080/"
        },
        "id": "X_YFYdvcsmWL",
        "outputId": "ad7918c0-8bf1-445a-bd58-66820a50087a"
      },
      "execution_count": null,
      "outputs": [
        {
          "output_type": "execute_result",
          "data": {
            "text/plain": [
              "array([1, 2, 3])"
            ]
          },
          "metadata": {},
          "execution_count": 36
        }
      ]
    },
    {
      "cell_type": "code",
      "source": [
        "# 資料型態\n",
        "x1.dtype"
      ],
      "metadata": {
        "colab": {
          "base_uri": "https://localhost:8080/"
        },
        "id": "ytP-w7CysnGW",
        "outputId": "ac44e310-689a-4788-af68-e35c4a0f39c8"
      },
      "execution_count": null,
      "outputs": [
        {
          "output_type": "execute_result",
          "data": {
            "text/plain": [
              "dtype('int64')"
            ]
          },
          "metadata": {},
          "execution_count": 37
        }
      ]
    },
    {
      "cell_type": "code",
      "source": [
        "# 資料的形狀\n",
        "x1.shape"
      ],
      "metadata": {
        "colab": {
          "base_uri": "https://localhost:8080/"
        },
        "id": "aeh1nwjPsrhR",
        "outputId": "70c808aa-37cb-4dff-a66f-f52df003c853"
      },
      "execution_count": null,
      "outputs": [
        {
          "output_type": "execute_result",
          "data": {
            "text/plain": [
              "(3,)"
            ]
          },
          "metadata": {},
          "execution_count": 38
        }
      ]
    },
    {
      "cell_type": "code",
      "source": [
        "# 資料的個數\n",
        "x1.size"
      ],
      "metadata": {
        "colab": {
          "base_uri": "https://localhost:8080/"
        },
        "id": "FUVpkPzRs1Ca",
        "outputId": "ead6ff7c-53c1-4b6b-c4b4-8a2c9fc26d29"
      },
      "execution_count": null,
      "outputs": [
        {
          "output_type": "execute_result",
          "data": {
            "text/plain": [
              "3"
            ]
          },
          "metadata": {},
          "execution_count": 40
        }
      ]
    },
    {
      "cell_type": "markdown",
      "source": [
        "### ndarray 的 indexing 跟 slicing"
      ],
      "metadata": {
        "id": "vk-4C4darulb"
      }
    },
    {
      "cell_type": "code",
      "source": [
        "# np.arange() 類似 range()，但是會產生ndarray\n",
        "F = np.arange(25)"
      ],
      "metadata": {
        "id": "sJAyjVJynpbT"
      },
      "execution_count": null,
      "outputs": []
    },
    {
      "cell_type": "code",
      "source": [
        "F"
      ],
      "metadata": {
        "colab": {
          "base_uri": "https://localhost:8080/"
        },
        "id": "Fe-mZkoOtNOh",
        "outputId": "12e154ba-abcc-42ad-ee96-b6fb5dad2292"
      },
      "execution_count": null,
      "outputs": [
        {
          "output_type": "execute_result",
          "data": {
            "text/plain": [
              "array([ 0,  1,  2,  3,  4,  5,  6,  7,  8,  9, 10, 11, 12, 13, 14, 15, 16,\n",
              "       17, 18, 19, 20, 21, 22, 23, 24])"
            ]
          },
          "metadata": {},
          "execution_count": 51
        }
      ]
    },
    {
      "cell_type": "code",
      "source": [
        "F.dtype"
      ],
      "metadata": {
        "colab": {
          "base_uri": "https://localhost:8080/"
        },
        "id": "MZHlibujtNrC",
        "outputId": "75096af5-4f48-4aa1-bafd-b48ce8e763b0"
      },
      "execution_count": null,
      "outputs": [
        {
          "output_type": "execute_result",
          "data": {
            "text/plain": [
              "dtype('int64')"
            ]
          },
          "metadata": {},
          "execution_count": 52
        }
      ]
    },
    {
      "cell_type": "code",
      "source": [
        "F.shape"
      ],
      "metadata": {
        "colab": {
          "base_uri": "https://localhost:8080/"
        },
        "id": "cz7IOphbtkiH",
        "outputId": "f0cbaf70-b5da-4034-c77e-db98682894f1"
      },
      "execution_count": null,
      "outputs": [
        {
          "output_type": "execute_result",
          "data": {
            "text/plain": [
              "(25,)"
            ]
          },
          "metadata": {},
          "execution_count": 53
        }
      ]
    },
    {
      "cell_type": "code",
      "source": [
        "F.reshape(5, 5)"
      ],
      "metadata": {
        "colab": {
          "base_uri": "https://localhost:8080/"
        },
        "id": "ca7itZBKtmgt",
        "outputId": "e3f3d2f3-29b0-4f29-d3b6-6074dfa39a05"
      },
      "execution_count": null,
      "outputs": [
        {
          "output_type": "execute_result",
          "data": {
            "text/plain": [
              "array([[ 0,  1,  2,  3,  4],\n",
              "       [ 5,  6,  7,  8,  9],\n",
              "       [10, 11, 12, 13, 14],\n",
              "       [15, 16, 17, 18, 19],\n",
              "       [20, 21, 22, 23, 24]])"
            ]
          },
          "metadata": {},
          "execution_count": 54
        }
      ]
    },
    {
      "cell_type": "code",
      "source": [
        "F"
      ],
      "metadata": {
        "colab": {
          "base_uri": "https://localhost:8080/"
        },
        "id": "2QlCeKN1ts7p",
        "outputId": "f4ab5d08-b78c-44cc-a40a-74146eb21c3f"
      },
      "execution_count": null,
      "outputs": [
        {
          "output_type": "execute_result",
          "data": {
            "text/plain": [
              "array([ 0,  1,  2,  3,  4,  5,  6,  7,  8,  9, 10, 11, 12, 13, 14, 15, 16,\n",
              "       17, 18, 19, 20, 21, 22, 23, 24])"
            ]
          },
          "metadata": {},
          "execution_count": 55
        }
      ]
    },
    {
      "cell_type": "code",
      "source": [
        "G = F.reshape(5, 5)"
      ],
      "metadata": {
        "id": "R1WWaomptzcn"
      },
      "execution_count": null,
      "outputs": []
    },
    {
      "cell_type": "code",
      "source": [
        "G"
      ],
      "metadata": {
        "colab": {
          "base_uri": "https://localhost:8080/"
        },
        "id": "tVfjq9dTt3Av",
        "outputId": "baa354e2-8ec6-49c9-c191-5dd00cd29996"
      },
      "execution_count": null,
      "outputs": [
        {
          "output_type": "execute_result",
          "data": {
            "text/plain": [
              "array([[ 0,  1,  2,  3,  4],\n",
              "       [ 5,  6,  7,  8,  9],\n",
              "       [10, 11, 12, 13, 14],\n",
              "       [15, 16, 17, 18, 19],\n",
              "       [20, 21, 22, 23, 24]])"
            ]
          },
          "metadata": {},
          "execution_count": 57
        }
      ]
    },
    {
      "cell_type": "code",
      "source": [
        "G.shape"
      ],
      "metadata": {
        "colab": {
          "base_uri": "https://localhost:8080/"
        },
        "id": "J8vb1VGqt3kB",
        "outputId": "88e8a3c4-3f5b-4649-b1c6-65739e57c3a5"
      },
      "execution_count": null,
      "outputs": [
        {
          "output_type": "execute_result",
          "data": {
            "text/plain": [
              "(5, 5)"
            ]
          },
          "metadata": {},
          "execution_count": 58
        }
      ]
    },
    {
      "cell_type": "markdown",
      "source": [
        "#### indexing"
      ],
      "metadata": {
        "id": "MuDCKWG9uCqN"
      }
    },
    {
      "cell_type": "code",
      "source": [
        "F"
      ],
      "metadata": {
        "colab": {
          "base_uri": "https://localhost:8080/"
        },
        "id": "uZTZz8oct5Ic",
        "outputId": "8d7e2986-f9a7-4813-b7e0-d26b25c9f172"
      },
      "execution_count": null,
      "outputs": [
        {
          "output_type": "execute_result",
          "data": {
            "text/plain": [
              "array([ 0,  1,  2,  3,  4,  5,  6,  7,  8,  9, 10, 11, 12, 13, 14, 15, 16,\n",
              "       17, 18, 19, 20, 21, 22, 23, 24])"
            ]
          },
          "metadata": {},
          "execution_count": 59
        }
      ]
    },
    {
      "cell_type": "code",
      "source": [
        "F[0]"
      ],
      "metadata": {
        "colab": {
          "base_uri": "https://localhost:8080/"
        },
        "id": "VTAMfs4-uZOz",
        "outputId": "3fe8ac23-7c2b-4b29-e053-ab74e1e00270"
      },
      "execution_count": null,
      "outputs": [
        {
          "output_type": "execute_result",
          "data": {
            "text/plain": [
              "0"
            ]
          },
          "metadata": {},
          "execution_count": 60
        }
      ]
    },
    {
      "cell_type": "code",
      "source": [
        "F[-1]"
      ],
      "metadata": {
        "colab": {
          "base_uri": "https://localhost:8080/"
        },
        "id": "O9Q4xMU6ucSV",
        "outputId": "73f450e6-9100-415d-8a81-8acf97cb3c03"
      },
      "execution_count": null,
      "outputs": [
        {
          "output_type": "execute_result",
          "data": {
            "text/plain": [
              "24"
            ]
          },
          "metadata": {},
          "execution_count": 61
        }
      ]
    },
    {
      "cell_type": "code",
      "source": [
        "G"
      ],
      "metadata": {
        "colab": {
          "base_uri": "https://localhost:8080/"
        },
        "id": "JP-l5GNcudNI",
        "outputId": "edc97efa-c0a3-47e0-df65-0422020bb89b"
      },
      "execution_count": null,
      "outputs": [
        {
          "output_type": "execute_result",
          "data": {
            "text/plain": [
              "array([[ 0,  1,  2,  3,  4],\n",
              "       [ 5,  6,  7,  8,  9],\n",
              "       [10, 11, 12, 13, 14],\n",
              "       [15, 16, 17, 18, 19],\n",
              "       [20, 21, 22, 23, 24]])"
            ]
          },
          "metadata": {},
          "execution_count": 62
        }
      ]
    },
    {
      "cell_type": "code",
      "source": [
        "G[2]"
      ],
      "metadata": {
        "colab": {
          "base_uri": "https://localhost:8080/"
        },
        "id": "GoHAjDPVujHH",
        "outputId": "85a3bc04-b664-4744-ddc1-c0f2bd9d67c2"
      },
      "execution_count": null,
      "outputs": [
        {
          "output_type": "execute_result",
          "data": {
            "text/plain": [
              "array([10, 11, 12, 13, 14])"
            ]
          },
          "metadata": {},
          "execution_count": 63
        }
      ]
    },
    {
      "cell_type": "code",
      "source": [
        "G[2][2]"
      ],
      "metadata": {
        "colab": {
          "base_uri": "https://localhost:8080/"
        },
        "id": "p9Cdb69quwXg",
        "outputId": "19c9f9e7-42b0-4cf1-954b-a9440d118de4"
      },
      "execution_count": null,
      "outputs": [
        {
          "output_type": "execute_result",
          "data": {
            "text/plain": [
              "12"
            ]
          },
          "metadata": {},
          "execution_count": 64
        }
      ]
    },
    {
      "cell_type": "code",
      "source": [
        "G[2, 2]"
      ],
      "metadata": {
        "colab": {
          "base_uri": "https://localhost:8080/"
        },
        "id": "7T7pitd6uyHU",
        "outputId": "40f1be70-eed8-40e0-d25d-624ac464727b"
      },
      "execution_count": null,
      "outputs": [
        {
          "output_type": "execute_result",
          "data": {
            "text/plain": [
              "12"
            ]
          },
          "metadata": {},
          "execution_count": 65
        }
      ]
    },
    {
      "cell_type": "markdown",
      "source": [
        "#### slicing"
      ],
      "metadata": {
        "id": "vpoqS3uhvU7i"
      }
    },
    {
      "cell_type": "code",
      "source": [
        "G"
      ],
      "metadata": {
        "colab": {
          "base_uri": "https://localhost:8080/"
        },
        "id": "fyEOwy7gvA4v",
        "outputId": "7f5b4ccd-a5cd-450b-e85c-f2be64a72c86"
      },
      "execution_count": null,
      "outputs": [
        {
          "output_type": "execute_result",
          "data": {
            "text/plain": [
              "array([[ 0,  1,  2,  3,  4],\n",
              "       [ 5,  6,  7,  8,  9],\n",
              "       [10, 11, 12, 13, 14],\n",
              "       [15, 16, 17, 18, 19],\n",
              "       [20, 21, 22, 23, 24]])"
            ]
          },
          "metadata": {},
          "execution_count": 66
        }
      ]
    },
    {
      "cell_type": "code",
      "source": [
        "G[1:3, 1:3]"
      ],
      "metadata": {
        "colab": {
          "base_uri": "https://localhost:8080/"
        },
        "id": "oEPJG0HHvW7y",
        "outputId": "789e0409-2a56-4d21-e390-9c3bb9294763"
      },
      "execution_count": null,
      "outputs": [
        {
          "output_type": "execute_result",
          "data": {
            "text/plain": [
              "array([[ 6,  7],\n",
              "       [11, 12]])"
            ]
          },
          "metadata": {},
          "execution_count": 67
        }
      ]
    },
    {
      "cell_type": "markdown",
      "source": [
        "## 回答問題\n",
        "\n",
        "### Q: 如果np的ufunc都會主動將list轉換成ndarray，我們是不是可以省略 np.array(x) 這樣的轉換？"
      ],
      "metadata": {
        "id": "canTHO20v16y"
      }
    },
    {
      "cell_type": "code",
      "source": [
        "x"
      ],
      "metadata": {
        "colab": {
          "base_uri": "https://localhost:8080/"
        },
        "id": "pbMmUZdHvZCm",
        "outputId": "0eafc202-5525-48ac-c688-0cd5641edcc0"
      },
      "execution_count": null,
      "outputs": [
        {
          "output_type": "execute_result",
          "data": {
            "text/plain": [
              "[1, 2, 3]"
            ]
          },
          "metadata": {},
          "execution_count": 68
        }
      ]
    },
    {
      "cell_type": "code",
      "source": [
        "x ** 2"
      ],
      "metadata": {
        "id": "inffVGe0wGbQ",
        "outputId": "b89d0562-bd82-467d-f398-6c5d92957d62",
        "colab": {
          "base_uri": "https://localhost:8080/",
          "height": 168
        }
      },
      "execution_count": null,
      "outputs": [
        {
          "output_type": "error",
          "ename": "TypeError",
          "evalue": "ignored",
          "traceback": [
            "\u001b[0;31m---------------------------------------------------------------------------\u001b[0m",
            "\u001b[0;31mTypeError\u001b[0m                                 Traceback (most recent call last)",
            "\u001b[0;32m<ipython-input-69-519b2adf25af>\u001b[0m in \u001b[0;36m<module>\u001b[0;34m\u001b[0m\n\u001b[0;32m----> 1\u001b[0;31m \u001b[0mx\u001b[0m \u001b[0;34m**\u001b[0m \u001b[0;36m2\u001b[0m\u001b[0;34m\u001b[0m\u001b[0;34m\u001b[0m\u001b[0m\n\u001b[0m",
            "\u001b[0;31mTypeError\u001b[0m: unsupported operand type(s) for ** or pow(): 'list' and 'int'"
          ]
        }
      ]
    },
    {
      "cell_type": "code",
      "source": [
        "x1 ** 2"
      ],
      "metadata": {
        "id": "oWmi73hywIq2",
        "outputId": "175782e2-9e42-4be0-943e-a2e896a8fe4d",
        "colab": {
          "base_uri": "https://localhost:8080/"
        }
      },
      "execution_count": null,
      "outputs": [
        {
          "output_type": "execute_result",
          "data": {
            "text/plain": [
              "array([1, 4, 9])"
            ]
          },
          "metadata": {},
          "execution_count": 70
        }
      ]
    },
    {
      "cell_type": "code",
      "source": [],
      "metadata": {
        "id": "yXykICejwKlL"
      },
      "execution_count": null,
      "outputs": []
    }
  ]
}