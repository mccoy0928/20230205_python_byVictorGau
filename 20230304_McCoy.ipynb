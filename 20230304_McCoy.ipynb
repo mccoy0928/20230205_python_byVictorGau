{
  "nbformat": 4,
  "nbformat_minor": 0,
  "metadata": {
    "colab": {
      "provenance": [],
      "authorship_tag": "ABX9TyPU3cIuVlA7BB2wgnPk/4w9",
      "include_colab_link": true
    },
    "kernelspec": {
      "name": "python3",
      "display_name": "Python 3"
    },
    "language_info": {
      "name": "python"
    }
  },
  "cells": [
    {
      "cell_type": "markdown",
      "metadata": {
        "id": "view-in-github",
        "colab_type": "text"
      },
      "source": [
        "<a href=\"https://colab.research.google.com/github/mccoy0928/20230205_python_byVictorGau/blob/main/20230304_McCoy.ipynb\" target=\"_parent\"><img src=\"https://colab.research.google.com/assets/colab-badge.svg\" alt=\"Open In Colab\"/></a>"
      ]
    },
    {
      "cell_type": "markdown",
      "source": [
        "# 2023-03-04 上課筆記\n",
        "\n",
        "## [爬蟲簡介](https://github.com/victorgau/khpy_web_crawler_intro)\n",
        "\n",
        "## [爬蟲特訓](https://github.com/victorgau/python_crawler)\n"
      ],
      "metadata": {
        "id": "kNd6SIaLGgU-"
      }
    },
    {
      "cell_type": "code",
      "source": [
        "import requests"
      ],
      "metadata": {
        "id": "89Nd7Pc5HKqi"
      },
      "execution_count": 4,
      "outputs": []
    },
    {
      "cell_type": "code",
      "source": [
        "url = \"https://victorgau.github.io/khpy_web_intro/html_only.html\""
      ],
      "metadata": {
        "id": "kkSDRFjIGyjt"
      },
      "execution_count": 31,
      "outputs": []
    },
    {
      "cell_type": "code",
      "source": [
        "r = requests.get(url)"
      ],
      "metadata": {
        "id": "HrZNvmMIH4Ss"
      },
      "execution_count": 32,
      "outputs": []
    },
    {
      "cell_type": "code",
      "source": [
        "r.request.headers"
      ],
      "metadata": {
        "colab": {
          "base_uri": "https://localhost:8080/"
        },
        "id": "AsrcoJI2bmlj",
        "outputId": "2917d1f0-fecf-4275-cc7a-81b948626c9a"
      },
      "execution_count": 33,
      "outputs": [
        {
          "output_type": "execute_result",
          "data": {
            "text/plain": [
              "{'User-Agent': 'python-requests/2.25.1', 'Accept-Encoding': 'gzip, deflate', 'Accept': '*/*', 'Connection': 'keep-alive'}"
            ]
          },
          "metadata": {},
          "execution_count": 33
        }
      ]
    },
    {
      "cell_type": "code",
      "source": [
        "r.headers"
      ],
      "metadata": {
        "colab": {
          "base_uri": "https://localhost:8080/"
        },
        "id": "GSpDMADRbrkC",
        "outputId": "7db6fec3-f468-4dc6-ca03-5d492ba48f9b"
      },
      "execution_count": 34,
      "outputs": [
        {
          "output_type": "execute_result",
          "data": {
            "text/plain": [
              "{'Connection': 'keep-alive', 'Content-Length': '143', 'Server': 'GitHub.com', 'Content-Type': 'text/html; charset=utf-8', 'permissions-policy': 'interest-cohort=()', 'Last-Modified': 'Sat, 09 Oct 2021 21:20:24 GMT', 'Access-Control-Allow-Origin': '*', 'ETag': '\"61620798-8f\"', 'expires': 'Sat, 04 Mar 2023 02:02:29 GMT', 'Cache-Control': 'max-age=600', 'x-proxy-cache': 'MISS', 'X-GitHub-Request-Id': '0C82:182F:18D353:20D6CA:6402A45D', 'Accept-Ranges': 'bytes', 'Date': 'Sat, 04 Mar 2023 02:23:27 GMT', 'Via': '1.1 varnish', 'Age': '0', 'X-Served-By': 'cache-fty21328-FTY', 'X-Cache': 'HIT', 'X-Cache-Hits': '1', 'X-Timer': 'S1677896607.086525,VS0,VE20', 'Vary': 'Accept-Encoding', 'X-Fastly-Request-ID': '0470ff39d542ef9133ccfd268cc9145be7436193'}"
            ]
          },
          "metadata": {},
          "execution_count": 34
        }
      ]
    },
    {
      "cell_type": "code",
      "source": [
        "print(r.text)"
      ],
      "metadata": {
        "colab": {
          "base_uri": "https://localhost:8080/"
        },
        "id": "0IEES4u9U-lb",
        "outputId": "450ac649-ba98-420a-982b-6793e9c6f132"
      },
      "execution_count": 13,
      "outputs": [
        {
          "output_type": "stream",
          "name": "stdout",
          "text": [
            "<!DOCTYPE html>\n",
            "<html>\n",
            "<head>\n",
            "    <title>HTML範例</title>\n",
            "</head>\n",
            "<body>\n",
            "\n",
            "<h1>哈囉！HTML！</h1>\n",
            "\n",
            "<img src=\"ninja.jpg\" />\n",
            "\n",
            "</body>\n",
            "</html>\n"
          ]
        }
      ]
    },
    {
      "cell_type": "markdown",
      "source": [
        "# 抓取Ajax網頁資料\n",
        "\n"
      ],
      "metadata": {
        "id": "nFYqXxlRVzWD"
      }
    },
    {
      "cell_type": "code",
      "source": [
        "import pandas as pd"
      ],
      "metadata": {
        "id": "PRbWp_MVVBFE"
      },
      "execution_count": 14,
      "outputs": []
    },
    {
      "cell_type": "markdown",
      "source": [
        "### 從非ajax網站抓取可以直接看到資料\n"
      ],
      "metadata": {
        "id": "Lcc2K02QWuZH"
      }
    },
    {
      "cell_type": "code",
      "source": [
        "url = \"https://victorgau.github.io/khpy_web_intro/spy.html\""
      ],
      "metadata": {
        "id": "5VQP501rVw5e"
      },
      "execution_count": 15,
      "outputs": []
    },
    {
      "cell_type": "code",
      "source": [
        "r = requests.get(url)"
      ],
      "metadata": {
        "id": "6cHlWSlGWCwQ"
      },
      "execution_count": 16,
      "outputs": []
    },
    {
      "cell_type": "code",
      "source": [
        "print(r.text)"
      ],
      "metadata": {
        "id": "jENR7JnJWPwU"
      },
      "execution_count": null,
      "outputs": []
    },
    {
      "cell_type": "code",
      "source": [
        "df = pd.read_html(url)"
      ],
      "metadata": {
        "id": "8tk-6pGcXMbF"
      },
      "execution_count": 22,
      "outputs": []
    },
    {
      "cell_type": "code",
      "source": [
        "df[0]"
      ],
      "metadata": {
        "colab": {
          "base_uri": "https://localhost:8080/",
          "height": 394
        },
        "id": "m8Ku4AwzXp8c",
        "outputId": "187f6c5c-e335-4821-c56e-5e3c99a81448"
      },
      "execution_count": 23,
      "outputs": [
        {
          "output_type": "execute_result",
          "data": {
            "text/plain": [
              "  Unnamed: 0_level_0               Open               High                Low  \\\n",
              "                Date Unnamed: 1_level_1 Unnamed: 2_level_1 Unnamed: 3_level_1   \n",
              "0         2021-07-26         439.309998         441.029999         439.260010   \n",
              "1         2021-07-27         439.910004         439.940002         435.989990   \n",
              "2         2021-07-28         439.679993         440.299988         437.309998   \n",
              "3         2021-07-29         439.820007         441.799988         439.809998   \n",
              "4         2021-07-30         437.910004         440.059998         437.769989   \n",
              "5         2021-08-02         440.339996         440.929993         437.209991   \n",
              "6         2021-08-03         438.440002         441.279999         436.100006   \n",
              "7         2021-08-04         439.779999         441.119995         438.730011   \n",
              "8         2021-08-05         440.220001         441.850006         439.880005   \n",
              "9         2021-08-06         442.100006         442.940002         441.799988   \n",
              "\n",
              "               Close          Adj Close             Volume  \n",
              "  Unnamed: 4_level_1 Unnamed: 5_level_1 Unnamed: 6_level_1  \n",
              "0         441.019989         441.019989           43719200  \n",
              "1         439.010010         439.010010           67397100  \n",
              "2         438.829987         438.829987           52472400  \n",
              "3         440.649994         440.649994           47435300  \n",
              "4         438.510010         438.510010           68890600  \n",
              "5         437.589996         437.589996           58783300  \n",
              "6         441.149994         441.149994           58053900  \n",
              "7         438.980011         438.980011           46732200  \n",
              "8         441.760010         441.760010           38969700  \n",
              "9         442.489990         442.489990           46864100  "
            ],
            "text/html": [
              "\n",
              "  <div id=\"df-ffc5c169-9610-4dce-9f12-c96ffdb9d845\">\n",
              "    <div class=\"colab-df-container\">\n",
              "      <div>\n",
              "<style scoped>\n",
              "    .dataframe tbody tr th:only-of-type {\n",
              "        vertical-align: middle;\n",
              "    }\n",
              "\n",
              "    .dataframe tbody tr th {\n",
              "        vertical-align: top;\n",
              "    }\n",
              "\n",
              "    .dataframe thead tr th {\n",
              "        text-align: left;\n",
              "    }\n",
              "</style>\n",
              "<table border=\"1\" class=\"dataframe\">\n",
              "  <thead>\n",
              "    <tr>\n",
              "      <th></th>\n",
              "      <th>Unnamed: 0_level_0</th>\n",
              "      <th>Open</th>\n",
              "      <th>High</th>\n",
              "      <th>Low</th>\n",
              "      <th>Close</th>\n",
              "      <th>Adj Close</th>\n",
              "      <th>Volume</th>\n",
              "    </tr>\n",
              "    <tr>\n",
              "      <th></th>\n",
              "      <th>Date</th>\n",
              "      <th>Unnamed: 1_level_1</th>\n",
              "      <th>Unnamed: 2_level_1</th>\n",
              "      <th>Unnamed: 3_level_1</th>\n",
              "      <th>Unnamed: 4_level_1</th>\n",
              "      <th>Unnamed: 5_level_1</th>\n",
              "      <th>Unnamed: 6_level_1</th>\n",
              "    </tr>\n",
              "  </thead>\n",
              "  <tbody>\n",
              "    <tr>\n",
              "      <th>0</th>\n",
              "      <td>2021-07-26</td>\n",
              "      <td>439.309998</td>\n",
              "      <td>441.029999</td>\n",
              "      <td>439.260010</td>\n",
              "      <td>441.019989</td>\n",
              "      <td>441.019989</td>\n",
              "      <td>43719200</td>\n",
              "    </tr>\n",
              "    <tr>\n",
              "      <th>1</th>\n",
              "      <td>2021-07-27</td>\n",
              "      <td>439.910004</td>\n",
              "      <td>439.940002</td>\n",
              "      <td>435.989990</td>\n",
              "      <td>439.010010</td>\n",
              "      <td>439.010010</td>\n",
              "      <td>67397100</td>\n",
              "    </tr>\n",
              "    <tr>\n",
              "      <th>2</th>\n",
              "      <td>2021-07-28</td>\n",
              "      <td>439.679993</td>\n",
              "      <td>440.299988</td>\n",
              "      <td>437.309998</td>\n",
              "      <td>438.829987</td>\n",
              "      <td>438.829987</td>\n",
              "      <td>52472400</td>\n",
              "    </tr>\n",
              "    <tr>\n",
              "      <th>3</th>\n",
              "      <td>2021-07-29</td>\n",
              "      <td>439.820007</td>\n",
              "      <td>441.799988</td>\n",
              "      <td>439.809998</td>\n",
              "      <td>440.649994</td>\n",
              "      <td>440.649994</td>\n",
              "      <td>47435300</td>\n",
              "    </tr>\n",
              "    <tr>\n",
              "      <th>4</th>\n",
              "      <td>2021-07-30</td>\n",
              "      <td>437.910004</td>\n",
              "      <td>440.059998</td>\n",
              "      <td>437.769989</td>\n",
              "      <td>438.510010</td>\n",
              "      <td>438.510010</td>\n",
              "      <td>68890600</td>\n",
              "    </tr>\n",
              "    <tr>\n",
              "      <th>5</th>\n",
              "      <td>2021-08-02</td>\n",
              "      <td>440.339996</td>\n",
              "      <td>440.929993</td>\n",
              "      <td>437.209991</td>\n",
              "      <td>437.589996</td>\n",
              "      <td>437.589996</td>\n",
              "      <td>58783300</td>\n",
              "    </tr>\n",
              "    <tr>\n",
              "      <th>6</th>\n",
              "      <td>2021-08-03</td>\n",
              "      <td>438.440002</td>\n",
              "      <td>441.279999</td>\n",
              "      <td>436.100006</td>\n",
              "      <td>441.149994</td>\n",
              "      <td>441.149994</td>\n",
              "      <td>58053900</td>\n",
              "    </tr>\n",
              "    <tr>\n",
              "      <th>7</th>\n",
              "      <td>2021-08-04</td>\n",
              "      <td>439.779999</td>\n",
              "      <td>441.119995</td>\n",
              "      <td>438.730011</td>\n",
              "      <td>438.980011</td>\n",
              "      <td>438.980011</td>\n",
              "      <td>46732200</td>\n",
              "    </tr>\n",
              "    <tr>\n",
              "      <th>8</th>\n",
              "      <td>2021-08-05</td>\n",
              "      <td>440.220001</td>\n",
              "      <td>441.850006</td>\n",
              "      <td>439.880005</td>\n",
              "      <td>441.760010</td>\n",
              "      <td>441.760010</td>\n",
              "      <td>38969700</td>\n",
              "    </tr>\n",
              "    <tr>\n",
              "      <th>9</th>\n",
              "      <td>2021-08-06</td>\n",
              "      <td>442.100006</td>\n",
              "      <td>442.940002</td>\n",
              "      <td>441.799988</td>\n",
              "      <td>442.489990</td>\n",
              "      <td>442.489990</td>\n",
              "      <td>46864100</td>\n",
              "    </tr>\n",
              "  </tbody>\n",
              "</table>\n",
              "</div>\n",
              "      <button class=\"colab-df-convert\" onclick=\"convertToInteractive('df-ffc5c169-9610-4dce-9f12-c96ffdb9d845')\"\n",
              "              title=\"Convert this dataframe to an interactive table.\"\n",
              "              style=\"display:none;\">\n",
              "        \n",
              "  <svg xmlns=\"http://www.w3.org/2000/svg\" height=\"24px\"viewBox=\"0 0 24 24\"\n",
              "       width=\"24px\">\n",
              "    <path d=\"M0 0h24v24H0V0z\" fill=\"none\"/>\n",
              "    <path d=\"M18.56 5.44l.94 2.06.94-2.06 2.06-.94-2.06-.94-.94-2.06-.94 2.06-2.06.94zm-11 1L8.5 8.5l.94-2.06 2.06-.94-2.06-.94L8.5 2.5l-.94 2.06-2.06.94zm10 10l.94 2.06.94-2.06 2.06-.94-2.06-.94-.94-2.06-.94 2.06-2.06.94z\"/><path d=\"M17.41 7.96l-1.37-1.37c-.4-.4-.92-.59-1.43-.59-.52 0-1.04.2-1.43.59L10.3 9.45l-7.72 7.72c-.78.78-.78 2.05 0 2.83L4 21.41c.39.39.9.59 1.41.59.51 0 1.02-.2 1.41-.59l7.78-7.78 2.81-2.81c.8-.78.8-2.07 0-2.86zM5.41 20L4 18.59l7.72-7.72 1.47 1.35L5.41 20z\"/>\n",
              "  </svg>\n",
              "      </button>\n",
              "      \n",
              "  <style>\n",
              "    .colab-df-container {\n",
              "      display:flex;\n",
              "      flex-wrap:wrap;\n",
              "      gap: 12px;\n",
              "    }\n",
              "\n",
              "    .colab-df-convert {\n",
              "      background-color: #E8F0FE;\n",
              "      border: none;\n",
              "      border-radius: 50%;\n",
              "      cursor: pointer;\n",
              "      display: none;\n",
              "      fill: #1967D2;\n",
              "      height: 32px;\n",
              "      padding: 0 0 0 0;\n",
              "      width: 32px;\n",
              "    }\n",
              "\n",
              "    .colab-df-convert:hover {\n",
              "      background-color: #E2EBFA;\n",
              "      box-shadow: 0px 1px 2px rgba(60, 64, 67, 0.3), 0px 1px 3px 1px rgba(60, 64, 67, 0.15);\n",
              "      fill: #174EA6;\n",
              "    }\n",
              "\n",
              "    [theme=dark] .colab-df-convert {\n",
              "      background-color: #3B4455;\n",
              "      fill: #D2E3FC;\n",
              "    }\n",
              "\n",
              "    [theme=dark] .colab-df-convert:hover {\n",
              "      background-color: #434B5C;\n",
              "      box-shadow: 0px 1px 3px 1px rgba(0, 0, 0, 0.15);\n",
              "      filter: drop-shadow(0px 1px 2px rgba(0, 0, 0, 0.3));\n",
              "      fill: #FFFFFF;\n",
              "    }\n",
              "  </style>\n",
              "\n",
              "      <script>\n",
              "        const buttonEl =\n",
              "          document.querySelector('#df-ffc5c169-9610-4dce-9f12-c96ffdb9d845 button.colab-df-convert');\n",
              "        buttonEl.style.display =\n",
              "          google.colab.kernel.accessAllowed ? 'block' : 'none';\n",
              "\n",
              "        async function convertToInteractive(key) {\n",
              "          const element = document.querySelector('#df-ffc5c169-9610-4dce-9f12-c96ffdb9d845');\n",
              "          const dataTable =\n",
              "            await google.colab.kernel.invokeFunction('convertToInteractive',\n",
              "                                                     [key], {});\n",
              "          if (!dataTable) return;\n",
              "\n",
              "          const docLinkHtml = 'Like what you see? Visit the ' +\n",
              "            '<a target=\"_blank\" href=https://colab.research.google.com/notebooks/data_table.ipynb>data table notebook</a>'\n",
              "            + ' to learn more about interactive tables.';\n",
              "          element.innerHTML = '';\n",
              "          dataTable['output_type'] = 'display_data';\n",
              "          await google.colab.output.renderOutput(dataTable, element);\n",
              "          const docLink = document.createElement('div');\n",
              "          docLink.innerHTML = docLinkHtml;\n",
              "          element.appendChild(docLink);\n",
              "        }\n",
              "      </script>\n",
              "    </div>\n",
              "  </div>\n",
              "  "
            ]
          },
          "metadata": {},
          "execution_count": 23
        }
      ]
    },
    {
      "cell_type": "code",
      "source": [],
      "metadata": {
        "id": "8--Q4Tj0Xr50"
      },
      "execution_count": null,
      "outputs": []
    },
    {
      "cell_type": "markdown",
      "source": [
        "### 從ajax網站抓取看不到資料\n",
        "\n",
        " "
      ],
      "metadata": {
        "id": "kI9lSzShW6p2"
      }
    },
    {
      "cell_type": "code",
      "source": [
        "url1 = \"https://victorgau.github.io/khpy_web_intro/spy_ajax.html\"  # ajax網頁"
      ],
      "metadata": {
        "id": "e8y9Mh4sWUFa"
      },
      "execution_count": 24,
      "outputs": []
    },
    {
      "cell_type": "code",
      "source": [
        "url2 = \"https://victorgau.github.io/khpy_web_intro/spy.json\"  # https://victorgau.github.io/khpy_web_intro/spy.json?_=1677897372538 << ?問號後數字代碼可減去"
      ],
      "metadata": {
        "id": "KQ6OuLjDhCgS"
      },
      "execution_count": 44,
      "outputs": []
    },
    {
      "cell_type": "code",
      "source": [
        "r1 = requests.get(url2)"
      ],
      "metadata": {
        "id": "Nhb_gm8-WZi6"
      },
      "execution_count": 39,
      "outputs": []
    },
    {
      "cell_type": "code",
      "source": [
        "print(r1.text)"
      ],
      "metadata": {
        "id": "tOfxnk0qWen_"
      },
      "execution_count": null,
      "outputs": []
    },
    {
      "cell_type": "code",
      "source": [
        "df1 = pd.read_html(url1)"
      ],
      "metadata": {
        "id": "DH9HBjYIWg2U"
      },
      "execution_count": 25,
      "outputs": []
    },
    {
      "cell_type": "code",
      "source": [
        "data2 = requests.get(url2).json()"
      ],
      "metadata": {
        "id": "WvuTMkDRhuOQ"
      },
      "execution_count": 47,
      "outputs": []
    },
    {
      "cell_type": "code",
      "source": [
        "data2"
      ],
      "metadata": {
        "colab": {
          "base_uri": "https://localhost:8080/"
        },
        "id": "KZ-13BQGh5mr",
        "outputId": "629b7f30-c707-405a-e37a-1216bd89dd90"
      },
      "execution_count": 48,
      "outputs": [
        {
          "output_type": "execute_result",
          "data": {
            "text/plain": [
              "[{'Date': '2021-07-26',\n",
              "  'Open': 439.309998,\n",
              "  'High': 441.029999,\n",
              "  'Low': 439.26001,\n",
              "  'Close': 441.019989,\n",
              "  'Adj Close': 441.019989,\n",
              "  'Volume': 43719200},\n",
              " {'Date': '2021-07-27',\n",
              "  'Open': 439.910004,\n",
              "  'High': 439.940002,\n",
              "  'Low': 435.98999,\n",
              "  'Close': 439.01001,\n",
              "  'Adj Close': 439.01001,\n",
              "  'Volume': 67397100},\n",
              " {'Date': '2021-07-28',\n",
              "  'Open': 439.679993,\n",
              "  'High': 440.299988,\n",
              "  'Low': 437.309998,\n",
              "  'Close': 438.829987,\n",
              "  'Adj Close': 438.829987,\n",
              "  'Volume': 52472400},\n",
              " {'Date': '2021-07-29',\n",
              "  'Open': 439.820007,\n",
              "  'High': 441.799988,\n",
              "  'Low': 439.809998,\n",
              "  'Close': 440.649994,\n",
              "  'Adj Close': 440.649994,\n",
              "  'Volume': 47435300},\n",
              " {'Date': '2021-07-30',\n",
              "  'Open': 437.910004,\n",
              "  'High': 440.059998,\n",
              "  'Low': 437.769989,\n",
              "  'Close': 438.51001,\n",
              "  'Adj Close': 438.51001,\n",
              "  'Volume': 68890600},\n",
              " {'Date': '2021-08-02',\n",
              "  'Open': 440.339996,\n",
              "  'High': 440.929993,\n",
              "  'Low': 437.209991,\n",
              "  'Close': 437.589996,\n",
              "  'Adj Close': 437.589996,\n",
              "  'Volume': 58783300},\n",
              " {'Date': '2021-08-03',\n",
              "  'Open': 438.440002,\n",
              "  'High': 441.279999,\n",
              "  'Low': 436.100006,\n",
              "  'Close': 441.149994,\n",
              "  'Adj Close': 441.149994,\n",
              "  'Volume': 58053900},\n",
              " {'Date': '2021-08-04',\n",
              "  'Open': 439.779999,\n",
              "  'High': 441.119995,\n",
              "  'Low': 438.730011,\n",
              "  'Close': 438.980011,\n",
              "  'Adj Close': 438.980011,\n",
              "  'Volume': 46732200},\n",
              " {'Date': '2021-08-05',\n",
              "  'Open': 440.220001,\n",
              "  'High': 441.850006,\n",
              "  'Low': 439.880005,\n",
              "  'Close': 441.76001,\n",
              "  'Adj Close': 441.76001,\n",
              "  'Volume': 38969700},\n",
              " {'Date': '2021-08-06',\n",
              "  'Open': 442.100006,\n",
              "  'High': 442.940002,\n",
              "  'Low': 441.799988,\n",
              "  'Close': 442.48999,\n",
              "  'Adj Close': 442.48999,\n",
              "  'Volume': 46864100}]"
            ]
          },
          "metadata": {},
          "execution_count": 48
        }
      ]
    },
    {
      "cell_type": "code",
      "source": [
        "df2 = pd.read_json(url2)"
      ],
      "metadata": {
        "id": "e5nQIvr4hS8L"
      },
      "execution_count": 45,
      "outputs": []
    },
    {
      "cell_type": "code",
      "source": [
        "df2"
      ],
      "metadata": {
        "colab": {
          "base_uri": "https://localhost:8080/",
          "height": 363
        },
        "id": "VsNBWauNhZuG",
        "outputId": "d47706a9-8289-4b8b-8af0-5851b2f087f2"
      },
      "execution_count": 46,
      "outputs": [
        {
          "output_type": "execute_result",
          "data": {
            "text/plain": [
              "        Date        Open        High         Low       Close   Adj Close  \\\n",
              "0 2021-07-26  439.309998  441.029999  439.260010  441.019989  441.019989   \n",
              "1 2021-07-27  439.910004  439.940002  435.989990  439.010010  439.010010   \n",
              "2 2021-07-28  439.679993  440.299988  437.309998  438.829987  438.829987   \n",
              "3 2021-07-29  439.820007  441.799988  439.809998  440.649994  440.649994   \n",
              "4 2021-07-30  437.910004  440.059998  437.769989  438.510010  438.510010   \n",
              "5 2021-08-02  440.339996  440.929993  437.209991  437.589996  437.589996   \n",
              "6 2021-08-03  438.440002  441.279999  436.100006  441.149994  441.149994   \n",
              "7 2021-08-04  439.779999  441.119995  438.730011  438.980011  438.980011   \n",
              "8 2021-08-05  440.220001  441.850006  439.880005  441.760010  441.760010   \n",
              "9 2021-08-06  442.100006  442.940002  441.799988  442.489990  442.489990   \n",
              "\n",
              "     Volume  \n",
              "0  43719200  \n",
              "1  67397100  \n",
              "2  52472400  \n",
              "3  47435300  \n",
              "4  68890600  \n",
              "5  58783300  \n",
              "6  58053900  \n",
              "7  46732200  \n",
              "8  38969700  \n",
              "9  46864100  "
            ],
            "text/html": [
              "\n",
              "  <div id=\"df-bce2ea9c-fc61-4675-ba3f-086a7ba0d001\">\n",
              "    <div class=\"colab-df-container\">\n",
              "      <div>\n",
              "<style scoped>\n",
              "    .dataframe tbody tr th:only-of-type {\n",
              "        vertical-align: middle;\n",
              "    }\n",
              "\n",
              "    .dataframe tbody tr th {\n",
              "        vertical-align: top;\n",
              "    }\n",
              "\n",
              "    .dataframe thead th {\n",
              "        text-align: right;\n",
              "    }\n",
              "</style>\n",
              "<table border=\"1\" class=\"dataframe\">\n",
              "  <thead>\n",
              "    <tr style=\"text-align: right;\">\n",
              "      <th></th>\n",
              "      <th>Date</th>\n",
              "      <th>Open</th>\n",
              "      <th>High</th>\n",
              "      <th>Low</th>\n",
              "      <th>Close</th>\n",
              "      <th>Adj Close</th>\n",
              "      <th>Volume</th>\n",
              "    </tr>\n",
              "  </thead>\n",
              "  <tbody>\n",
              "    <tr>\n",
              "      <th>0</th>\n",
              "      <td>2021-07-26</td>\n",
              "      <td>439.309998</td>\n",
              "      <td>441.029999</td>\n",
              "      <td>439.260010</td>\n",
              "      <td>441.019989</td>\n",
              "      <td>441.019989</td>\n",
              "      <td>43719200</td>\n",
              "    </tr>\n",
              "    <tr>\n",
              "      <th>1</th>\n",
              "      <td>2021-07-27</td>\n",
              "      <td>439.910004</td>\n",
              "      <td>439.940002</td>\n",
              "      <td>435.989990</td>\n",
              "      <td>439.010010</td>\n",
              "      <td>439.010010</td>\n",
              "      <td>67397100</td>\n",
              "    </tr>\n",
              "    <tr>\n",
              "      <th>2</th>\n",
              "      <td>2021-07-28</td>\n",
              "      <td>439.679993</td>\n",
              "      <td>440.299988</td>\n",
              "      <td>437.309998</td>\n",
              "      <td>438.829987</td>\n",
              "      <td>438.829987</td>\n",
              "      <td>52472400</td>\n",
              "    </tr>\n",
              "    <tr>\n",
              "      <th>3</th>\n",
              "      <td>2021-07-29</td>\n",
              "      <td>439.820007</td>\n",
              "      <td>441.799988</td>\n",
              "      <td>439.809998</td>\n",
              "      <td>440.649994</td>\n",
              "      <td>440.649994</td>\n",
              "      <td>47435300</td>\n",
              "    </tr>\n",
              "    <tr>\n",
              "      <th>4</th>\n",
              "      <td>2021-07-30</td>\n",
              "      <td>437.910004</td>\n",
              "      <td>440.059998</td>\n",
              "      <td>437.769989</td>\n",
              "      <td>438.510010</td>\n",
              "      <td>438.510010</td>\n",
              "      <td>68890600</td>\n",
              "    </tr>\n",
              "    <tr>\n",
              "      <th>5</th>\n",
              "      <td>2021-08-02</td>\n",
              "      <td>440.339996</td>\n",
              "      <td>440.929993</td>\n",
              "      <td>437.209991</td>\n",
              "      <td>437.589996</td>\n",
              "      <td>437.589996</td>\n",
              "      <td>58783300</td>\n",
              "    </tr>\n",
              "    <tr>\n",
              "      <th>6</th>\n",
              "      <td>2021-08-03</td>\n",
              "      <td>438.440002</td>\n",
              "      <td>441.279999</td>\n",
              "      <td>436.100006</td>\n",
              "      <td>441.149994</td>\n",
              "      <td>441.149994</td>\n",
              "      <td>58053900</td>\n",
              "    </tr>\n",
              "    <tr>\n",
              "      <th>7</th>\n",
              "      <td>2021-08-04</td>\n",
              "      <td>439.779999</td>\n",
              "      <td>441.119995</td>\n",
              "      <td>438.730011</td>\n",
              "      <td>438.980011</td>\n",
              "      <td>438.980011</td>\n",
              "      <td>46732200</td>\n",
              "    </tr>\n",
              "    <tr>\n",
              "      <th>8</th>\n",
              "      <td>2021-08-05</td>\n",
              "      <td>440.220001</td>\n",
              "      <td>441.850006</td>\n",
              "      <td>439.880005</td>\n",
              "      <td>441.760010</td>\n",
              "      <td>441.760010</td>\n",
              "      <td>38969700</td>\n",
              "    </tr>\n",
              "    <tr>\n",
              "      <th>9</th>\n",
              "      <td>2021-08-06</td>\n",
              "      <td>442.100006</td>\n",
              "      <td>442.940002</td>\n",
              "      <td>441.799988</td>\n",
              "      <td>442.489990</td>\n",
              "      <td>442.489990</td>\n",
              "      <td>46864100</td>\n",
              "    </tr>\n",
              "  </tbody>\n",
              "</table>\n",
              "</div>\n",
              "      <button class=\"colab-df-convert\" onclick=\"convertToInteractive('df-bce2ea9c-fc61-4675-ba3f-086a7ba0d001')\"\n",
              "              title=\"Convert this dataframe to an interactive table.\"\n",
              "              style=\"display:none;\">\n",
              "        \n",
              "  <svg xmlns=\"http://www.w3.org/2000/svg\" height=\"24px\"viewBox=\"0 0 24 24\"\n",
              "       width=\"24px\">\n",
              "    <path d=\"M0 0h24v24H0V0z\" fill=\"none\"/>\n",
              "    <path d=\"M18.56 5.44l.94 2.06.94-2.06 2.06-.94-2.06-.94-.94-2.06-.94 2.06-2.06.94zm-11 1L8.5 8.5l.94-2.06 2.06-.94-2.06-.94L8.5 2.5l-.94 2.06-2.06.94zm10 10l.94 2.06.94-2.06 2.06-.94-2.06-.94-.94-2.06-.94 2.06-2.06.94z\"/><path d=\"M17.41 7.96l-1.37-1.37c-.4-.4-.92-.59-1.43-.59-.52 0-1.04.2-1.43.59L10.3 9.45l-7.72 7.72c-.78.78-.78 2.05 0 2.83L4 21.41c.39.39.9.59 1.41.59.51 0 1.02-.2 1.41-.59l7.78-7.78 2.81-2.81c.8-.78.8-2.07 0-2.86zM5.41 20L4 18.59l7.72-7.72 1.47 1.35L5.41 20z\"/>\n",
              "  </svg>\n",
              "      </button>\n",
              "      \n",
              "  <style>\n",
              "    .colab-df-container {\n",
              "      display:flex;\n",
              "      flex-wrap:wrap;\n",
              "      gap: 12px;\n",
              "    }\n",
              "\n",
              "    .colab-df-convert {\n",
              "      background-color: #E8F0FE;\n",
              "      border: none;\n",
              "      border-radius: 50%;\n",
              "      cursor: pointer;\n",
              "      display: none;\n",
              "      fill: #1967D2;\n",
              "      height: 32px;\n",
              "      padding: 0 0 0 0;\n",
              "      width: 32px;\n",
              "    }\n",
              "\n",
              "    .colab-df-convert:hover {\n",
              "      background-color: #E2EBFA;\n",
              "      box-shadow: 0px 1px 2px rgba(60, 64, 67, 0.3), 0px 1px 3px 1px rgba(60, 64, 67, 0.15);\n",
              "      fill: #174EA6;\n",
              "    }\n",
              "\n",
              "    [theme=dark] .colab-df-convert {\n",
              "      background-color: #3B4455;\n",
              "      fill: #D2E3FC;\n",
              "    }\n",
              "\n",
              "    [theme=dark] .colab-df-convert:hover {\n",
              "      background-color: #434B5C;\n",
              "      box-shadow: 0px 1px 3px 1px rgba(0, 0, 0, 0.15);\n",
              "      filter: drop-shadow(0px 1px 2px rgba(0, 0, 0, 0.3));\n",
              "      fill: #FFFFFF;\n",
              "    }\n",
              "  </style>\n",
              "\n",
              "      <script>\n",
              "        const buttonEl =\n",
              "          document.querySelector('#df-bce2ea9c-fc61-4675-ba3f-086a7ba0d001 button.colab-df-convert');\n",
              "        buttonEl.style.display =\n",
              "          google.colab.kernel.accessAllowed ? 'block' : 'none';\n",
              "\n",
              "        async function convertToInteractive(key) {\n",
              "          const element = document.querySelector('#df-bce2ea9c-fc61-4675-ba3f-086a7ba0d001');\n",
              "          const dataTable =\n",
              "            await google.colab.kernel.invokeFunction('convertToInteractive',\n",
              "                                                     [key], {});\n",
              "          if (!dataTable) return;\n",
              "\n",
              "          const docLinkHtml = 'Like what you see? Visit the ' +\n",
              "            '<a target=\"_blank\" href=https://colab.research.google.com/notebooks/data_table.ipynb>data table notebook</a>'\n",
              "            + ' to learn more about interactive tables.';\n",
              "          element.innerHTML = '';\n",
              "          dataTable['output_type'] = 'display_data';\n",
              "          await google.colab.output.renderOutput(dataTable, element);\n",
              "          const docLink = document.createElement('div');\n",
              "          docLink.innerHTML = docLinkHtml;\n",
              "          element.appendChild(docLink);\n",
              "        }\n",
              "      </script>\n",
              "    </div>\n",
              "  </div>\n",
              "  "
            ]
          },
          "metadata": {},
          "execution_count": 46
        }
      ]
    },
    {
      "cell_type": "code",
      "source": [
        "len(df1)"
      ],
      "metadata": {
        "colab": {
          "base_uri": "https://localhost:8080/"
        },
        "id": "li1KqKk1auNL",
        "outputId": "723a1daf-2210-49d9-cd8a-cfd8499b3f30"
      },
      "execution_count": 29,
      "outputs": [
        {
          "output_type": "execute_result",
          "data": {
            "text/plain": [
              "1"
            ]
          },
          "metadata": {},
          "execution_count": 29
        }
      ]
    },
    {
      "cell_type": "code",
      "source": [
        "df1"
      ],
      "metadata": {
        "colab": {
          "base_uri": "https://localhost:8080/"
        },
        "id": "jSNAP_5NX_uN",
        "outputId": "21651817-f949-4d88-9f61-88d820180dae"
      },
      "execution_count": 28,
      "outputs": [
        {
          "output_type": "execute_result",
          "data": {
            "text/plain": [
              "[Empty DataFrame\n",
              " Columns: [(Unnamed: 0_level_0, Date), (Open, Unnamed: 1_level_1), (High, Unnamed: 2_level_1), (Low, Unnamed: 3_level_1), (Close, Unnamed: 4_level_1), (Adj Close, Unnamed: 5_level_1), (Volume, Unnamed: 6_level_1)]\n",
              " Index: []]"
            ]
          },
          "metadata": {},
          "execution_count": 28
        }
      ]
    },
    {
      "cell_type": "code",
      "source": [],
      "metadata": {
        "id": "ibynDK7cYBVN"
      },
      "execution_count": null,
      "outputs": []
    },
    {
      "cell_type": "markdown",
      "source": [
        "## 關於Pandas的read_html()\n",
        "\n"
      ],
      "metadata": {
        "id": "eH0sAO38dKGM"
      }
    },
    {
      "cell_type": "code",
      "source": [
        "url = \"https://en.wikipedia.org/wiki/List_of_S%26P_500_companies\""
      ],
      "metadata": {
        "id": "AaDo4xuUdoxL"
      },
      "execution_count": 35,
      "outputs": []
    },
    {
      "cell_type": "code",
      "source": [
        "dfs = pd.read_html(url)"
      ],
      "metadata": {
        "id": "P8tMKEgddpgm"
      },
      "execution_count": 36,
      "outputs": []
    },
    {
      "cell_type": "code",
      "source": [
        "dfs[0]"
      ],
      "metadata": {
        "colab": {
          "base_uri": "https://localhost:8080/",
          "height": 423
        },
        "id": "jYkfWvkcduex",
        "outputId": "8633b1e0-b7d5-44a2-f492-6cc13aaaf1da"
      },
      "execution_count": 37,
      "outputs": [
        {
          "output_type": "execute_result",
          "data": {
            "text/plain": [
              "    Symbol              Security             GICS Sector  \\\n",
              "0      MMM                    3M             Industrials   \n",
              "1      AOS           A. O. Smith             Industrials   \n",
              "2      ABT                Abbott             Health Care   \n",
              "3     ABBV                AbbVie             Health Care   \n",
              "4      ACN             Accenture  Information Technology   \n",
              "..     ...                   ...                     ...   \n",
              "498    YUM           Yum! Brands  Consumer Discretionary   \n",
              "499   ZBRA    Zebra Technologies  Information Technology   \n",
              "500    ZBH         Zimmer Biomet             Health Care   \n",
              "501   ZION  Zions Bancorporation              Financials   \n",
              "502    ZTS                Zoetis             Health Care   \n",
              "\n",
              "                      GICS Sub-Industry    Headquarters Location  Date added  \\\n",
              "0              Industrial Conglomerates    Saint Paul, Minnesota  1957-03-04   \n",
              "1                     Building Products     Milwaukee, Wisconsin  2017-07-26   \n",
              "2                 Health Care Equipment  North Chicago, Illinois  1957-03-04   \n",
              "3                       Pharmaceuticals  North Chicago, Illinois  2012-12-31   \n",
              "4        IT Consulting & Other Services          Dublin, Ireland  2011-07-06   \n",
              "..                                  ...                      ...         ...   \n",
              "498                         Restaurants     Louisville, Kentucky  1997-10-06   \n",
              "499  Electronic Equipment & Instruments   Lincolnshire, Illinois  2019-12-23   \n",
              "500               Health Care Equipment          Warsaw, Indiana  2001-08-07   \n",
              "501                      Regional Banks     Salt Lake City, Utah  2001-06-22   \n",
              "502                     Pharmaceuticals   Parsippany, New Jersey  2013-06-21   \n",
              "\n",
              "         CIK      Founded  \n",
              "0      66740         1902  \n",
              "1      91142         1916  \n",
              "2       1800         1888  \n",
              "3    1551152  2013 (1888)  \n",
              "4    1467373         1989  \n",
              "..       ...          ...  \n",
              "498  1041061         1997  \n",
              "499   877212         1969  \n",
              "500  1136869         1927  \n",
              "501   109380         1873  \n",
              "502  1555280         1952  \n",
              "\n",
              "[503 rows x 8 columns]"
            ],
            "text/html": [
              "\n",
              "  <div id=\"df-be7e4acd-b714-4df7-83ad-ec6d644459e9\">\n",
              "    <div class=\"colab-df-container\">\n",
              "      <div>\n",
              "<style scoped>\n",
              "    .dataframe tbody tr th:only-of-type {\n",
              "        vertical-align: middle;\n",
              "    }\n",
              "\n",
              "    .dataframe tbody tr th {\n",
              "        vertical-align: top;\n",
              "    }\n",
              "\n",
              "    .dataframe thead th {\n",
              "        text-align: right;\n",
              "    }\n",
              "</style>\n",
              "<table border=\"1\" class=\"dataframe\">\n",
              "  <thead>\n",
              "    <tr style=\"text-align: right;\">\n",
              "      <th></th>\n",
              "      <th>Symbol</th>\n",
              "      <th>Security</th>\n",
              "      <th>GICS Sector</th>\n",
              "      <th>GICS Sub-Industry</th>\n",
              "      <th>Headquarters Location</th>\n",
              "      <th>Date added</th>\n",
              "      <th>CIK</th>\n",
              "      <th>Founded</th>\n",
              "    </tr>\n",
              "  </thead>\n",
              "  <tbody>\n",
              "    <tr>\n",
              "      <th>0</th>\n",
              "      <td>MMM</td>\n",
              "      <td>3M</td>\n",
              "      <td>Industrials</td>\n",
              "      <td>Industrial Conglomerates</td>\n",
              "      <td>Saint Paul, Minnesota</td>\n",
              "      <td>1957-03-04</td>\n",
              "      <td>66740</td>\n",
              "      <td>1902</td>\n",
              "    </tr>\n",
              "    <tr>\n",
              "      <th>1</th>\n",
              "      <td>AOS</td>\n",
              "      <td>A. O. Smith</td>\n",
              "      <td>Industrials</td>\n",
              "      <td>Building Products</td>\n",
              "      <td>Milwaukee, Wisconsin</td>\n",
              "      <td>2017-07-26</td>\n",
              "      <td>91142</td>\n",
              "      <td>1916</td>\n",
              "    </tr>\n",
              "    <tr>\n",
              "      <th>2</th>\n",
              "      <td>ABT</td>\n",
              "      <td>Abbott</td>\n",
              "      <td>Health Care</td>\n",
              "      <td>Health Care Equipment</td>\n",
              "      <td>North Chicago, Illinois</td>\n",
              "      <td>1957-03-04</td>\n",
              "      <td>1800</td>\n",
              "      <td>1888</td>\n",
              "    </tr>\n",
              "    <tr>\n",
              "      <th>3</th>\n",
              "      <td>ABBV</td>\n",
              "      <td>AbbVie</td>\n",
              "      <td>Health Care</td>\n",
              "      <td>Pharmaceuticals</td>\n",
              "      <td>North Chicago, Illinois</td>\n",
              "      <td>2012-12-31</td>\n",
              "      <td>1551152</td>\n",
              "      <td>2013 (1888)</td>\n",
              "    </tr>\n",
              "    <tr>\n",
              "      <th>4</th>\n",
              "      <td>ACN</td>\n",
              "      <td>Accenture</td>\n",
              "      <td>Information Technology</td>\n",
              "      <td>IT Consulting &amp; Other Services</td>\n",
              "      <td>Dublin, Ireland</td>\n",
              "      <td>2011-07-06</td>\n",
              "      <td>1467373</td>\n",
              "      <td>1989</td>\n",
              "    </tr>\n",
              "    <tr>\n",
              "      <th>...</th>\n",
              "      <td>...</td>\n",
              "      <td>...</td>\n",
              "      <td>...</td>\n",
              "      <td>...</td>\n",
              "      <td>...</td>\n",
              "      <td>...</td>\n",
              "      <td>...</td>\n",
              "      <td>...</td>\n",
              "    </tr>\n",
              "    <tr>\n",
              "      <th>498</th>\n",
              "      <td>YUM</td>\n",
              "      <td>Yum! Brands</td>\n",
              "      <td>Consumer Discretionary</td>\n",
              "      <td>Restaurants</td>\n",
              "      <td>Louisville, Kentucky</td>\n",
              "      <td>1997-10-06</td>\n",
              "      <td>1041061</td>\n",
              "      <td>1997</td>\n",
              "    </tr>\n",
              "    <tr>\n",
              "      <th>499</th>\n",
              "      <td>ZBRA</td>\n",
              "      <td>Zebra Technologies</td>\n",
              "      <td>Information Technology</td>\n",
              "      <td>Electronic Equipment &amp; Instruments</td>\n",
              "      <td>Lincolnshire, Illinois</td>\n",
              "      <td>2019-12-23</td>\n",
              "      <td>877212</td>\n",
              "      <td>1969</td>\n",
              "    </tr>\n",
              "    <tr>\n",
              "      <th>500</th>\n",
              "      <td>ZBH</td>\n",
              "      <td>Zimmer Biomet</td>\n",
              "      <td>Health Care</td>\n",
              "      <td>Health Care Equipment</td>\n",
              "      <td>Warsaw, Indiana</td>\n",
              "      <td>2001-08-07</td>\n",
              "      <td>1136869</td>\n",
              "      <td>1927</td>\n",
              "    </tr>\n",
              "    <tr>\n",
              "      <th>501</th>\n",
              "      <td>ZION</td>\n",
              "      <td>Zions Bancorporation</td>\n",
              "      <td>Financials</td>\n",
              "      <td>Regional Banks</td>\n",
              "      <td>Salt Lake City, Utah</td>\n",
              "      <td>2001-06-22</td>\n",
              "      <td>109380</td>\n",
              "      <td>1873</td>\n",
              "    </tr>\n",
              "    <tr>\n",
              "      <th>502</th>\n",
              "      <td>ZTS</td>\n",
              "      <td>Zoetis</td>\n",
              "      <td>Health Care</td>\n",
              "      <td>Pharmaceuticals</td>\n",
              "      <td>Parsippany, New Jersey</td>\n",
              "      <td>2013-06-21</td>\n",
              "      <td>1555280</td>\n",
              "      <td>1952</td>\n",
              "    </tr>\n",
              "  </tbody>\n",
              "</table>\n",
              "<p>503 rows × 8 columns</p>\n",
              "</div>\n",
              "      <button class=\"colab-df-convert\" onclick=\"convertToInteractive('df-be7e4acd-b714-4df7-83ad-ec6d644459e9')\"\n",
              "              title=\"Convert this dataframe to an interactive table.\"\n",
              "              style=\"display:none;\">\n",
              "        \n",
              "  <svg xmlns=\"http://www.w3.org/2000/svg\" height=\"24px\"viewBox=\"0 0 24 24\"\n",
              "       width=\"24px\">\n",
              "    <path d=\"M0 0h24v24H0V0z\" fill=\"none\"/>\n",
              "    <path d=\"M18.56 5.44l.94 2.06.94-2.06 2.06-.94-2.06-.94-.94-2.06-.94 2.06-2.06.94zm-11 1L8.5 8.5l.94-2.06 2.06-.94-2.06-.94L8.5 2.5l-.94 2.06-2.06.94zm10 10l.94 2.06.94-2.06 2.06-.94-2.06-.94-.94-2.06-.94 2.06-2.06.94z\"/><path d=\"M17.41 7.96l-1.37-1.37c-.4-.4-.92-.59-1.43-.59-.52 0-1.04.2-1.43.59L10.3 9.45l-7.72 7.72c-.78.78-.78 2.05 0 2.83L4 21.41c.39.39.9.59 1.41.59.51 0 1.02-.2 1.41-.59l7.78-7.78 2.81-2.81c.8-.78.8-2.07 0-2.86zM5.41 20L4 18.59l7.72-7.72 1.47 1.35L5.41 20z\"/>\n",
              "  </svg>\n",
              "      </button>\n",
              "      \n",
              "  <style>\n",
              "    .colab-df-container {\n",
              "      display:flex;\n",
              "      flex-wrap:wrap;\n",
              "      gap: 12px;\n",
              "    }\n",
              "\n",
              "    .colab-df-convert {\n",
              "      background-color: #E8F0FE;\n",
              "      border: none;\n",
              "      border-radius: 50%;\n",
              "      cursor: pointer;\n",
              "      display: none;\n",
              "      fill: #1967D2;\n",
              "      height: 32px;\n",
              "      padding: 0 0 0 0;\n",
              "      width: 32px;\n",
              "    }\n",
              "\n",
              "    .colab-df-convert:hover {\n",
              "      background-color: #E2EBFA;\n",
              "      box-shadow: 0px 1px 2px rgba(60, 64, 67, 0.3), 0px 1px 3px 1px rgba(60, 64, 67, 0.15);\n",
              "      fill: #174EA6;\n",
              "    }\n",
              "\n",
              "    [theme=dark] .colab-df-convert {\n",
              "      background-color: #3B4455;\n",
              "      fill: #D2E3FC;\n",
              "    }\n",
              "\n",
              "    [theme=dark] .colab-df-convert:hover {\n",
              "      background-color: #434B5C;\n",
              "      box-shadow: 0px 1px 3px 1px rgba(0, 0, 0, 0.15);\n",
              "      filter: drop-shadow(0px 1px 2px rgba(0, 0, 0, 0.3));\n",
              "      fill: #FFFFFF;\n",
              "    }\n",
              "  </style>\n",
              "\n",
              "      <script>\n",
              "        const buttonEl =\n",
              "          document.querySelector('#df-be7e4acd-b714-4df7-83ad-ec6d644459e9 button.colab-df-convert');\n",
              "        buttonEl.style.display =\n",
              "          google.colab.kernel.accessAllowed ? 'block' : 'none';\n",
              "\n",
              "        async function convertToInteractive(key) {\n",
              "          const element = document.querySelector('#df-be7e4acd-b714-4df7-83ad-ec6d644459e9');\n",
              "          const dataTable =\n",
              "            await google.colab.kernel.invokeFunction('convertToInteractive',\n",
              "                                                     [key], {});\n",
              "          if (!dataTable) return;\n",
              "\n",
              "          const docLinkHtml = 'Like what you see? Visit the ' +\n",
              "            '<a target=\"_blank\" href=https://colab.research.google.com/notebooks/data_table.ipynb>data table notebook</a>'\n",
              "            + ' to learn more about interactive tables.';\n",
              "          element.innerHTML = '';\n",
              "          dataTable['output_type'] = 'display_data';\n",
              "          await google.colab.output.renderOutput(dataTable, element);\n",
              "          const docLink = document.createElement('div');\n",
              "          docLink.innerHTML = docLinkHtml;\n",
              "          element.appendChild(docLink);\n",
              "        }\n",
              "      </script>\n",
              "    </div>\n",
              "  </div>\n",
              "  "
            ]
          },
          "metadata": {},
          "execution_count": 37
        }
      ]
    },
    {
      "cell_type": "markdown",
      "source": [
        "# 剖析網頁原始碼\n"
      ],
      "metadata": {
        "id": "tXDDuYXOjKuI"
      }
    },
    {
      "cell_type": "code",
      "source": [
        "s = \"\"\"\n",
        "<!DOCTYPE html>\n",
        "<html>\n",
        "<head>\n",
        "    <!-- Required meta tags -->\n",
        "    <meta charset=\"utf-8\">\n",
        "    <meta name=\"viewport\" content=\"width=device-width, initial-scale=1, shrink-to-fit=no\">\n",
        "\n",
        "    <!-- Bootstrap CSS -->\n",
        "    <link rel=\"stylesheet\" href=\"https://maxcdn.bootstrapcdn.com/bootstrap/4.0.0/css/bootstrap.min.css\" integrity=\"sha384-Gn5384xqQ1aoWXA+058RXPxPg6fy4IWvTNh0E263XmFcJlSAwiGgFAW/dAiS6JXm\" crossorigin=\"anonymous\">\n",
        "    <link rel=\"stylesheet\" href=\"https://cdn.jsdelivr.net/npm/bootstrap-icons@1.5.0/font/bootstrap-icons.css\">\n",
        "    <title>範例索引</title>\n",
        "</head>\n",
        "<body>\n",
        "    <div class=\"container\">\n",
        "        <div class=\"row my-5\">\n",
        "            <div class=\"col\">\n",
        "                <h1 class=\"bg-warning p-3 rounded\">Web及爬蟲簡介課程範例</h1>\n",
        "\n",
        "                <ul class=\"list-group\">\n",
        "                    <li class=\"list-group-item\"><i class=\"bi bi-globe\"></i> <a href=\"html_only.html\">HTML 範例</a></li>\n",
        "                    <li class=\"list-group-item\"><i class=\"bi bi-globe\"></i> <a href=\"html_css.html\">HTML + CSS 範例</a></li>\n",
        "                    <li class=\"list-group-item\"><i class=\"bi bi-globe\"></i> <a href=\"html_css_javascript.html\">HTML + CSS + Javascript 範例</a></li>\n",
        "                    <li class=\"list-group-item\"><i class=\"bi bi-bug\"></i> <a href=\"example01.html\">example01.html (爬蟲抓取用範例)</a></li>\n",
        "                    <li class=\"list-group-item\"><i class=\"bi bi-bug\"></i> <a href=\"example02.html\">example02.html (爬蟲抓取用範例)</a></li>\n",
        "                    <li class=\"list-group-item\"><i class=\"bi bi-bug\"></i> <a href=\"example03.html\">example03.html (爬蟲抓取用範例)</a></li>\n",
        "                    <li class=\"list-group-item\"><i class=\"bi bi-bug\"></i> <a href=\"example04.html\">example04.html (爬蟲抓取用範例)</a></li>\n",
        "                    <li class=\"list-group-item\"><i class=\"bi bi-bug\"></i> <a href=\"example05.html\">example05.html (爬蟲抓取用範例)</a></li>\n",
        "                    <li class=\"list-group-item\"><i class=\"bi bi-bug\"></i> <a href=\"spy.html\">Classic HTML 範例 (爬蟲抓取用範例)</a></li>\n",
        "                    <li class=\"list-group-item\"><i class=\"bi bi-bug\"></i> <a href=\"spy_ajax.html\">Ajax 範例 (爬蟲抓取用範例)</a></li>\n",
        "                    <li class=\"list-group-item\"><i class=\"bi bi-bug\"></i> <a href=\"form_get.html\">HTTP GET 方法說明</a></li>\n",
        "                    <li class=\"list-group-item\"><i class=\"bi bi-bug\"></i> <a href=\"form_post.html\">HTTP POST 方法說明</a></li>\n",
        "                </ul>         \n",
        "            </div>\n",
        "    \n",
        "        </div>\n",
        "    </div>\n",
        "\n",
        "<!-- Optional JavaScript -->\n",
        "<!-- jQuery first, then Popper.js, then Bootstrap JS -->\n",
        "<script src=\"https://code.jquery.com/jquery-3.2.1.slim.min.js\" integrity=\"sha384-KJ3o2DKtIkvYIK3UENzmM7KCkRr/rE9/Qpg6aAZGJwFDMVNA/GpGFF93hXpG5KkN\" crossorigin=\"anonymous\"></script>\n",
        "<script src=\"https://cdnjs.cloudflare.com/ajax/libs/popper.js/1.12.9/umd/popper.min.js\" integrity=\"sha384-ApNbgh9B+Y1QKtv3Rn7W3mgPxhU9K/ScQsAP7hUibX39j7fakFPskvXusvfa0b4Q\" crossorigin=\"anonymous\"></script>\n",
        "<script src=\"https://maxcdn.bootstrapcdn.com/bootstrap/4.0.0/js/bootstrap.min.js\" integrity=\"sha384-JZR6Spejh4U02d8jOt6vLEHfe/JQGiRRSQQxSfFWpi1MquVdAyjUar5+76PVCmYl\" crossorigin=\"anonymous\"></script>\n",
        "\n",
        "</body>\n",
        "</html>\n",
        "\"\"\""
      ],
      "metadata": {
        "id": "DLlQMHhXdwck"
      },
      "execution_count": 49,
      "outputs": []
    },
    {
      "cell_type": "code",
      "source": [
        "type(s)"
      ],
      "metadata": {
        "colab": {
          "base_uri": "https://localhost:8080/"
        },
        "id": "UgMl-XZujyvH",
        "outputId": "18c16fa4-acb5-4bdd-878e-d08135a8875b"
      },
      "execution_count": 50,
      "outputs": [
        {
          "output_type": "execute_result",
          "data": {
            "text/plain": [
              "str"
            ]
          },
          "metadata": {},
          "execution_count": 50
        }
      ]
    },
    {
      "cell_type": "code",
      "source": [
        "from bs4 import BeautifulSoup"
      ],
      "metadata": {
        "id": "PAUkD27qj80E"
      },
      "execution_count": 51,
      "outputs": []
    },
    {
      "cell_type": "code",
      "source": [
        "soup = BeautifulSoup(s)"
      ],
      "metadata": {
        "id": "SqqQrvcUkCvI"
      },
      "execution_count": 52,
      "outputs": []
    },
    {
      "cell_type": "code",
      "source": [
        "soup.h1"
      ],
      "metadata": {
        "colab": {
          "base_uri": "https://localhost:8080/"
        },
        "id": "ZKwyy7W9kOxV",
        "outputId": "5785ffab-1c47-475f-8119-604cec01eda8"
      },
      "execution_count": 53,
      "outputs": [
        {
          "output_type": "execute_result",
          "data": {
            "text/plain": [
              "<h1 class=\"bg-warning p-3 rounded\">Web及爬蟲簡介課程範例</h1>"
            ]
          },
          "metadata": {},
          "execution_count": 53
        }
      ]
    },
    {
      "cell_type": "code",
      "source": [
        "soup.h1.text"
      ],
      "metadata": {
        "colab": {
          "base_uri": "https://localhost:8080/",
          "height": 36
        },
        "id": "LXncP36ekR2P",
        "outputId": "4000f481-aabb-46b1-a418-81fef391267b"
      },
      "execution_count": 54,
      "outputs": [
        {
          "output_type": "execute_result",
          "data": {
            "text/plain": [
              "'Web及爬蟲簡介課程範例'"
            ],
            "application/vnd.google.colaboratory.intrinsic+json": {
              "type": "string"
            }
          },
          "metadata": {},
          "execution_count": 54
        }
      ]
    },
    {
      "cell_type": "code",
      "source": [
        "soup.li"
      ],
      "metadata": {
        "colab": {
          "base_uri": "https://localhost:8080/"
        },
        "id": "8AhrfY_KkUFL",
        "outputId": "6037d353-38e3-4fb1-e642-ed80c88af126"
      },
      "execution_count": 55,
      "outputs": [
        {
          "output_type": "execute_result",
          "data": {
            "text/plain": [
              "<li class=\"list-group-item\"><i class=\"bi bi-globe\"></i> <a href=\"html_only.html\">HTML 範例</a></li>"
            ]
          },
          "metadata": {},
          "execution_count": 55
        }
      ]
    },
    {
      "cell_type": "code",
      "source": [
        "soup.select(\"li\")"
      ],
      "metadata": {
        "colab": {
          "base_uri": "https://localhost:8080/"
        },
        "id": "Bc_eeLnQkeTI",
        "outputId": "ff519764-6e4a-4e6d-a34c-61f019d02f33"
      },
      "execution_count": 61,
      "outputs": [
        {
          "output_type": "execute_result",
          "data": {
            "text/plain": [
              "[<li class=\"list-group-item\"><i class=\"bi bi-globe\"></i> <a href=\"html_only.html\">HTML 範例</a></li>,\n",
              " <li class=\"list-group-item\"><i class=\"bi bi-globe\"></i> <a href=\"html_css.html\">HTML + CSS 範例</a></li>,\n",
              " <li class=\"list-group-item\"><i class=\"bi bi-globe\"></i> <a href=\"html_css_javascript.html\">HTML + CSS + Javascript 範例</a></li>,\n",
              " <li class=\"list-group-item\"><i class=\"bi bi-bug\"></i> <a href=\"example01.html\">example01.html (爬蟲抓取用範例)</a></li>,\n",
              " <li class=\"list-group-item\"><i class=\"bi bi-bug\"></i> <a href=\"example02.html\">example02.html (爬蟲抓取用範例)</a></li>,\n",
              " <li class=\"list-group-item\"><i class=\"bi bi-bug\"></i> <a href=\"example03.html\">example03.html (爬蟲抓取用範例)</a></li>,\n",
              " <li class=\"list-group-item\"><i class=\"bi bi-bug\"></i> <a href=\"example04.html\">example04.html (爬蟲抓取用範例)</a></li>,\n",
              " <li class=\"list-group-item\"><i class=\"bi bi-bug\"></i> <a href=\"example05.html\">example05.html (爬蟲抓取用範例)</a></li>,\n",
              " <li class=\"list-group-item\"><i class=\"bi bi-bug\"></i> <a href=\"spy.html\">Classic HTML 範例 (爬蟲抓取用範例)</a></li>,\n",
              " <li class=\"list-group-item\"><i class=\"bi bi-bug\"></i> <a href=\"spy_ajax.html\">Ajax 範例 (爬蟲抓取用範例)</a></li>,\n",
              " <li class=\"list-group-item\"><i class=\"bi bi-bug\"></i> <a href=\"form_get.html\">HTTP GET 方法說明</a></li>,\n",
              " <li class=\"list-group-item\"><i class=\"bi bi-bug\"></i> <a href=\"form_post.html\">HTTP POST 方法說明</a></li>]"
            ]
          },
          "metadata": {},
          "execution_count": 61
        }
      ]
    },
    {
      "cell_type": "code",
      "source": [
        "soup.select(\"li\")[0]"
      ],
      "metadata": {
        "colab": {
          "base_uri": "https://localhost:8080/"
        },
        "id": "cJRuCiT_kh3C",
        "outputId": "9fb2c55c-db4a-49cd-f9e1-4bc68e029538"
      },
      "execution_count": 62,
      "outputs": [
        {
          "output_type": "execute_result",
          "data": {
            "text/plain": [
              "<li class=\"list-group-item\"><i class=\"bi bi-globe\"></i> <a href=\"html_only.html\">HTML 範例</a></li>"
            ]
          },
          "metadata": {},
          "execution_count": 62
        }
      ]
    },
    {
      "cell_type": "code",
      "source": [
        "soup.select(\"li\")[0].text"
      ],
      "metadata": {
        "colab": {
          "base_uri": "https://localhost:8080/",
          "height": 36
        },
        "id": "HnmRsTu-pUNv",
        "outputId": "be8a20ea-d3d5-4989-e620-31cbb5856511"
      },
      "execution_count": 63,
      "outputs": [
        {
          "output_type": "execute_result",
          "data": {
            "text/plain": [
              "' HTML 範例'"
            ],
            "application/vnd.google.colaboratory.intrinsic+json": {
              "type": "string"
            }
          },
          "metadata": {},
          "execution_count": 63
        }
      ]
    },
    {
      "cell_type": "code",
      "source": [
        "for i in soup.select(\"li\"):\n",
        "  print(i.text)"
      ],
      "metadata": {
        "colab": {
          "base_uri": "https://localhost:8080/"
        },
        "id": "ZAcgMhRFpW1X",
        "outputId": "da35171f-461e-453d-88ce-4e3062d93388"
      },
      "execution_count": 64,
      "outputs": [
        {
          "output_type": "stream",
          "name": "stdout",
          "text": [
            " HTML 範例\n",
            " HTML + CSS 範例\n",
            " HTML + CSS + Javascript 範例\n",
            " example01.html (爬蟲抓取用範例)\n",
            " example02.html (爬蟲抓取用範例)\n",
            " example03.html (爬蟲抓取用範例)\n",
            " example04.html (爬蟲抓取用範例)\n",
            " example05.html (爬蟲抓取用範例)\n",
            " Classic HTML 範例 (爬蟲抓取用範例)\n",
            " Ajax 範例 (爬蟲抓取用範例)\n",
            " HTTP GET 方法說明\n",
            " HTTP POST 方法說明\n"
          ]
        }
      ]
    },
    {
      "cell_type": "code",
      "source": [
        "for i, j in enumerate(soup.select(\"li\")):\n",
        "  print(i, \": \", j.text)"
      ],
      "metadata": {
        "colab": {
          "base_uri": "https://localhost:8080/"
        },
        "id": "SeanYwwbpi7b",
        "outputId": "9ce111d5-02c0-45b4-e103-aa211bfb97e5"
      },
      "execution_count": 66,
      "outputs": [
        {
          "output_type": "stream",
          "name": "stdout",
          "text": [
            "0 :   HTML 範例\n",
            "1 :   HTML + CSS 範例\n",
            "2 :   HTML + CSS + Javascript 範例\n",
            "3 :   example01.html (爬蟲抓取用範例)\n",
            "4 :   example02.html (爬蟲抓取用範例)\n",
            "5 :   example03.html (爬蟲抓取用範例)\n",
            "6 :   example04.html (爬蟲抓取用範例)\n",
            "7 :   example05.html (爬蟲抓取用範例)\n",
            "8 :   Classic HTML 範例 (爬蟲抓取用範例)\n",
            "9 :   Ajax 範例 (爬蟲抓取用範例)\n",
            "10 :   HTTP GET 方法說明\n",
            "11 :   HTTP POST 方法說明\n"
          ]
        }
      ]
    },
    {
      "cell_type": "code",
      "source": [
        "for i, x in enumerate(soup.select(\"li\")):\n",
        "  print(f\"{i:2}\", \":\", x.text)"
      ],
      "metadata": {
        "colab": {
          "base_uri": "https://localhost:8080/"
        },
        "id": "_OdxRKLkqBRd",
        "outputId": "1c28e361-0bce-4498-c57a-98856dd68ca9"
      },
      "execution_count": 67,
      "outputs": [
        {
          "output_type": "stream",
          "name": "stdout",
          "text": [
            " 0 :  HTML 範例\n",
            " 1 :  HTML + CSS 範例\n",
            " 2 :  HTML + CSS + Javascript 範例\n",
            " 3 :  example01.html (爬蟲抓取用範例)\n",
            " 4 :  example02.html (爬蟲抓取用範例)\n",
            " 5 :  example03.html (爬蟲抓取用範例)\n",
            " 6 :  example04.html (爬蟲抓取用範例)\n",
            " 7 :  example05.html (爬蟲抓取用範例)\n",
            " 8 :  Classic HTML 範例 (爬蟲抓取用範例)\n",
            " 9 :  Ajax 範例 (爬蟲抓取用範例)\n",
            "10 :  HTTP GET 方法說明\n",
            "11 :  HTTP POST 方法說明\n"
          ]
        }
      ]
    },
    {
      "cell_type": "code",
      "source": [
        "for i, x in enumerate(soup.select(\"li\")):\n",
        "  print(f\"{i:2}: {x.text}\")"
      ],
      "metadata": {
        "colab": {
          "base_uri": "https://localhost:8080/"
        },
        "id": "ADwvH1LFqjyd",
        "outputId": "dbd981c3-0c1d-4e27-b54a-1f77f805a179"
      },
      "execution_count": 68,
      "outputs": [
        {
          "output_type": "stream",
          "name": "stdout",
          "text": [
            " 0:  HTML 範例\n",
            " 1:  HTML + CSS 範例\n",
            " 2:  HTML + CSS + Javascript 範例\n",
            " 3:  example01.html (爬蟲抓取用範例)\n",
            " 4:  example02.html (爬蟲抓取用範例)\n",
            " 5:  example03.html (爬蟲抓取用範例)\n",
            " 6:  example04.html (爬蟲抓取用範例)\n",
            " 7:  example05.html (爬蟲抓取用範例)\n",
            " 8:  Classic HTML 範例 (爬蟲抓取用範例)\n",
            " 9:  Ajax 範例 (爬蟲抓取用範例)\n",
            "10:  HTTP GET 方法說明\n",
            "11:  HTTP POST 方法說明\n"
          ]
        }
      ]
    },
    {
      "cell_type": "markdown",
      "source": [
        "# 關於字串格式化\n"
      ],
      "metadata": {
        "id": "VGDCSJM3qQBB"
      }
    },
    {
      "cell_type": "code",
      "source": [
        "x =1 \n",
        "y =1.23\n",
        "z =True\n",
        "w =\"dog\""
      ],
      "metadata": {
        "id": "m1l1Q1Kzqy6r"
      },
      "execution_count": 69,
      "outputs": []
    },
    {
      "cell_type": "code",
      "source": [
        "print(x, y, z, w)"
      ],
      "metadata": {
        "colab": {
          "base_uri": "https://localhost:8080/"
        },
        "id": "zKNcDX4mu70o",
        "outputId": "4ab6cb21-14a2-4430-b19e-73e15304a6cd"
      },
      "execution_count": 70,
      "outputs": [
        {
          "output_type": "stream",
          "name": "stdout",
          "text": [
            "1 1.23 True dog\n"
          ]
        }
      ]
    },
    {
      "cell_type": "code",
      "source": [
        "print(x, y, z, w, sep=\"\")"
      ],
      "metadata": {
        "colab": {
          "base_uri": "https://localhost:8080/"
        },
        "id": "Gr2erOf5u-sJ",
        "outputId": "7f2175ec-600c-489b-b8b8-30ab6bca6ac6"
      },
      "execution_count": 71,
      "outputs": [
        {
          "output_type": "stream",
          "name": "stdout",
          "text": [
            "11.23Truedog\n"
          ]
        }
      ]
    },
    {
      "cell_type": "code",
      "source": [
        "print(x, y, z, w, sep=\"+\")"
      ],
      "metadata": {
        "colab": {
          "base_uri": "https://localhost:8080/"
        },
        "id": "AlgriH4XvE-p",
        "outputId": "04044b1d-1b23-422c-f5e2-4a802930ef15"
      },
      "execution_count": 72,
      "outputs": [
        {
          "output_type": "stream",
          "name": "stdout",
          "text": [
            "1+1.23+True+dog\n"
          ]
        }
      ]
    },
    {
      "cell_type": "markdown",
      "source": [
        "## f-string(3.5+)\n"
      ],
      "metadata": {
        "id": "Or6Ps_K3vQEQ"
      }
    },
    {
      "cell_type": "code",
      "source": [
        "print(f\"{x}, {y}, {z}, {w}\")"
      ],
      "metadata": {
        "colab": {
          "base_uri": "https://localhost:8080/"
        },
        "id": "F3lfqom-vJ2J",
        "outputId": "271adeb0-ff95-42d0-b6aa-5cc32fbce031"
      },
      "execution_count": 73,
      "outputs": [
        {
          "output_type": "stream",
          "name": "stdout",
          "text": [
            "1, 1.23, True, dog\n"
          ]
        }
      ]
    },
    {
      "cell_type": "code",
      "source": [
        "print(\"{x}, {y}, {z}, {w}\")"
      ],
      "metadata": {
        "colab": {
          "base_uri": "https://localhost:8080/"
        },
        "id": "i7F1CI9fvgm-",
        "outputId": "7725c723-ff22-424f-a517-1c156de5179d"
      },
      "execution_count": 74,
      "outputs": [
        {
          "output_type": "stream",
          "name": "stdout",
          "text": [
            "{x}, {y}, {z}, {w}\n"
          ]
        }
      ]
    },
    {
      "cell_type": "code",
      "source": [
        "print(f\"{x}, {y}, {z}, {w}\")\n",
        "print(f\"{x:5}, {y}, {z}, {w}\")\n",
        "print(f\"{x:05}, {y}, {z}, {w}\")"
      ],
      "metadata": {
        "colab": {
          "base_uri": "https://localhost:8080/"
        },
        "id": "aK5j4peKvjlT",
        "outputId": "761a17d3-8424-408f-a65f-276b1e6a30bf"
      },
      "execution_count": 75,
      "outputs": [
        {
          "output_type": "stream",
          "name": "stdout",
          "text": [
            "1, 1.23, True, dog\n",
            "    1, 1.23, True, dog\n",
            "00001, 1.23, True, dog\n"
          ]
        }
      ]
    },
    {
      "cell_type": "code",
      "source": [
        "print(f\"{x}, {y}, {z}, {w}\")\n",
        "print(f\"{x:5}, {y:7.2f}, {z}, {w}\")\n",
        "print(f\"{x}, {y:07.2f}, {z}, {w}\")"
      ],
      "metadata": {
        "colab": {
          "base_uri": "https://localhost:8080/"
        },
        "id": "0cOGBZrVwEEs",
        "outputId": "2ec84688-9310-4962-ec3e-8f4c55c54b00"
      },
      "execution_count": 76,
      "outputs": [
        {
          "output_type": "stream",
          "name": "stdout",
          "text": [
            "1, 1.23, True, dog\n",
            "    1,    1.23, True, dog\n",
            "1, 0001.23, True, dog\n"
          ]
        }
      ]
    },
    {
      "cell_type": "code",
      "source": [
        "print(f\"{x}, {y}, {z}, {w}\")\n",
        "print(f\"{x:5}, {y}, {z}, {w:10}\")\n",
        "print(f\"{x}, {y}, {z}, {w:>10}\")"
      ],
      "metadata": {
        "colab": {
          "base_uri": "https://localhost:8080/"
        },
        "id": "AulH9tSGwZKg",
        "outputId": "5d3b96a8-7435-4c96-f8f5-88f432e229a6"
      },
      "execution_count": 77,
      "outputs": [
        {
          "output_type": "stream",
          "name": "stdout",
          "text": [
            "1, 1.23, True, dog\n",
            "    1, 1.23, True, dog       \n",
            "1, 1.23, True,        dog\n"
          ]
        }
      ]
    },
    {
      "cell_type": "markdown",
      "source": [
        "## string.format\n"
      ],
      "metadata": {
        "id": "CDkEGo3zwlQM"
      }
    },
    {
      "cell_type": "code",
      "source": [
        "print(\"{},{},{},{}\".format(x,y,z,w))"
      ],
      "metadata": {
        "colab": {
          "base_uri": "https://localhost:8080/"
        },
        "id": "ywkPH9hPwwE-",
        "outputId": "e4d1fe2c-2f4c-4de0-f4d8-0d7d7fb35d95"
      },
      "execution_count": 78,
      "outputs": [
        {
          "output_type": "stream",
          "name": "stdout",
          "text": [
            "1,1.23,True,dog\n"
          ]
        }
      ]
    },
    {
      "cell_type": "code",
      "source": [
        "print(\"{0},{1},{2},{1}\".format(x,y,z,w))"
      ],
      "metadata": {
        "colab": {
          "base_uri": "https://localhost:8080/"
        },
        "id": "GKTP163Gx10L",
        "outputId": "69f6aa9f-242b-4906-8d71-cb884b89b27b"
      },
      "execution_count": 79,
      "outputs": [
        {
          "output_type": "stream",
          "name": "stdout",
          "text": [
            "1,1.23,True,1.23\n"
          ]
        }
      ]
    },
    {
      "cell_type": "code",
      "source": [
        "print(\"{a},{b},{c},{d}\".format(a=x,b=y,c=z,d=w))"
      ],
      "metadata": {
        "colab": {
          "base_uri": "https://localhost:8080/"
        },
        "id": "bhqEzao0yEUP",
        "outputId": "d11c23ac-4624-4112-befa-c29357db6975"
      },
      "execution_count": 80,
      "outputs": [
        {
          "output_type": "stream",
          "name": "stdout",
          "text": [
            "1,1.23,True,dog\n"
          ]
        }
      ]
    },
    {
      "cell_type": "markdown",
      "source": [
        "## 練習\n",
        "\n",
        "https://stackoverflow.com/questions/53908134/what-is-20-format-string-meaning-in-python"
      ],
      "metadata": {
        "id": "PIxqgxrjCCFa"
      }
    },
    {
      "cell_type": "code",
      "source": [
        "popularity = [[\"Language\", 2017, 2012, 2007, 2002, 1997, 1992, 1987], \n",
        "          [\"Java\", 1, 2, 1, 1, 15, 0, 0],\n",
        "          [\"C\", 2, 1, 2, 2, 1, 1, 1],\n",
        "          [\"C++\", 3, 3, 3, 3, 2, 2, 5],\n",
        "          [\"C#\", 4, 4, 7, 13, 0, 0, 0],\n",
        "          [\"Python\", 5, 7, 6, 11, 27, 0, 0],\n",
        "          [\"Visual Basic .NET\", 6, 17, 0, 0, 0, 0, 0],\n",
        "          [\"PHP\", 7, 6, 4, 5, 0, 0, 0],\n",
        "          [\"JavaScript\", 8, 9, 8, 7, 23, 0, 0],\n",
        "          [\"Perl\", 9, 8, 5, 4, 4, 10, 0]]\n",
        "\n",
        "format_string = \"{:<20}  {:>4}  {:>4}  {:>4}  {:>4}  {:>4}  {:>4}  {:>4}\""
      ],
      "metadata": {
        "id": "n_kt2KqLB8W-"
      },
      "execution_count": 81,
      "outputs": []
    },
    {
      "cell_type": "code",
      "source": [
        "for i in popularity:\n",
        "  print(format_string.format(i[0],i[1],i[2],i[3],i[4],i[5],i[6],i[7]))"
      ],
      "metadata": {
        "colab": {
          "base_uri": "https://localhost:8080/"
        },
        "id": "y_mx0pNuDLTP",
        "outputId": "fb8c05f2-59a2-4d8e-eaa7-96a13bbd5d6d"
      },
      "execution_count": 84,
      "outputs": [
        {
          "output_type": "stream",
          "name": "stdout",
          "text": [
            "Language              2017  2012  2007  2002  1997  1992  1987\n",
            "Java                     1     2     1     1    15     0     0\n",
            "C                        2     1     2     2     1     1     1\n",
            "C++                      3     3     3     3     2     2     5\n",
            "C#                       4     4     7    13     0     0     0\n",
            "Python                   5     7     6    11    27     0     0\n",
            "Visual Basic .NET        6    17     0     0     0     0     0\n",
            "PHP                      7     6     4     5     0     0     0\n",
            "JavaScript               8     9     8     7    23     0     0\n",
            "Perl                     9     8     5     4     4    10     0\n"
          ]
        }
      ]
    },
    {
      "cell_type": "code",
      "source": [
        "for i in popularity:\n",
        "  print(format_string.format(*i))  # *i <==> i[0],i[1],i[2],i[3],i[4],i[5],i[6],i[7]"
      ],
      "metadata": {
        "colab": {
          "base_uri": "https://localhost:8080/"
        },
        "id": "bngLgbmxB9id",
        "outputId": "5b79d176-0e60-4cbc-acf1-2212fb24466d"
      },
      "execution_count": 83,
      "outputs": [
        {
          "output_type": "stream",
          "name": "stdout",
          "text": [
            "Language              2017  2012  2007  2002  1997  1992  1987\n",
            "Java                     1     2     1     1    15     0     0\n",
            "C                        2     1     2     2     1     1     1\n",
            "C++                      3     3     3     3     2     2     5\n",
            "C#                       4     4     7    13     0     0     0\n",
            "Python                   5     7     6    11    27     0     0\n",
            "Visual Basic .NET        6    17     0     0     0     0     0\n",
            "PHP                      7     6     4     5     0     0     0\n",
            "JavaScript               8     9     8     7    23     0     0\n",
            "Perl                     9     8     5     4     4    10     0\n"
          ]
        }
      ]
    },
    {
      "cell_type": "code",
      "source": [
        "format_string = \"{:<20}{:>6}{:>6}{:>6}{:>6}{:>6}{:>6}{:>6}\"\n",
        "for i in popularity:\n",
        "  print(format_string.format(*i)) "
      ],
      "metadata": {
        "colab": {
          "base_uri": "https://localhost:8080/"
        },
        "id": "Xgp7SGRJC3Uj",
        "outputId": "629d676c-af9d-4e4a-f0b7-d2f990b5b173"
      },
      "execution_count": 85,
      "outputs": [
        {
          "output_type": "stream",
          "name": "stdout",
          "text": [
            "Language              2017  2012  2007  2002  1997  1992  1987\n",
            "Java                     1     2     1     1    15     0     0\n",
            "C                        2     1     2     2     1     1     1\n",
            "C++                      3     3     3     3     2     2     5\n",
            "C#                       4     4     7    13     0     0     0\n",
            "Python                   5     7     6    11    27     0     0\n",
            "Visual Basic .NET        6    17     0     0     0     0     0\n",
            "PHP                      7     6     4     5     0     0     0\n",
            "JavaScript               8     9     8     7    23     0     0\n",
            "Perl                     9     8     5     4     4    10     0\n"
          ]
        }
      ]
    },
    {
      "cell_type": "markdown",
      "source": [
        "# 使用css select來剖析資料\n",
        "\n",
        "https://www.w3schools.com/cssref/css_selectors.php\n",
        "\n"
      ],
      "metadata": {
        "id": "ZFE7aOGeENXh"
      }
    },
    {
      "cell_type": "code",
      "source": [
        "url = \"https://victorgau.github.io/khpy_web_intro/\""
      ],
      "metadata": {
        "id": "gxbtqsJQEGrR"
      },
      "execution_count": 86,
      "outputs": []
    },
    {
      "cell_type": "code",
      "source": [
        "r = requests.get(url)"
      ],
      "metadata": {
        "id": "LI8PUAySG7qA"
      },
      "execution_count": 87,
      "outputs": []
    },
    {
      "cell_type": "code",
      "source": [
        "soup = BeautifulSoup(r.text)"
      ],
      "metadata": {
        "id": "ByQ04ix7HAAN"
      },
      "execution_count": 88,
      "outputs": []
    },
    {
      "cell_type": "code",
      "source": [
        "soup.select(\"li\")"
      ],
      "metadata": {
        "colab": {
          "base_uri": "https://localhost:8080/"
        },
        "id": "lP5ZadzRHOxN",
        "outputId": "280b6c9b-ece2-4ed9-aaed-eec48393c40b"
      },
      "execution_count": 89,
      "outputs": [
        {
          "output_type": "execute_result",
          "data": {
            "text/plain": [
              "[<li class=\"list-group-item\"><i class=\"bi bi-globe\"></i> <a href=\"html_only.html\">HTML 範例</a></li>,\n",
              " <li class=\"list-group-item\"><i class=\"bi bi-globe\"></i> <a href=\"html_css.html\">HTML + CSS 範例</a></li>,\n",
              " <li class=\"list-group-item\"><i class=\"bi bi-globe\"></i> <a href=\"html_css_javascript.html\">HTML + CSS + Javascript 範例</a></li>,\n",
              " <li class=\"list-group-item\"><i class=\"bi bi-bug\"></i> <a href=\"example01.html\">example01.html (爬蟲抓取用範例)</a></li>,\n",
              " <li class=\"list-group-item\"><i class=\"bi bi-bug\"></i> <a href=\"example02.html\">example02.html (爬蟲抓取用範例)</a></li>,\n",
              " <li class=\"list-group-item\"><i class=\"bi bi-bug\"></i> <a href=\"example03.html\">example03.html (爬蟲抓取用範例)</a></li>,\n",
              " <li class=\"list-group-item\"><i class=\"bi bi-bug\"></i> <a href=\"example04.html\">example04.html (爬蟲抓取用範例)</a></li>,\n",
              " <li class=\"list-group-item\"><i class=\"bi bi-bug\"></i> <a href=\"example05.html\">example05.html (爬蟲抓取用範例)</a></li>,\n",
              " <li class=\"list-group-item\"><i class=\"bi bi-bug\"></i> <a href=\"spy.html\">Classic HTML 範例 (爬蟲抓取用範例)</a></li>,\n",
              " <li class=\"list-group-item\"><i class=\"bi bi-bug\"></i> <a href=\"spy_ajax.html\">Ajax 範例 (爬蟲抓取用範例)</a></li>,\n",
              " <li class=\"list-group-item\"><i class=\"bi bi-bug\"></i> <a href=\"form_get.html\">HTTP GET 方法說明</a></li>,\n",
              " <li class=\"list-group-item\"><i class=\"bi bi-bug\"></i> <a href=\"form_post.html\">HTTP POST 方法說明</a></li>]"
            ]
          },
          "metadata": {},
          "execution_count": 89
        }
      ]
    },
    {
      "cell_type": "code",
      "source": [],
      "metadata": {
        "id": "Iphl3TguHsQ3"
      },
      "execution_count": null,
      "outputs": []
    },
    {
      "cell_type": "markdown",
      "source": [
        "## 抓取露天拍賣資料\n",
        "\n",
        "\n"
      ],
      "metadata": {
        "id": "TbVSeNgRH7Np"
      }
    },
    {
      "cell_type": "code",
      "source": [
        "url = \"https://victorgau.github.io/khpy_web_intro/\""
      ],
      "metadata": {
        "id": "xl6ZnNB6IM8-"
      },
      "execution_count": 91,
      "outputs": []
    },
    {
      "cell_type": "code",
      "source": [
        "# https://www.whatsmyua.info/\n",
        "headers = {'user-agent':'Mozilla/5.0 (Windows NT 10.0; Win64; x64) AppleWebKit/537.36 (KHTML, like Gecko) Chrome/110.0.0.0 Safari/537.36'}"
      ],
      "metadata": {
        "id": "hiFU6Bf_IWSn"
      },
      "execution_count": 92,
      "outputs": []
    },
    {
      "cell_type": "code",
      "source": [
        "r = requests.get(url, headers=headers)"
      ],
      "metadata": {
        "id": "_DdcQcMNIO38"
      },
      "execution_count": 93,
      "outputs": []
    },
    {
      "cell_type": "code",
      "source": [],
      "metadata": {
        "id": "yTW0QmSKJSFt"
      },
      "execution_count": null,
      "outputs": []
    },
    {
      "cell_type": "code",
      "source": [
        "url = \"https://rapi.ruten.com.tw/api/items/v2/list?gno=21203073884581,21203073855084,22243606777400,22244608865692,22302937500980,22306987134735,22308073518043,22134699516389,22238403273488,21945822081428,22115680698839&level=detail\""
      ],
      "metadata": {
        "id": "HEhIAY3qJIv5"
      },
      "execution_count": 94,
      "outputs": []
    },
    {
      "cell_type": "code",
      "source": [
        "data = requests.get(url, headers=headers).json()"
      ],
      "metadata": {
        "id": "gKqKUbA_MN6b"
      },
      "execution_count": 95,
      "outputs": []
    },
    {
      "cell_type": "code",
      "source": [
        "data['data'][0].keys()"
      ],
      "metadata": {
        "colab": {
          "base_uri": "https://localhost:8080/"
        },
        "id": "6b5DZlbNMOnm",
        "outputId": "4cd23afa-d6c6-40be-e236-d22c25ca3232"
      },
      "execution_count": 96,
      "outputs": [
        {
          "output_type": "execute_result",
          "data": {
            "text/plain": [
              "dict_keys(['id', 'class', 'name', 'num', 'images', 'currency', 'goods_price', 'goods_ori_price', 'goods_price_range', 'watch_num', 'sold_num', 'buyer_limit_num', 'stock_status', 'pre_order_ship_date', 'fast_ship', 'free_shipping', 'youtube_link', 'video_link', 'ncc_check_code', 'bsmi_code', 'goods_no', 'available', 'post_time', 'spec_type', 'deliver_way', 'mode', 'ship', 'platform', 'ctrl_rowid', 'user', 'user_credit', 'pay_way', 'title_style', 'selling_g_now_price', 'item_remaining_time', 'translation_type', 'translated_name', 'min_estimated_delivery_date', 'max_estimated_delivery_date', 'update_time', 'is_brand_seller', 'is_goods_from_oversea', 'location', 'condition', 'codition', 'accept_shiprule', 'user_class', 'close_no', 'description_url', 'spec_info', 'text2'])"
            ]
          },
          "metadata": {},
          "execution_count": 96
        }
      ]
    },
    {
      "cell_type": "code",
      "source": [
        "for i in data['data']:\n",
        "  print(f\"{i['name']} ==> {i['goods_price_range']}\")"
      ],
      "metadata": {
        "colab": {
          "base_uri": "https://localhost:8080/"
        },
        "id": "LZVvn-sOMTgp",
        "outputId": "e7068741-6f79-4744-ea1d-e5814a92c830"
      },
      "execution_count": 97,
      "outputs": [
        {
          "output_type": "stream",
          "name": "stdout",
          "text": [
            "凸頭 18650電池 可開發票 尖頭 鋰電池 充電電池 3000mAh 3.7v 高容量 手電筒 電風扇 Li-ion ==> {'min': 8, 'max': 24, 'ori_min': 8, 'ori_max': 24}\n",
            "18650充電電池 高容量 4000mAh 電池 鋰電池 充電電池 3.7V Li-ion 尖頭 凸頭 充電器 USB ==> {'min': 39, 'max': 119, 'ori_min': 39, 'ori_max': 119}\n",
            "三菱電機HC-BH023-S12   99新 ==> {'min': 39000, 'max': 40950, 'ori_min': 39000, 'ori_max': 40950}\n",
            "【秀秀】三菱PLC模塊 QJ72LP25-25 全新 ==> {'min': 33000, 'max': 33000, 'ori_min': 33000, 'ori_max': 33000}\n",
            "(辦公首選華碩I7商務桌機 獨家送微軟OFFICE)I7-11700時脈4.9G/16核心/16G/256G+1TB電腦 ==> {'min': 25900, 'max': 29900, 'ori_min': 25900, 'ori_max': 29900}\n",
            "WD西部數據NAS硬盤12T服務器硬盤12t網絡硬盤紅盤Pro WD121KFBX ==> {'min': 50760, 'max': 50760, 'ori_min': 50760, 'ori_max': 50760}\n",
            "全新零刻 SEi8 i5-8279U 酷睿i5辦公電腦微型主機 Intel 辦公電腦 迷你電腦 小電腦 微電腦 ==> {'min': 23692, 'max': 23692, 'ori_min': 23692, 'ori_max': 23692}\n",
            "【樂意創客官方店】《附發票》AI機械手臂 樹莓派 4B Raspberry 視覺識別 ArmPi-FPV (豪華版本) ==> {'min': 22800, 'max': 22800, 'ori_min': 22800, 'ori_max': 22800}\n",
            "KINGHOPE KH-82膽機組合音響發燒hifi藍牙書架音箱功放CD/DVD套裝 ==> {'min': 38280, 'max': 38280, 'ori_min': 38280, 'ori_max': 38280}\n",
            "【24H出貨】(公司貨) iMICE X7 電競滑鼠 2400DPI 呼吸燈 電腦滑鼠 光學滑鼠 有線滑鼠 競技滑鼠 ==> {'min': 155, 'max': 155, 'ori_min': 155, 'ori_max': 155}\n",
            "Renova Zero Pod 煙彈 空煙彈 空倉 空夾 空彈 ==> {'min': 199, 'max': 230, 'ori_min': 199, 'ori_max': 230}\n"
          ]
        }
      ]
    },
    {
      "cell_type": "code",
      "source": [
        "url = \"https://web.pcc.gov.tw/prkms/tender/common/bulletion/readBulletion?querySentence=%E9%9B%BB%E8%85%A6&tenderStatusType=%E6%8B%9B%E6%A8%99&sortCol=TENDER_NOTICE_DATE&timeRange=112&pageSize=10\""
      ],
      "metadata": {
        "id": "2ajcI6QLLKYN"
      },
      "execution_count": 98,
      "outputs": []
    },
    {
      "cell_type": "code",
      "source": [
        "dfs = pd.read_html(url, encoding='utf-8')"
      ],
      "metadata": {
        "id": "LAwybIL9OmYV"
      },
      "execution_count": 99,
      "outputs": []
    },
    {
      "cell_type": "code",
      "source": [
        "dfs[4]"
      ],
      "metadata": {
        "colab": {
          "base_uri": "https://localhost:8080/",
          "height": 407
        },
        "id": "YzhOUH_0OqPp",
        "outputId": "deb39fcd-2221-4ab5-da97-216daa2e4cec"
      },
      "execution_count": 100,
      "outputs": [
        {
          "output_type": "execute_result",
          "data": {
            "text/plain": [
              "   項次    種類             機關名稱  \\\n",
              "0   1  招標公告    臺北市政府工務局新建工程處   \n",
              "1   2  招標公告  交通部公路總局第五區養護工程處   \n",
              "2   3  招標公告         高雄市立民生醫院   \n",
              "3   4  招標公告    國立臺灣大學醫學院附設醫院   \n",
              "4   5  招標公告       台灣電力股份有限公司   \n",
              "5   6  招標公告         臺北市政府工務局   \n",
              "6   7  招標公告  交通部公路總局第二區養護工程處   \n",
              "7   8  招標公告     臺中市大里區立新國民小學   \n",
              "8   9  招標公告         桃園市平鎮區公所   \n",
              "9  10  招標公告     臺北大眾捷運股份有限公司   \n",
              "\n",
              "                                            標案案號標案名稱     招標公告日期  決標或無法決標公告  \\\n",
              "0  11211  var hw = Geps3.CNS.pageCode2Img(\"容積代金基金...  112/03/03        NaN   \n",
              "1  112010008  var hw = Geps3.CNS.pageCode2Img(\"11...  112/03/03        NaN   \n",
              "2  KMSH11023  var hw = Geps3.CNS.pageCode2Img(\"電腦...  112/03/03        NaN   \n",
              "3  PA2200704  var hw = Geps3.CNS.pageCode2Img(\"高劑...  112/03/03        NaN   \n",
              "4  0061100014  var hw = Geps3.CNS.pageCode2Img(\"電...  112/03/03        NaN   \n",
              "5  1120210S0036  var hw = Geps3.CNS.pageCode2Img(...  112/03/03        NaN   \n",
              "6  112-08007  var hw = Geps3.CNS.pageCode2Img(\"第二...  112/03/03        NaN   \n",
              "7  1120302  var hw = Geps3.CNS.pageCode2Img(\"112年...  112/03/03        NaN   \n",
              "8  1120109001  var hw = Geps3.CNS.pageCode2Img(\"1...  112/03/03        NaN   \n",
              "9  C12B00276  var hw = Geps3.CNS.pageCode2Img(\"錢幣...  112/03/03        NaN   \n",
              "\n",
              "      截止投標日期  公開閱覽/徵求日期  預告公告日期 功能選項  \n",
              "0  112/03/13        NaN     NaN   檢視  \n",
              "1  112/03/21        NaN     NaN   檢視  \n",
              "2  112/03/08        NaN     NaN   檢視  \n",
              "3  112/03/10        NaN     NaN   檢視  \n",
              "4  112/03/20        NaN     NaN   檢視  \n",
              "5  112/03/28        NaN     NaN   檢視  \n",
              "6  112/03/21        NaN     NaN   檢視  \n",
              "7  112/03/07        NaN     NaN   檢視  \n",
              "8  112/03/09        NaN     NaN   檢視  \n",
              "9  112/03/16        NaN     NaN   檢視  "
            ],
            "text/html": [
              "\n",
              "  <div id=\"df-ea0f44a4-d07f-426b-9b4d-f2d142b54ff8\">\n",
              "    <div class=\"colab-df-container\">\n",
              "      <div>\n",
              "<style scoped>\n",
              "    .dataframe tbody tr th:only-of-type {\n",
              "        vertical-align: middle;\n",
              "    }\n",
              "\n",
              "    .dataframe tbody tr th {\n",
              "        vertical-align: top;\n",
              "    }\n",
              "\n",
              "    .dataframe thead th {\n",
              "        text-align: right;\n",
              "    }\n",
              "</style>\n",
              "<table border=\"1\" class=\"dataframe\">\n",
              "  <thead>\n",
              "    <tr style=\"text-align: right;\">\n",
              "      <th></th>\n",
              "      <th>項次</th>\n",
              "      <th>種類</th>\n",
              "      <th>機關名稱</th>\n",
              "      <th>標案案號標案名稱</th>\n",
              "      <th>招標公告日期</th>\n",
              "      <th>決標或無法決標公告</th>\n",
              "      <th>截止投標日期</th>\n",
              "      <th>公開閱覽/徵求日期</th>\n",
              "      <th>預告公告日期</th>\n",
              "      <th>功能選項</th>\n",
              "    </tr>\n",
              "  </thead>\n",
              "  <tbody>\n",
              "    <tr>\n",
              "      <th>0</th>\n",
              "      <td>1</td>\n",
              "      <td>招標公告</td>\n",
              "      <td>臺北市政府工務局新建工程處</td>\n",
              "      <td>11211  var hw = Geps3.CNS.pageCode2Img(\"容積代金基金...</td>\n",
              "      <td>112/03/03</td>\n",
              "      <td>NaN</td>\n",
              "      <td>112/03/13</td>\n",
              "      <td>NaN</td>\n",
              "      <td>NaN</td>\n",
              "      <td>檢視</td>\n",
              "    </tr>\n",
              "    <tr>\n",
              "      <th>1</th>\n",
              "      <td>2</td>\n",
              "      <td>招標公告</td>\n",
              "      <td>交通部公路總局第五區養護工程處</td>\n",
              "      <td>112010008  var hw = Geps3.CNS.pageCode2Img(\"11...</td>\n",
              "      <td>112/03/03</td>\n",
              "      <td>NaN</td>\n",
              "      <td>112/03/21</td>\n",
              "      <td>NaN</td>\n",
              "      <td>NaN</td>\n",
              "      <td>檢視</td>\n",
              "    </tr>\n",
              "    <tr>\n",
              "      <th>2</th>\n",
              "      <td>3</td>\n",
              "      <td>招標公告</td>\n",
              "      <td>高雄市立民生醫院</td>\n",
              "      <td>KMSH11023  var hw = Geps3.CNS.pageCode2Img(\"電腦...</td>\n",
              "      <td>112/03/03</td>\n",
              "      <td>NaN</td>\n",
              "      <td>112/03/08</td>\n",
              "      <td>NaN</td>\n",
              "      <td>NaN</td>\n",
              "      <td>檢視</td>\n",
              "    </tr>\n",
              "    <tr>\n",
              "      <th>3</th>\n",
              "      <td>4</td>\n",
              "      <td>招標公告</td>\n",
              "      <td>國立臺灣大學醫學院附設醫院</td>\n",
              "      <td>PA2200704  var hw = Geps3.CNS.pageCode2Img(\"高劑...</td>\n",
              "      <td>112/03/03</td>\n",
              "      <td>NaN</td>\n",
              "      <td>112/03/10</td>\n",
              "      <td>NaN</td>\n",
              "      <td>NaN</td>\n",
              "      <td>檢視</td>\n",
              "    </tr>\n",
              "    <tr>\n",
              "      <th>4</th>\n",
              "      <td>5</td>\n",
              "      <td>招標公告</td>\n",
              "      <td>台灣電力股份有限公司</td>\n",
              "      <td>0061100014  var hw = Geps3.CNS.pageCode2Img(\"電...</td>\n",
              "      <td>112/03/03</td>\n",
              "      <td>NaN</td>\n",
              "      <td>112/03/20</td>\n",
              "      <td>NaN</td>\n",
              "      <td>NaN</td>\n",
              "      <td>檢視</td>\n",
              "    </tr>\n",
              "    <tr>\n",
              "      <th>5</th>\n",
              "      <td>6</td>\n",
              "      <td>招標公告</td>\n",
              "      <td>臺北市政府工務局</td>\n",
              "      <td>1120210S0036  var hw = Geps3.CNS.pageCode2Img(...</td>\n",
              "      <td>112/03/03</td>\n",
              "      <td>NaN</td>\n",
              "      <td>112/03/28</td>\n",
              "      <td>NaN</td>\n",
              "      <td>NaN</td>\n",
              "      <td>檢視</td>\n",
              "    </tr>\n",
              "    <tr>\n",
              "      <th>6</th>\n",
              "      <td>7</td>\n",
              "      <td>招標公告</td>\n",
              "      <td>交通部公路總局第二區養護工程處</td>\n",
              "      <td>112-08007  var hw = Geps3.CNS.pageCode2Img(\"第二...</td>\n",
              "      <td>112/03/03</td>\n",
              "      <td>NaN</td>\n",
              "      <td>112/03/21</td>\n",
              "      <td>NaN</td>\n",
              "      <td>NaN</td>\n",
              "      <td>檢視</td>\n",
              "    </tr>\n",
              "    <tr>\n",
              "      <th>7</th>\n",
              "      <td>8</td>\n",
              "      <td>招標公告</td>\n",
              "      <td>臺中市大里區立新國民小學</td>\n",
              "      <td>1120302  var hw = Geps3.CNS.pageCode2Img(\"112年...</td>\n",
              "      <td>112/03/03</td>\n",
              "      <td>NaN</td>\n",
              "      <td>112/03/07</td>\n",
              "      <td>NaN</td>\n",
              "      <td>NaN</td>\n",
              "      <td>檢視</td>\n",
              "    </tr>\n",
              "    <tr>\n",
              "      <th>8</th>\n",
              "      <td>9</td>\n",
              "      <td>招標公告</td>\n",
              "      <td>桃園市平鎮區公所</td>\n",
              "      <td>1120109001  var hw = Geps3.CNS.pageCode2Img(\"1...</td>\n",
              "      <td>112/03/03</td>\n",
              "      <td>NaN</td>\n",
              "      <td>112/03/09</td>\n",
              "      <td>NaN</td>\n",
              "      <td>NaN</td>\n",
              "      <td>檢視</td>\n",
              "    </tr>\n",
              "    <tr>\n",
              "      <th>9</th>\n",
              "      <td>10</td>\n",
              "      <td>招標公告</td>\n",
              "      <td>臺北大眾捷運股份有限公司</td>\n",
              "      <td>C12B00276  var hw = Geps3.CNS.pageCode2Img(\"錢幣...</td>\n",
              "      <td>112/03/03</td>\n",
              "      <td>NaN</td>\n",
              "      <td>112/03/16</td>\n",
              "      <td>NaN</td>\n",
              "      <td>NaN</td>\n",
              "      <td>檢視</td>\n",
              "    </tr>\n",
              "  </tbody>\n",
              "</table>\n",
              "</div>\n",
              "      <button class=\"colab-df-convert\" onclick=\"convertToInteractive('df-ea0f44a4-d07f-426b-9b4d-f2d142b54ff8')\"\n",
              "              title=\"Convert this dataframe to an interactive table.\"\n",
              "              style=\"display:none;\">\n",
              "        \n",
              "  <svg xmlns=\"http://www.w3.org/2000/svg\" height=\"24px\"viewBox=\"0 0 24 24\"\n",
              "       width=\"24px\">\n",
              "    <path d=\"M0 0h24v24H0V0z\" fill=\"none\"/>\n",
              "    <path d=\"M18.56 5.44l.94 2.06.94-2.06 2.06-.94-2.06-.94-.94-2.06-.94 2.06-2.06.94zm-11 1L8.5 8.5l.94-2.06 2.06-.94-2.06-.94L8.5 2.5l-.94 2.06-2.06.94zm10 10l.94 2.06.94-2.06 2.06-.94-2.06-.94-.94-2.06-.94 2.06-2.06.94z\"/><path d=\"M17.41 7.96l-1.37-1.37c-.4-.4-.92-.59-1.43-.59-.52 0-1.04.2-1.43.59L10.3 9.45l-7.72 7.72c-.78.78-.78 2.05 0 2.83L4 21.41c.39.39.9.59 1.41.59.51 0 1.02-.2 1.41-.59l7.78-7.78 2.81-2.81c.8-.78.8-2.07 0-2.86zM5.41 20L4 18.59l7.72-7.72 1.47 1.35L5.41 20z\"/>\n",
              "  </svg>\n",
              "      </button>\n",
              "      \n",
              "  <style>\n",
              "    .colab-df-container {\n",
              "      display:flex;\n",
              "      flex-wrap:wrap;\n",
              "      gap: 12px;\n",
              "    }\n",
              "\n",
              "    .colab-df-convert {\n",
              "      background-color: #E8F0FE;\n",
              "      border: none;\n",
              "      border-radius: 50%;\n",
              "      cursor: pointer;\n",
              "      display: none;\n",
              "      fill: #1967D2;\n",
              "      height: 32px;\n",
              "      padding: 0 0 0 0;\n",
              "      width: 32px;\n",
              "    }\n",
              "\n",
              "    .colab-df-convert:hover {\n",
              "      background-color: #E2EBFA;\n",
              "      box-shadow: 0px 1px 2px rgba(60, 64, 67, 0.3), 0px 1px 3px 1px rgba(60, 64, 67, 0.15);\n",
              "      fill: #174EA6;\n",
              "    }\n",
              "\n",
              "    [theme=dark] .colab-df-convert {\n",
              "      background-color: #3B4455;\n",
              "      fill: #D2E3FC;\n",
              "    }\n",
              "\n",
              "    [theme=dark] .colab-df-convert:hover {\n",
              "      background-color: #434B5C;\n",
              "      box-shadow: 0px 1px 3px 1px rgba(0, 0, 0, 0.15);\n",
              "      filter: drop-shadow(0px 1px 2px rgba(0, 0, 0, 0.3));\n",
              "      fill: #FFFFFF;\n",
              "    }\n",
              "  </style>\n",
              "\n",
              "      <script>\n",
              "        const buttonEl =\n",
              "          document.querySelector('#df-ea0f44a4-d07f-426b-9b4d-f2d142b54ff8 button.colab-df-convert');\n",
              "        buttonEl.style.display =\n",
              "          google.colab.kernel.accessAllowed ? 'block' : 'none';\n",
              "\n",
              "        async function convertToInteractive(key) {\n",
              "          const element = document.querySelector('#df-ea0f44a4-d07f-426b-9b4d-f2d142b54ff8');\n",
              "          const dataTable =\n",
              "            await google.colab.kernel.invokeFunction('convertToInteractive',\n",
              "                                                     [key], {});\n",
              "          if (!dataTable) return;\n",
              "\n",
              "          const docLinkHtml = 'Like what you see? Visit the ' +\n",
              "            '<a target=\"_blank\" href=https://colab.research.google.com/notebooks/data_table.ipynb>data table notebook</a>'\n",
              "            + ' to learn more about interactive tables.';\n",
              "          element.innerHTML = '';\n",
              "          dataTable['output_type'] = 'display_data';\n",
              "          await google.colab.output.renderOutput(dataTable, element);\n",
              "          const docLink = document.createElement('div');\n",
              "          docLink.innerHTML = docLinkHtml;\n",
              "          element.appendChild(docLink);\n",
              "        }\n",
              "      </script>\n",
              "    </div>\n",
              "  </div>\n",
              "  "
            ]
          },
          "metadata": {},
          "execution_count": 100
        }
      ]
    },
    {
      "cell_type": "code",
      "source": [
        "dfs[4]['標案案號標案名稱'][0]"
      ],
      "metadata": {
        "colab": {
          "base_uri": "https://localhost:8080/",
          "height": 36
        },
        "id": "V5lJdFXfOsi7",
        "outputId": "7fa1302e-f659-4663-dcb9-218a5000dad8"
      },
      "execution_count": 101,
      "outputs": [
        {
          "output_type": "execute_result",
          "data": {
            "text/plain": [
              "'11211  var hw = Geps3.CNS.pageCode2Img(\"容積代金基金採購私有公共設施保留地線上投標系統案\");$(\"#1\").html(hw);'"
            ],
            "application/vnd.google.colaboratory.intrinsic+json": {
              "type": "string"
            }
          },
          "metadata": {},
          "execution_count": 101
        }
      ]
    },
    {
      "cell_type": "code",
      "source": [],
      "metadata": {
        "id": "p1WQvoiGPaBe"
      },
      "execution_count": null,
      "outputs": []
    },
    {
      "cell_type": "markdown",
      "source": [
        "## 讀取csv 轉存excel格式\n",
        "讀取政府資料開放平台實價登錄資料\n",
        "e.g.:\n",
        "\n",
        "https://data.kcg.gov.tw/dataset/d7bfc353-1617-42d8-a0e3-3cd2d99edb10/resource/20387f3d-6970-40a4-86f0-a5c33546e75d/download/111q2.csv\n"
      ],
      "metadata": {
        "id": "7tuItJ8jUSy9"
      }
    },
    {
      "cell_type": "code",
      "source": [
        "url = \"https://data.kcg.gov.tw/dataset/d7bfc353-1617-42d8-a0e3-3cd2d99edb10/resource/20387f3d-6970-40a4-86f0-a5c33546e75d/download/111q2.csv\""
      ],
      "metadata": {
        "id": "NLHD187YUq4c"
      },
      "execution_count": 102,
      "outputs": []
    },
    {
      "cell_type": "code",
      "source": [
        "df = pd.read_csv(url)"
      ],
      "metadata": {
        "id": "CGy1pqSPUszV"
      },
      "execution_count": null,
      "outputs": []
    },
    {
      "cell_type": "markdown",
      "source": [
        "### 將dataframe轉成不同格式\n"
      ],
      "metadata": {
        "id": "vEEhdY5RVY3v"
      }
    },
    {
      "cell_type": "code",
      "source": [
        "df.to_excel(\"實價登錄.xlsx\")"
      ],
      "metadata": {
        "id": "3PAClHFYUxR3"
      },
      "execution_count": null,
      "outputs": []
    }
  ]
}